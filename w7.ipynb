{
 "cells": [
  {
   "cell_type": "code",
   "execution_count": 3,
   "metadata": {},
   "outputs": [
    {
     "name": "stdout",
     "output_type": "stream",
     "text": [
      "Writing src/send.js\n"
     ]
    }
   ],
   "source": [
    "%%writefile src/send.js\n",
    "\n",
    "miner.setEtherbase(eth.accounts[0]);\n",
    "console.log('coinbase: ', eth.coinbase);\n",
    "var bal1=eth.getBalance(eth.coinbase);\n",
    "var bal2=eth.getBalance(eth.accounts[1]);\n",
    "console.log('sender balance in ether: ', web3.fromWei(bal1,\"ether\"));\n",
    "console.log('receiver balance in ether: ', web3.fromWei(bal2,\"ether\"));\n",
    "console.log('median gas price: ', eth.gasPrice);\n",
    "console.log('block number: ', eth.blockNumber);\n",
    "console.log('transaction count: ', eth.getTransactionCount(eth.coinbase));\n",
    "eth.sendTransaction({from:eth.coinbase, to:eth.accounts[1],value:10000});\n",
    "console.log('...mining start');\n",
    "miner.start(1);admin.sleepBlocks(1);miner.stop();\n",
    "console.log('mining done...');\n",
    "var bal1new=eth.getBalance(eth.coinbase);\n",
    "var bal2new=eth.getBalance(eth.accounts[1]);\n",
    "console.log('- new sender balance in ether: ', web3.fromWei(bal1new,\"ether\"));\n",
    "console.log('- new receiver balance in ether: ', web3.fromWei(bal2new,\"ether\"));\n",
    "console.log('- block number: ', eth.blockNumber);\n",
    "console.log('- transaction count: ', eth.getTransactionCount(eth.coinbase));"
   ]
  },
  {
   "cell_type": "code",
   "execution_count": 4,
   "metadata": {},
   "outputs": [
    {
     "name": "stdout",
     "output_type": "stream",
     "text": [
      "^C\n"
     ]
    },
    {
     "name": "stdout",
     "output_type": "stream",
     "text": [
      "coinbase:  0xf98c4e0e08992da6ca740c2d6fa3be52658eb8e1\n",
      "sender balance in ether:  565.999999999999998557\n",
      "receiver balance in ether:  0\n",
      "median gas price:  1000000000\n",
      "block number:  283\n",
      "transaction count:  13\n",
      "...mining start\n",
      "mining done...\n",
      "- new sender balance in ether:  567.999999999999988557\n",
      "- new receiver balance in ether:  1e-14\n",
      "- block number:  284\n",
      "- transaction count:  14\n",
      "null\n"
     ]
    }
   ],
   "source": [
    "! geth --jspath \"src\" --exec \"loadScript('send.js')\" attach http://localhost:8445"
   ]
  },
  {
   "cell_type": "code",
   "execution_count": 18,
   "metadata": {},
   "outputs": [
    {
     "name": "stdout",
     "output_type": "stream",
     "text": [
      "Overwriting src/web3ethCommands.js\n"
     ]
    }
   ],
   "source": [
    "%%writefile src/web3ethCommands.js\n",
    "var Web3 = require('web3');\n",
    "web3=new Web3(new Web3.providers.HttpProvider('http://localhost:8345'))\n",
    "web3.eth.getChainId().then(console.log);\n",
    "web3.eth.getAccounts(console.log);\n",
    "web3.eth.getCoinbase().then(console.log);\n",
    "web3.eth.getBlockNumber().then(console.log);\n",
    "web3.eth.getBalance('0x5d079E50462ABc57Fe98c1fA44280cB7908229fF').then(console.log);\n",
    "web3.eth.getNodeInfo().then(console.log);"
   ]
  },
  {
   "cell_type": "code",
   "execution_count": 19,
   "metadata": {},
   "outputs": [
    {
     "name": "stdout",
     "output_type": "stream",
     "text": [
      "\u001b[33m1337\u001b[39m\n",
      "\u001b[1mnull\u001b[22m [\n",
      "  \u001b[32m'0xE174B222197e84893Aed020A47Afc68DC1aB2748'\u001b[39m,\n",
      "  \u001b[32m'0x17ED3f148492bef854D9FC40C6C20171A55918D5'\u001b[39m,\n",
      "  \u001b[32m'0xc65d2cF30085e1995643E463d5FFb711Bc6a9126'\u001b[39m,\n",
      "  \u001b[32m'0x31feF284775E402eF5Bf08E6B2AB7F13B2Cc8b9d'\u001b[39m,\n",
      "  \u001b[32m'0xDF154E00d50895F19DCeE63224391364134fA583'\u001b[39m,\n",
      "  \u001b[32m'0xC4a1B49354b3022a9CaCe4641eacC1af219DE4f0'\u001b[39m,\n",
      "  \u001b[32m'0x0E39f70f5c00480E8eDeA2F191F9e3fCa6E26e0e'\u001b[39m,\n",
      "  \u001b[32m'0x3C678b74e63637e11551484eC69c204a1bD42353'\u001b[39m,\n",
      "  \u001b[32m'0x8e821f9Afe1F1b1D9a156952D47bbA81A1BeD37E'\u001b[39m,\n",
      "  \u001b[32m'0x8A912Dc59B458048DA038b8bB21cA06E0d3F3A86'\u001b[39m\n",
      "]\n",
      "0x0000000000000000000000000000000000000000\n",
      "\u001b[33m0\u001b[39m\n",
      "Ganache/v7.9.2/EthereumJS TestRPC/v7.9.2/ethereum-js\n",
      "0\n"
     ]
    },
    {
     "name": "stderr",
     "output_type": "stream",
     "text": [
      "(node:4140) [DEP0040] DeprecationWarning: The `punycode` module is deprecated. Please use a userland alternative instead.\n",
      "(Use `node --trace-deprecation ...` to show where the warning was created)\n"
     ]
    }
   ],
   "source": [
    "! node src/web3ethCommands.js"
   ]
  },
  {
   "cell_type": "markdown",
   "metadata": {},
   "source": []
  },
  {
   "cell_type": "code",
   "execution_count": 9,
   "metadata": {},
   "outputs": [
    {
     "name": "stdout",
     "output_type": "stream",
     "text": [
      "Writing src/web3accounts.js\n"
     ]
    }
   ],
   "source": [
    "%%writefile src/web3accounts.js\n",
    "var Web3 = require('web3');\n",
    "var web3 = new Web3('http://localhost:8345');\n",
    "web3.eth.getAccounts(function(err,res) { console.log(\"(1) accounts: \" + res); } );\n",
    "my=[]\n",
    "web3.eth.getAccounts(function(err, res) { for (x in res) { my.push(res[x]) } } );\n",
    "console.log(\"(2) accounts from array: \" + my[0]);"
   ]
  },
  {
   "cell_type": "code",
   "execution_count": 11,
   "metadata": {},
   "outputs": [
    {
     "name": "stdout",
     "output_type": "stream",
     "text": [
      "(2) accounts from array: undefined\n",
      "(1) accounts: 0xE174B222197e84893Aed020A47Afc68DC1aB2748,0x17ED3f148492bef854D9FC40C6C20171A55918D5,0xc65d2cF30085e1995643E463d5FFb711Bc6a9126,0x31feF284775E402eF5Bf08E6B2AB7F13B2Cc8b9d,0xDF154E00d50895F19DCeE63224391364134fA583,0xC4a1B49354b3022a9CaCe4641eacC1af219DE4f0,0x0E39f70f5c00480E8eDeA2F191F9e3fCa6E26e0e,0x3C678b74e63637e11551484eC69c204a1bD42353,0x8e821f9Afe1F1b1D9a156952D47bbA81A1BeD37E,0x8A912Dc59B458048DA038b8bB21cA06E0d3F3A86\n"
     ]
    },
    {
     "name": "stderr",
     "output_type": "stream",
     "text": [
      "(node:16072) [DEP0040] DeprecationWarning: The `punycode` module is deprecated. Please use a userland alternative instead.\n",
      "(Use `node --trace-deprecation ...` to show where the warning was created)\n"
     ]
    }
   ],
   "source": [
    "! node src/web3accounts.js"
   ]
  },
  {
   "cell_type": "code",
   "execution_count": 11,
   "metadata": {},
   "outputs": [
    {
     "name": "stdout",
     "output_type": "stream",
     "text": [
      "Overwriting src/web3account0.js\n"
     ]
    }
   ],
   "source": [
    "%%writefile src/web3account0.js\n",
    "var Web3 = require('web3');\n",
    "var web3 = new Web3('http://localhost:8345');\n",
    "var account0;\n",
    "async function getAccount0() {\n",
    "    accounts = await web3.eth.getAccounts(); // 비동기 함수인 getAccounts()가 끝날 때까지 기다림\n",
    "    account0=accounts[0];\n",
    "    console.log(\"local account0: \" + account0);\n",
    "}\n",
    "getAccount0()\n",
    "console.log(\"global account0: \" + account0);"
   ]
  },
  {
   "cell_type": "code",
   "execution_count": 20,
   "metadata": {},
   "outputs": [
    {
     "name": "stdout",
     "output_type": "stream",
     "text": [
      "global account0: undefined"
     ]
    },
    {
     "name": "stderr",
     "output_type": "stream",
     "text": [
      "(node:17496) [DEP0040] DeprecationWarning: The `punycode` module is deprecated. Please use a userland alternative instead.\n",
      "(Use `node --trace-deprecation ...` to show where the warning was created)\n"
     ]
    },
    {
     "name": "stdout",
     "output_type": "stream",
     "text": [
      "\n",
      "local account0: 0xE174B222197e84893Aed020A47Afc68DC1aB2748\n"
     ]
    }
   ],
   "source": [
    "!node src/web3account0.js"
   ]
  },
  {
   "cell_type": "code",
   "execution_count": 12,
   "metadata": {},
   "outputs": [
    {
     "name": "stdout",
     "output_type": "stream",
     "text": [
      "Writing src/web3utils.js\n"
     ]
    }
   ],
   "source": [
    "%%writefile src/web3utils.js\n",
    "var Web3 = require('web3');\n",
    "var web3 = new Web3('http://localhosst:8345');\n",
    "console.log(\"random hex: \", web3.utils.randomHex(32));    //generate random 32 byte hex\n",
    "console.log(\"234 hash: \", web3.utils.keccak256('234'));  //calculate keccak256 for '234'\n",
    "console.log(\"is address?: \",web3.utils.isAddress('0xf2a4f09c903a0a7b3450d9d16bbca14dea36aee1'));  //check if the input is a valid address\n",
    "console.log(\"안녕 in Hex: \"+web3.utils.utf8ToHex('안녕'));\n",
    "console.log(\"wei of 1 ether: \"+web3.utils.toWei('1', 'ether'));"
   ]
  },
  {
   "cell_type": "code",
   "execution_count": 21,
   "metadata": {},
   "outputs": [
    {
     "name": "stdout",
     "output_type": "stream",
     "text": [
      "random hex:  0x05f1f5221828e7910eb379d3b28b28c9425705ff082d2fdceed4bb4788a015b5\n",
      "234 hash:  0xc1912fee45d61c87cc5ea59dae311904cd86b84fee17cc96966216f811ce6a79\n",
      "is address?:  \u001b[33mtrue\u001b[39m\n",
      "안녕 in Hex: 0xec9588eb8595\n",
      "wei of 1 ether: 1000000000000000000\n"
     ]
    },
    {
     "name": "stderr",
     "output_type": "stream",
     "text": [
      "(node:2564) [DEP0040] DeprecationWarning: The `punycode` module is deprecated. Please use a userland alternative instead.\n",
      "(Use `node --trace-deprecation ...` to show where the warning was created)\n"
     ]
    }
   ],
   "source": [
    "!node src/web3utils.js"
   ]
  },
  {
   "cell_type": "code",
   "execution_count": 13,
   "metadata": {},
   "outputs": [
    {
     "name": "stdout",
     "output_type": "stream",
     "text": [
      "Writing scripts/simpleCoinbase.html\n"
     ]
    }
   ],
   "source": [
    "%%writefile scripts/simpleCoinbase.html\n",
    "<!doctype>\n",
    "<html>\n",
    "<head>\n",
    "<script src=\"https://cdn.jsdelivr.net/npm/web3@1.2.5/dist/web3.min.js\"></script>\n",
    "<!-- script src=\"https://cdn.jsdelivr.net/npm/web3@0.20.5/dist/web3.min.js\"></script -->\n",
    "<script type=\"text/javascript\">\n",
    "    //var Web3 = require('web3');\n",
    "    var web3 = new Web3(new Web3.providers.HttpProvider(\"http://localhost:8345\"));\n",
    "\n",
    "    function displayCoinbase() {\n",
    "        var web3version = web3.version;  //web3.version.api\n",
    "        //web3@0.20.x\n",
    "        //document.getElementById('web3ver').innerText = 'web3 version 0.20.x: '+web3version.api;\n",
    "        //document.getElementById('web3coinbase').innerText = 'coinbase: ' + web3.eth.coinbase;\n",
    "        //web3@1.2.x\n",
    "        document.getElementById('web3ver').innerText = 'web3 version: '+web3version;\n",
    "        web3.eth.getCoinbase().then(function(coin) {\n",
    "            document.getElementById('web3coinbase').innerText = 'coinbase: ' + coin;\n",
    "            });\n",
    "    }\n",
    "</script>\n",
    "</head>\n",
    "<body>\n",
    "    <h1>Hello</h1>\n",
    "    <button type=\"button\" onClick=\"displayCoinbase();\">Display Coinbase</button>\n",
    "    <div></div>\n",
    "    <div id=\"web3ver\"></div>\n",
    "    <div id=\"web3coinbase\"></div>\n",
    "</body>\n",
    "</html>"
   ]
  },
  {
   "cell_type": "code",
   "execution_count": 23,
   "metadata": {},
   "outputs": [
    {
     "ename": "SyntaxError",
     "evalue": "invalid syntax (1573614103.py, line 1)",
     "output_type": "error",
     "traceback": [
      "\u001b[1;36m  Cell \u001b[1;32mIn[23], line 1\u001b[1;36m\u001b[0m\n\u001b[1;33m    python -m http.server 8045 --bind localhost\u001b[0m\n\u001b[1;37m              ^\u001b[0m\n\u001b[1;31mSyntaxError\u001b[0m\u001b[1;31m:\u001b[0m invalid syntax\n"
     ]
    }
   ],
   "source": [
    "# python -m http.server 8045 --bind localhost\n",
    "\n",
    "\n",
    "\n",
    "\n",
    "# node_modules\\.bin\\ganache -p 8345"
   ]
  }
 ],
 "metadata": {
  "kernelspec": {
   "display_name": "Python 3",
   "language": "python",
   "name": "python3"
  },
  "language_info": {
   "codemirror_mode": {
    "name": "ipython",
    "version": 3
   },
   "file_extension": ".py",
   "mimetype": "text/x-python",
   "name": "python",
   "nbconvert_exporter": "python",
   "pygments_lexer": "ipython3",
   "version": "3.11.5"
  }
 },
 "nbformat": 4,
 "nbformat_minor": 2
}
