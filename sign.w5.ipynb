{
 "cells": [
  {
   "cell_type": "code",
   "execution_count": 17,
   "metadata": {},
   "outputs": [],
   "source": [
    "#- (1) 원본 \"내일 10시 회의합니다.\" 메시지를 서명하고, 서명을 화면출력\n",
    "\n",
    "#- (2) 원본과 동일한 내용의 메시지가 원본과 일치하는지 인증하고, 결과를 화면출력\n",
    "\n",
    "#- (3) \"내일 오후 10시 회의합니다.\"로 원본을 위조한 후, 인증하고 결과를 화면출력\n",
    "\n",
    "#- (4) 서명에 사용된 공개키를 구해서 화면출력 (구한 공개키가 서명에 사용된 키와 동일한지 확인)"
   ]
  },
  {
   "cell_type": "code",
   "execution_count": 16,
   "metadata": {},
   "outputs": [
    {
     "name": "stdout",
     "output_type": "stream",
     "text": [
      "signature: HBr2JfdYAVea8+hckQUD5N0elYl5StiS2cH3u5uC/wBIdwPShs+qDArkp5b2SVLc+tdMFGzOR0WW9yNLj3fdWPg=\n",
      "verified: True\n",
      "verified: False\n",
      "recoverPublicKey: 0485ce4ade93002453940d7a8174b528784db17de68a08e7f8994e0f8f31ab7f7b4cd795f7e1da8ae13fe4de0b7e21576a3beefab3e086b696fd445af52133eb5b\n",
      "recover check\n"
     ]
    }
   ],
   "source": [
    "import bitcoin\n",
    "\n",
    "massage = \"내일 10시 회의합니다.\"\n",
    "\n",
    "privateKey = bitcoin.sha256(\"talk to meeting\")# talk to meeting으로 privKey 생성\n",
    "publicKey = bitcoin.privtopub(privateKey)# privateKey로 publicKey생성\n",
    "address = bitcoin.pubtoaddr(publicKey)# publicKey로 address 생성\n",
    "\n",
    "signature = bitcoin.ecdsa_sign(massage, privateKey)# message를 privateKey를 이용하여 ecdsa처리\n",
    "\n",
    "print(\"signature: \" + signature)\n",
    "\n",
    "verify = bitcoin.ecdsa_verify(massage, signature, publicKey)# signature를 publicKey를 이용하여 decoding후 massage와 비교\n",
    "\n",
    "print(\"verified: \" + str(verify))\n",
    "\n",
    "newMassage = \"내일 오후 10시 회의합니다.\"\n",
    "\n",
    "verify = bitcoin.ecdsa_verify(newMassage, signature, publicKey)# massage를 변조해서 verify 진행\n",
    "\n",
    "print(\"verified: \" + str(verify))\n",
    "\n",
    "recoverPublicKey = bitcoin.ecdsa_recover(massage, signature)# massage와 signature를 이용해서 publicKey를 복구\n",
    "\n",
    "print(\"recoverPublicKey: \" + recoverPublicKey)\n",
    "\n",
    "if(recoverPublicKey == publicKey):\n",
    "    print(\"recover check\")"
   ]
  }
 ],
 "metadata": {
  "kernelspec": {
   "display_name": "Python 3",
   "language": "python",
   "name": "python3"
  },
  "language_info": {
   "codemirror_mode": {
    "name": "ipython",
    "version": 3
   },
   "file_extension": ".py",
   "mimetype": "text/x-python",
   "name": "python",
   "nbconvert_exporter": "python",
   "pygments_lexer": "ipython3",
   "version": "3.11.5"
  }
 },
 "nbformat": 4,
 "nbformat_minor": 2
}
