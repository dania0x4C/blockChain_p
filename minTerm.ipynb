{
 "cells": [
  {
   "cell_type": "markdown",
   "metadata": {},
   "source": [
    "202010801 이정민 휴먼지능정보공학과"
   ]
  },
  {
   "cell_type": "code",
   "execution_count": null,
   "metadata": {},
   "outputs": [],
   "source": [
    "# node_modules\\.bin\\ganache -p 8345"
   ]
  },
  {
   "cell_type": "code",
   "execution_count": 31,
   "metadata": {},
   "outputs": [
    {
     "name": "stdout",
     "output_type": "stream",
     "text": [
      "Overwriting src/accountNum.js\n"
     ]
    }
   ],
   "source": [
    "%%writefile src/accountNum.js\n",
    "var Web3 = require('web3');\n",
    "var web3 = new Web3('http://localhost:12345');\n",
    "web3.eth.getAccounts().then(ac => { console.log(ac[0]); })\n",
    "web3.eth.getAccounts().then(ac => { console.log(ac[1]); })\n",
    "web3.eth.getAccounts().then(ac => { console.log(ac[2]); })\n",
    "web3.eth.getBalance('0x1B7A18023f6c45f16b4B39784FEd963Aa7d9009a').then(console.log);\n",
    "web3.eth.getBalance('0x3Debe783DB0d5c4360e8fB7f3623BbdD3b37C76C').then(console.log);\n"
   ]
  },
  {
   "cell_type": "code",
   "execution_count": 100,
   "metadata": {},
   "outputs": [
    {
     "name": "stdout",
     "output_type": "stream",
     "text": [
      "Overwriting src/Transaction.js\n"
     ]
    }
   ],
   "source": [
    "%%writefile src/Transaction.js\n",
    "var Web3 = require('web3');\n",
    "var web3 = new Web3('http://localhost:12345');\n",
    "web3.eth.sendTransaction({from: '0x1B7A18023f6c45f16b4B39784FEd963Aa7d9009a', to: '0x3Debe783DB0d5c4360e8fB7f3623BbdD3b37C76C', price: '1122'})\n",
    "console.log(\"sending\")\n",
    "web3.eth.getBalance('0x1B7A18023f6c45f16b4B39784FEd963Aa7d9009a').then(console.log);\n",
    "console.log(\"Sent to\")\n",
    "web3.eth.getBalance('0x3Debe783DB0d5c4360e8fB7f3623BbdD3b37C76C').then(console.log);\n",
    "console.log(\"gasUsedPrice\")\n",
    "web3.eth.getGasPrice().then(console.log);\n",
    "console.log(\"gasUsedPriceEther\")\n",
    "//var bal = web3.eth.getGasPrice()\n",
    "//fromWei(bal, \"ether\").then(console.log);\n",
    "console.log('nonce')\n",
    "web3.eth.getTransactionCount(\"0x1B7A18023f6c45f16b4B39784FEd963Aa7d9009a\").then(console.log);\n"
   ]
  },
  {
   "cell_type": "code",
   "execution_count": 46,
   "metadata": {},
   "outputs": [
    {
     "name": "stdout",
     "output_type": "stream",
     "text": [
      "0x1B7A18023f6c45f16b4B39784FEd963Aa7d9009a\n",
      "0x3Debe783DB0d5c4360e8fB7f3623BbdD3b37C76C\n",
      "0xa9120aaA56953f05d16356C1b70E96c4218E789C\n",
      "999999860543659375000\n",
      "1000000000000000000000\n"
     ]
    },
    {
     "name": "stderr",
     "output_type": "stream",
     "text": [
      "(node:14408) [DEP0040] DeprecationWarning: The `punycode` module is deprecated. Please use a userland alternative instead.\n",
      "(Use `node --trace-deprecation ...` to show where the warning was created)\n"
     ]
    }
   ],
   "source": [
    "! node src/accountNum.js "
   ]
  },
  {
   "cell_type": "code",
   "execution_count": 99,
   "metadata": {},
   "outputs": [
    {
     "name": "stdout",
     "output_type": "stream",
     "text": [
      "sending\n",
      "Sent to\n",
      "gasUsedPrice\n",
      "gasUsedPriceEther\n",
      "nonce\n",
      "2000000000\n",
      "999999252514992808000\n",
      "1000000000000000000000\n",
      "\u001b[33m12\u001b[39m\n"
     ]
    },
    {
     "name": "stderr",
     "output_type": "stream",
     "text": [
      "(node:8356) [DEP0040] DeprecationWarning: The `punycode` module is deprecated. Please use a userland alternative instead.\n",
      "(Use `node --trace-deprecation ...` to show where the warning was created)\n"
     ]
    }
   ],
   "source": [
    "! node src/Transaction.js "
   ]
  },
  {
   "cell_type": "code",
   "execution_count": 110,
   "metadata": {},
   "outputs": [
    {
     "name": "stdout",
     "output_type": "stream",
     "text": [
      "Overwriting src/BalanceSum.js\n"
     ]
    }
   ],
   "source": [
    "%%writefile src/BalanceSum.js\n",
    "var Web3 = require('web3');\n",
    "var web3 = new Web3('http://localhost:12345');\n",
    "var sum = 0\n",
    "\n",
    "for i in range(10):\n",
    "    sum += web3.eth.getBalance(web3.eth.getAccounts())  \n",
    "\n",
    "    \n"
   ]
  },
  {
   "cell_type": "code",
   "execution_count": 111,
   "metadata": {},
   "outputs": [
    {
     "name": "stderr",
     "output_type": "stream",
     "text": [
      "c:\\Users\\ljm31\\OneDrive\\바탕 화면\\학교 자료\\24년도 1학기 수업자료\\blockChain\\src\\BalanceSum.js:5\n",
      "for (i=0) in range(10):\n",
      "        ^\n",
      "\n",
      "SyntaxError: Unexpected token ')'\n",
      "\u001b[90m    at internalCompileFunction (node:internal/vm:77:18)\u001b[39m\n",
      "\u001b[90m    at wrapSafe (node:internal/modules/cjs/loader:1288:20)\u001b[39m\n",
      "\u001b[90m    at Module._compile (node:internal/modules/cjs/loader:1340:27)\u001b[39m\n",
      "\u001b[90m    at Module._extensions..js (node:internal/modules/cjs/loader:1435:10)\u001b[39m\n",
      "\u001b[90m    at Module.load (node:internal/modules/cjs/loader:1207:32)\u001b[39m\n",
      "\u001b[90m    at Module._load (node:internal/modules/cjs/loader:1023:12)\u001b[39m\n",
      "\u001b[90m    at Function.executeUserEntryPoint [as runMain] (node:internal/modules/run_main:135:12)\u001b[39m\n",
      "\u001b[90m    at node:internal/main/run_main_module:28:49\u001b[39m\n",
      "\n",
      "Node.js v21.1.0\n"
     ]
    }
   ],
   "source": [
    "! node src/BalanceSum.js "
   ]
  }
 ],
 "metadata": {
  "kernelspec": {
   "display_name": "Python 3",
   "language": "python",
   "name": "python3"
  },
  "language_info": {
   "codemirror_mode": {
    "name": "ipython",
    "version": 3
   },
   "file_extension": ".py",
   "mimetype": "text/x-python",
   "name": "python",
   "nbconvert_exporter": "python",
   "pygments_lexer": "ipython3",
   "version": "3.11.5"
  }
 },
 "nbformat": 4,
 "nbformat_minor": 2
}
