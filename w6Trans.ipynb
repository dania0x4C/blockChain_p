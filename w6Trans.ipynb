{
 "cells": [
  {
   "cell_type": "code",
   "execution_count": 1,
   "metadata": {},
   "outputs": [],
   "source": [
    "# - 강의 자료의 ABI 명세 > 4. 함수호출 > web3.eth.sendTransaction(...) 함수를 실행한다.\n",
    "#     - 송금자 0번째 계정\n",
    "#     - 송금액 111 wei를 전송\n",
    "# - 마이닝 실행하고, 마이닝 전 후의 txpool.inspect를 출력\n",
    "# - 송금 전의 잔고와 후의 잔고를 출력하고 (송금액만큼 차감되었는지 확인)\n",
    "# - 마이닝 전의 블록번호와 후의 블록번호를 출력\n",
    "# testSend.js 프로그램을 작성하고, 실행한다 (geth --exec \"loadScript..\")\n",
    "\n",
    "# 대략 다음과 같이 출력되도록 한다 (한글은 설명을 추가한 것임).\n",
    "# 출력 예시:\n",
    "# balance in Wei:  2.4489013749999999990337e+22\n",
    "# blocknumber:  4884\n",
    "# txpool {\"pending\":{\"0xC8Ea4C4e655F8152aDC075a649AA7ec35564C7C0\":{\"57\":\"0x672807a8c0F72a52D759942e86cFE33264E73934: 111 wei + 400000 gas 횞 1000000000 wei\"}},\"queued\":{}}\n",
    "# 여기서 마이닝을 실행한다\n",
    "# ..txpool {\"pending\":{},\"queued\":{}}  마이닝하고 나서 대기거래 소멸\n",
    "# ..balance in Wei:  2.4494013749999999990226e+22 잔고 337에서 226으로 감소\n",
    "# ..blocknumber:  4885 블록번호 1증가\n",
    "# - geth@8445 단말에 (1) 거래를 시작할 때, (2) 거래를 마이닝할 때, (3) 마이닝 끝날 때 어떤 로그가 출력되는지 적으세요\n",
    "\n",
    "# (단말의 로그에서 그 부분을 선별적으로 복사해서 붙여넣기 해도 된다)"
   ]
  },
  {
   "cell_type": "code",
   "execution_count": 62,
   "metadata": {},
   "outputs": [
    {
     "name": "stdout",
     "output_type": "stream",
     "text": [
      "Overwriting src/testSend.js\n"
     ]
    }
   ],
   "source": [
    "%%writefile src/testSend.js\n",
    "miner.setEtherbase(eth.accounts[0])\n",
    "web3.eth.sendTransaction({from: eth.accounts[0], to: \"0x672807a8c0f72a52d759942e86cfe33264e73934\", value: 111})\n",
    "console.log('Balance in Wei: ',  eth.getBalance(eth.accounts[0]));\n",
    "console.log('blocknumber: ', eth.blockNumber);\n",
    "console.log('before mining: ', JSON.stringify(txpool.inspect));\n",
    "miner.start(1);admin.sleepBlocks(1);miner.stop();\n",
    "console.log('after mining: ', JSON.stringify(txpool.inspect));\n",
    "console.log('Balance in Wei: ',  eth.getBalance(eth.accounts[0]));\n",
    "console.log('blocknumber: ', eth.blockNumber);"
   ]
  },
  {
   "cell_type": "code",
   "execution_count": 2,
   "metadata": {},
   "outputs": [
    {
     "name": "stdout",
     "output_type": "stream",
     "text": [
      "Balance in Wei:  567999999999999988557\n",
      "blocknumber:  284\n",
      "before mining:  {\"pending\":{\"0xF98C4e0E08992dA6CA740C2D6Fa3Be52658EB8E1\":{\"14\":\"0x672807a8c0F72a52D759942e86cFE33264E73934: 111 wei + 21000 gas × 1000000000 wei\"}},\"queued\":{}}\n",
      "after mining:  {\"pending\":{},\"queued\":{}}\n",
      "Balance in Wei:  569999999999999988446\n",
      "blocknumber:  285\n",
      "null\n"
     ]
    }
   ],
   "source": [
    "# ! geth --exec \"loadScript('src/testSend.js')\" attach http://localhost:8445"
   ]
  },
  {
   "cell_type": "code",
   "execution_count": null,
   "metadata": {},
   "outputs": [],
   "source": [
    "#INFO [04-14|02:41:15.511] Submitted transaction// 거래시작             \n",
    "#   hash=0xba10b40d849268dfbd96fdbc7e2410743a4e8183d6698f0ab6a11a631d4e5294 from=0xF98C4e0E08992dA6CA740C2D6Fa3Be52658EB8E1 nonce=12 recipient=0x672807a8c0F72a52D759942e86cFE33264E73934 value=111\n",
    "\n",
    "#[04-14|02:41:15.515] Updated mining threads// 거래를 마이닝 중                \n",
    "#   threads=1\n",
    "#INFO [04-14|02:41:15.515] Transaction pool price threshold updated price=1,000,000,000\n",
    "#INFO [04-14|02:41:15.516] Commit new sealing work               \n",
    "#   number=283 sealhash=032d98..542eb5 uncles=0 txs=0 gas=0 fees=0 elapsed=0s\n",
    "#INFO [04-14|02:41:15.517] Commit new sealing work               \n",
    "#   number=283 sealhash=ac2eab..4cc1db uncles=0 txs=1 gas=21000 fees=2.1e-05 elapsed=1.073ms\n",
    "\n",
    "#INFO [04-14|02:41:17.841] Successfully sealed new block// 마이닝성공      \n",
    "#   number=283 sealhash=ac2eab..4cc1db hash=e07fb2..1cca75 elapsed=2.324s\n",
    "#INFO [04-14|02:41:17.842] Commit new sealing work               \n",
    "#   number=284 sealhash=37430c..5247cb uncles=0 txs=0 gas=0     fees=0       elapsed=1.006ms\n",
    "#INFO [04-14|02:41:17.842] \"🔨 mined potential block\"          \n",
    "#    number=283 hash=e07fb2..1cca75\n",
    "#INFO [04-14|02:41:17.843] Commit new sealing work               \n",
    "#   number=284 sealhash=37430c..5247cb uncles=0 txs=0 gas=0     fees=0       elapsed=2.024ms"
   ]
  },
  {
   "cell_type": "code",
   "execution_count": null,
   "metadata": {},
   "outputs": [],
   "source": [
    "# 질문 강의 자료에는 from만 필수라고 적혀있는데 왜 to를 안 적으면 오류가 생기는지 궁금하다"
   ]
  },
  {
   "cell_type": "code",
   "execution_count": null,
   "metadata": {},
   "outputs": [],
   "source": []
  }
 ],
 "metadata": {
  "kernelspec": {
   "display_name": "Python 3",
   "language": "python",
   "name": "python3"
  },
  "language_info": {
   "codemirror_mode": {
    "name": "ipython",
    "version": 3
   },
   "file_extension": ".py",
   "mimetype": "text/x-python",
   "name": "python",
   "nbconvert_exporter": "python",
   "pygments_lexer": "ipython3",
   "version": "3.11.5"
  }
 },
 "nbformat": 4,
 "nbformat_minor": 2
}
