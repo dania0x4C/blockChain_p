{
 "cells": [
  {
   "cell_type": "code",
   "execution_count": 8,
   "metadata": {},
   "outputs": [
    {
     "name": "stdout",
     "output_type": "stream",
     "text": [
      "Overwriting src/ethCommands.js\n"
     ]
    }
   ],
   "source": [
    "%%writefile src/ethCommands.js\n",
    "\n",
    "const firstAccount = eth.accounts[0];\n",
    "const secondAccount = eth.accounts[1];\n",
    "const firstBal = eth.getBalance(firstAccount);\n",
    "const secondBal = eth.getBalance(secondAccount);\n",
    "\n",
    "console.log('this is a firstAccount')\n",
    "console.log('balance in Wei: ', firstBal);\n",
    "console.log('balance in ether: ', web3.fromWei(firstBal, \"ether\"));\n",
    "\n",
    "console.log('this is a secondAccount')\n",
    "console.log('balance in Wei: ', secondBal);\n",
    "console.log('balance in ether: ', web3.fromWei(secondBal, \"ether\"));\n",
    "\n",
    "console.log('blocknumber: ', eth.blockNumber);\n",
    "console.log('coinbase: ',eth.coinbase );\n"
   ]
  },
  {
   "cell_type": "code",
   "execution_count": 9,
   "metadata": {},
   "outputs": [
    {
     "name": "stdout",
     "output_type": "stream",
     "text": [
      "this is a firstAccount\n",
      "balance in Wei:  2.394e+21\n",
      "balance in ether:  2394\n",
      "this is a secondAccount\n",
      "balance in Wei:  0\n",
      "balance in ether:  0\n",
      "blocknumber:  1197\n",
      "coinbase:  0xf98c4e0e08992da6ca740c2d6fa3be52658eb8e1\n",
      "null\n"
     ]
    }
   ],
   "source": [
    "! geth --jspath \"src\" --exec \"loadScript('ethCommands.js')\" attach http://localhost:8445"
   ]
  }
 ],
 "metadata": {
  "kernelspec": {
   "display_name": "Python 3",
   "language": "python",
   "name": "python3"
  },
  "language_info": {
   "codemirror_mode": {
    "name": "ipython",
    "version": 3
   },
   "file_extension": ".py",
   "mimetype": "text/x-python",
   "name": "python",
   "nbconvert_exporter": "python",
   "pygments_lexer": "ipython3",
   "version": "3.11.5"
  }
 },
 "nbformat": 4,
 "nbformat_minor": 2
}
