{
 "cells": [
  {
   "cell_type": "code",
   "execution_count": 8,
   "metadata": {},
   "outputs": [],
   "source": [
    "# geth --syncmode snap --cache=1024 console\n",
    "\n",
    "# mainNetwork에 연결// 내부캐시크기 1024로 지정"
   ]
  },
  {
   "cell_type": "code",
   "execution_count": 7,
   "metadata": {},
   "outputs": [],
   "source": [
    "# geth --goerli\n",
    "\n",
    "# testNetwork에 접속\n",
    "# 만약 안 된다면 작업관리자에서 geth 종료"
   ]
  },
  {
   "cell_type": "code",
   "execution_count": 1,
   "metadata": {},
   "outputs": [
    {
     "name": "stdout",
     "output_type": "stream",
     "text": [
      "Writing src/fileName.js\n"
     ]
    }
   ],
   "source": [
    "%%writefile src/fileName.js\n",
    "# 블록체인 사적망 환경설정\n",
    "{\n",
    "  \"config\": {\n",
    "    \"chainId\": 412,# chain의 아이디 - 5이상의 충돌나지 않는 수 사용\n",
    "    \"homesteadBlock\": 0,# homesteadBlock의 시작 블록을 의미\n",
    "    \"eip150Block\": 0,\n",
    "    \"eip155Block\": 0,\n",
    "    \"eip158Block\": 0,\n",
    "    \"byzantiumBlock\": 0,\n",
    "    \"constantinopleBlock\": 0,\n",
    "    \"petersburgBlock\": 0\n",
    "  },\n",
    "  \"nonce\": \"0x0000000000000033\",# PoW에 따라 서명된 횟수(데이터를 블록체인으로 저장하면 해싱을 해야하는데 같은 값을 해싱하면 똑같은 값이 나온다 그래서 값에 nonce값을 추가해서 해싱을 시키고 값을 해싱해주어 값이 계속 다르게 나오게 만들어준다.)\n",
    "  \"timestamp\": \"0x0\",# 시간 조절로 난이도 조절\n",
    "  \"parentHash\": \"0x0000000000000000000000000000000000000000000000000000000000000000\",\n",
    "  \"gasLimit\": \"0x8000000\",# 거래가능한  gas값의 한도 지정\n",
    "  \"difficulty\": \"0x100\",# 마이밍 자체 난이도\n",
    "  \"mixhash\": \"0x0000000000000000000000000000000000000000000000000000000000000000\",\n",
    "  \"coinbase\": \"0x3333333333333333333333333333333333333333\",\n",
    "  \"alloc\": {}\n",
    "}\n",
    "\n",
    "geth --datadir .\\eth init _genesis.json"
   ]
  },
  {
   "cell_type": "markdown",
   "metadata": {},
   "source": [
    "nonce에 할당된 값의 의미"
   ]
  },
  {
   "cell_type": "markdown",
   "metadata": {},
   "source": [
    "```\n",
    "    \"eip150Block\": 0,\n",
    "    \"eip155Block\": 0,\n",
    "    \"eip158Block\": 0,\n",
    "```"
   ]
  },
  {
   "cell_type": "markdown",
   "metadata": {},
   "source": [
    "설정 | 설명\n",
    "-------|-------\n",
    "config | 설정하지 않아도 된다.\n",
    "mixhash | 256 bit hash 값. ```블록 헤더의 nonce, timestamp, 앞 블록의 hash, 마이너 주소```를 합쳐서 (mix) 만들어진 hash. 블록에 대해 충분한 작업 증명이 되었다는 의미로 쓰임.\n",
    "nonce | 64 bit hash 값. 이 값과 블록체인의 해시값이 더해지고, 이 값을 맞추려면 일정한 양의 수학적 계산이 필요하다. 따라서 ```블록이 PoW에 따라 마이닝되고 검증되었다는 의미```이다.\n",
    "difficulty | 마이닝 난이도로서, 당연히 높으면 마이닝하려면 오래 걸림. 블록에서는 이전 블록의 1) 난이도와 2) timestamp에 따라 결정되지만 genesis block은 이전 블록이 없으므로 임의로 정하게 된다. 낮게 설정해서 대기시간을 줄이는 편이 좋다.(블록체인의 시간당 생성의 안정화 즉, 시간당 생산량이 많으면 값이 올라가고 생산량이 낮으면 값이 낮아진다.)\n",
    "alloc | 사전 판매된 계정과 잔고. ```\"alloc\": {\"0x..\": { \"balance\": \"Wei\" }}``` 로컬은 충전이 쉬워 비워놓음. (초기에 암호화폐를 만든 혹은 가지고 있는 사람들의 정보)\n",
    "coinbase | 160 bit 주소. ```마이닝 보상을 가져가는 계정 주소(주 계정을 생각하면 된다)```. 실제 **마이닝하면서 정해지기 때문에 어떤 주소**를 적어도 좋다. \n",
    "timestamp | 블럭 사이의 timestamp길이가 짧으면 난이도를 높이게 된다.\n",
    "parentHash | Keccak 256-bit hash로 부모 블록 헤더 (nonce와 mixhash포함)\n",
    "extraData | 최대 32 byte. 다른 용도를 대비한 공간.\n",
    "gasLimit | 블록 당 최대 소비 제한 gas. 높게 설정해서 out-of-gas과 같은 오류를 줄일 수 있다. (거래할때 gas를 내는데 임의로 gas값의 한도를 정해두어서 거래 가능량을 정해두는 것)\n",
    "\n",
    "또한 ```config```에 다음 옵션을 설정할 수 있다.\n",
    "\n",
    "* ChainId(keyValue값) - ```네트워크 ID와 같은 값```으로 정해서 적는다. ID번호 4 이하는 공중망에 배정되었으므로 사용하지 않는다. **사설망의 ChainId가 동일하면, genesis id가 같으면 Peer로 연결**될 수 있다. 즉 **공중망의 동일한 ChainId를 사용하는 다른 컴퓨터**가 연결될 수 있다. 이 경우 bootnodes를 정해서 연결될 Peer를 제한할 수 있다.```peer to peer p2p```\n",
    "* homesteadBlock - 1번 main 네트워크에 접속을 하면 homesteadBlock이 분기된 1150000, Morden은 494000로 설정되어 있다. 그 블록에서 각 각 hard fork가 일어났기 때문이다. 0으로 설정하면, 첫 Genesis 블록부터 Homestead라는 의미이다.\n",
    "* eip150Block - ```EIP-150은 가스 가격(Gas Price) 계산 방식을 개선하기 위한 제안이다.``` eip150block은 EIP-150의 일부로, 이 개선 제안이 어떤 블록부터 적용되기 시작하는지를 나타내는 값이다. 보통은 하드 포크가 발생하는 특정 블록 번호로 설정한다. 0으로 설정되어 있다면, EIP-150의 변경 사항이 Genesis 블록부터 적용된다는 것을 의미하고, 즉 Ethereum 블록 체인이 시작될 때부터 새로운 가스 가격 계산 방식이 적용되었음을 나타낸다.\n",
    "* eip155Block - ```EIP155는 서명에 체인 ID를 포함시켜서 같은 네트워크 ID를 가진 다른 블록체인과의 서명 충돌을 방지하기 위한 목적으```로 사용한다. eip155block이 0인 경우, Genesis 블록부터 서명에 체인 ID가 포함되어 있었다는 뜻으로 특별한 조치가 필요하지 않다는 의미이다.\n",
    "* eip158Block - ```EIP158은 상태 트리(State Trie) 구조를 변경하는 제안으로 공계정과 관련하여, 이를 없는 것으로 처리하여 블록체인을 절약????```하기 위한 것이다."
   ]
  },
  {
   "cell_type": "code",
   "execution_count": 6,
   "metadata": {},
   "outputs": [],
   "source": [
    "\n",
    "%%writefile _getNow.bat\n",
    "\n",
    "# geth --identity \"ljm31\" --allow-insecure-unlock --unlock 0 --datadir .\\eth --ws --ws.port 8446 --ws.origins \"*\" --http --http.addr \"localhost\" --http.port \"8445\" --http.corsdomain \"*\" --http.api \"admin, db, eth, debug, miner, net, shh, txpool, web3\" --port \"38445\" --networkid 33\n",
    "\n",
    "\n",
    "# private망 시작코드                                                                                             "
   ]
  },
  {
   "cell_type": "code",
   "execution_count": null,
   "metadata": {},
   "outputs": [],
   "source": [
    "# geth attach http://localhost:8445\n",
    "\n",
    "# 사설망 접속"
   ]
  },
  {
   "cell_type": "code",
   "execution_count": null,
   "metadata": {},
   "outputs": [],
   "source": [
    "# miner.setEtherbase(eth.accounts[0]) # 주계정 설정\n",
    "\n",
    "# miner.start()# 마이닝 시작\n",
    "\n",
    "# miner.stop()# 마이닝 종료\n"
   ]
  },
  {
   "cell_type": "code",
   "execution_count": 9,
   "metadata": {},
   "outputs": [],
   "source": [
    "# 멀티노드를 구하기?"
   ]
  },
  {
   "cell_type": "code",
   "execution_count": 19,
   "metadata": {},
   "outputs": [],
   "source": [
    "# eth 명령어 js로 가능\n",
    "\n",
    "# eth.accounts[0]# 계정 조회\n",
    "\n",
    "# eth.getBalance(eth.account[0])# 계정의 잔고\n",
    "\n",
    "# web3.fromWei(eth.getBalance(eth.account[0]), \"ether\")\n",
    "\n",
    "#블럭의 수 eth.blockNumber# 블록의 수\n",
    "\n",
    "#eth.coinbase# 주계정\n",
    "\n",
    "#admin.nodeInfo# node 자신과 관련한 정보를 제공\n",
    "\n",
    "# txpool.inspect# 거래가 마이닝되기 전에 transaction pool의 상황을 보여줌\n",
    "# txpool.status\n",
    "\n",
    "# geth --datadir ./eth account new# 새로운 주소 생성\n",
    "\n",
    "# eth.getTransactionCount(eth.accounts[0])// nonce\n",
    "\n",
    "# miner.start(1);admin.sleepBlocks(1);miner.stop()# 간단하게 한 건의 마이닝 실행"
   ]
  },
  {
   "cell_type": "code",
   "execution_count": 10,
   "metadata": {},
   "outputs": [],
   "source": [
    "# 다른 위치 파일 geth로 실행하는 방법\n",
    "# geth --jspath \"src\" --exec (지우고 명령어) attach http://localhost:8445\n",
    "# 1. \"loadScript('파일명.js')\"\n",
    "# 2. 명령어 \n"
   ]
  },
  {
   "cell_type": "markdown",
   "metadata": {},
   "source": [
    "```python\n",
    "\n",
    "admin.addPeer              admin.getDatadir           admin.nodeInfo             admin.sleepBlocks          admin.toString\n",
    "admin.addTrustedPeer       admin.getNodeInfo          admin.peers                admin.startRPC             admin.valueOf\n",
    "admin.clearHistory         admin.getPeers             admin.propertyIsEnumerable admin.startWS\n",
    "admin.constructor          admin.hasOwnProperty       admin.removePeer           admin.stopRPC\n",
    "admin.datadir              admin.importChain          admin.removeTrustedPeer    admin.stopWS\n",
    "admin.exportChain          admin.isPrototypeOf        admin.sleep                admin.toLocaleString\n",
    "\n",
    "miner.constructor          miner.isPrototypeOf        miner.setExtra             miner.start                miner.toString\n",
    "miner.getHashrate          miner.propertyIsEnumerable miner.setGasPrice          miner.stop                 miner.valueOf\n",
    "miner.hasOwnProperty       miner.setEtherbase         miner.setRecommitInterval  miner.toLocaleString\n",
    "```"
   ]
  },
  {
   "cell_type": "code",
   "execution_count": 12,
   "metadata": {},
   "outputs": [],
   "source": [
    "# 문자열 해싱 --> 개인키 --(ECDSA)--> 공개키 --(Keccak-256 해싱, BASE58Chcek)--> 주소"
   ]
  },
  {
   "cell_type": "code",
   "execution_count": 16,
   "metadata": {},
   "outputs": [
    {
     "name": "stdout",
     "output_type": "stream",
     "text": [
      "Writing src/hashing.ipynb\n"
     ]
    }
   ],
   "source": [
    "%%writefile src/hashing.ipynb\n",
    "import bitcoin\n",
    "\n",
    "massage = \"내일 10시 회의합니다.\"\n",
    "\n",
    "privateKey = bitcoin.sha256(\"talk to meeting\")# talk to meeting으로 privKey 생성\n",
    "publicKey = bitcoin.privtopub(privateKey)# privateKey로 publicKey생성\n",
    "address = bitcoin.pubtoaddr(publicKey)# publicKey로 address 생성\n",
    "\n",
    "signature = bitcoin.ecdsa_sign(massage, privateKey)# message를 privateKey를 이용하여 ecdsa처리\n",
    "\n",
    "print(\"signature: \" + signature)\n",
    "\n",
    "verify = bitcoin.ecdsa_verify(massage, signature, publicKey)# signature를 publicKey를 이용하여 decoding후 massage와 비교\n",
    "\n",
    "print(\"verified: \" + str(verify))\n",
    "\n",
    "newMassage = \"내일 오후 10시 회의합니다.\"\n",
    "\n",
    "verify = bitcoin.ecdsa_verify(newMassage, signature, publicKey)# massage를 변조해서 verify 진행\n",
    "\n",
    "print(\"verified: \" + str(verify))\n",
    "\n",
    "recoverPublicKey = bitcoin.ecdsa_recover(massage, signature)# massage와 signature를 이용해서 publicKey를 복구\n",
    "\n",
    "print(\"recoverPublicKey: \" + recoverPublicKey)\n",
    "\n",
    "if(recoverPublicKey == publicKey):\n",
    "    print(\"recover check\")\n",
    "\n",
    "\n",
    "# geth --exec \"web3.sha3(web3.toHex('Hello Hash0'))\" attach http://localhost:8445\n",
    "# 이런 방식도 가능은 하다"
   ]
  },
  {
   "cell_type": "markdown",
   "metadata": {},
   "source": [
    "# WIF 방식\n",
    "\n",
    "단계 | 설명 | 예\n",
    "-----|-----|-----\n",
    "1 | ECDSA 키를 생성 | 0C28FCA386C7A227600B2FE50B7CAE11EC86D3BF1FBE471BE89827E19D72AA1D\n",
    "2 | 버전 1 바이트 추가 | ```80```0C28FCA386C7A227600B2FE50B7CAE11EC86D3BF1FBE471BE89827E19D72AA1D\n",
    "3 | SHA-256 hash |8147786C4D15106333BF278D71DADAF1079EF2D2440A4DDE37D747DED5403592\n",
    "4 | double hash 다시 한 번 더 SHA-256 hash | 507A5B8DFED0FC6FE8801743720CEDEC06AA5C6FCA72B07C49964492FB98A714\n",
    "5 | 처음 4 bytes를 가지고 체크섬으로 사용 | ```507A5B8D```\n",
    "6 | 단계 2의 결과 맨 끝에 단계 5를 붙임 | 800C28FCA386C7A227600B2FE50B7CAE11EC86D3BF1FBE471BE89827E19D72AA1D```507A5B8D```\n",
    "7 | base58로 WIF 변환 | 5HueCGU8rMjxEXxiPuD5BDku4MkFqeZyd4dZ1jvhTVqvbTLvyTJ\n",
    "\n",
    "> 비트코인에서는 0x```00```, 테스트넷 0x```6F```, private key 0x```80```을 사용한다.\n",
    "이더리움에서는 메인 네트워크에 0x80, 테스트네트워크에 0xef를 사용한다."
   ]
  },
  {
   "cell_type": "markdown",
   "metadata": {},
   "source": [
    "ECDSA\n",
    "\n",
    "파이썬으로 구하는 공식이 있는데 중요한지 모르겠다"
   ]
  },
  {
   "cell_type": "code",
   "execution_count": null,
   "metadata": {},
   "outputs": [],
   "source": [
    "# ABI 명세 잘 모르겠으니 다시 보기\n",
    "\n",
    "#    web3.eth.sendTransaction({# 사실 이해 못함\n",
    "#     from: eth.accounts[0],\n",
    "#     to: \"0x672807a8c0f72a52d759942e86cfe33264e73934\",# 상대방 주소\n",
    "#     data: \"0xcdcd77c000000000000000000000000000000000000000000000000000000000000000450000000000000000000000000000000000000000000000000000000000000001\",\n",
    "#     gas: 4}\n",
    "#)\n"
   ]
  },
  {
   "cell_type": "markdown",
   "metadata": {},
   "source": [
    "속성 | 바이트 | 설명\n",
    "----|-----|-----\n",
    "from | 20 바이트 | 전송 주소. 명시하지 않으면 web3.eth.defaultAccount\n",
    "to | 20 바이트 | (선택) 수신 주소. 컨트랙 생성하는 경우는 당연히 명시하지 않아도 된다. // 과제할때 왜 작성해야하는지 이해 x\n",
    "value | 32 바이트 | (선택) 전송 Wei 금액\n",
    "gas | 32 바이트 | (선택) 거래의 실행에 허용되는 최대 gas량 (미사용분은 반환)\n",
    "gasPrice | 32 바이트 | (선택) 비용계산에 적용할 gas 가격 (Wei),  web3.eth.gasPrice에 해당.\n",
    "data | 제한 없슴 | (선택)  바이트 코드\n",
    "nonce | 32 바이트 | (선택) 계정에서 발생한 거래 순서 번호. 동일한 번호가 있으면 하나는 처리 거절, 또는 순서대로 처리 (즉 뒷 순서가 먼저 처리되고 앞 번호를 취소하는 이중 거래 편법을 막음) \n",
    "v, r, s | 1, 32, 32 바이트 | v, r, s는 거래의 디지털사인(signature)에서 구하고, 공개키를 회복하기 위해 사용된다. v는 공개키를 회복하기 위한 1바이트 크기의 식별자이고, r은 개인키의 소유자에 의해 서명되었으며, s는 전송 중에 수정되었는지 검증하는 용도로 사용된다 (앞 4장에서 파이썬 eth_keys 라이브러리를 활용하여 계산하고 있다)"
   ]
  },
  {
   "cell_type": "code",
   "execution_count": null,
   "metadata": {
    "vscode": {
     "languageId": "javascript"
    }
   },
   "outputs": [],
   "source": [
    "transactionObject = {\n",
    "  from: \"0x...생략...A0A0A0A01\",\n",
    "  to: \"0x...생략...A0A0A0A02\",\n",
    "  value: web3.eth.getBalance(\"0x...생략...A0A0A0A01\"),\n",
    "  gas: \"----\",\n",
    "  gasPrice: \"----\",\n",
    "  data: \"0x----\",\n",
    "  nonce: 0,\n",
    "  }"
   ]
  },
  {
   "cell_type": "markdown",
   "metadata": {},
   "source": [
    "# e1\n",
    "\n",
    "## 블록체인\n",
    "\n",
    "- 거래data와 hash값이 chain처럼 연결\n",
    "- 수정시에 hash 값이 달라진다. 그렇기에 한 번 기록시 수정 불가\n",
    "- 중앙 서버가 없는 분산원장기술(DLT)를 사용\n",
    "- p2p(peer to peer Network)통신 방법 사용 (서버가 아닌 서로의 컴퓨터로 연결된 통신 방법)\n",
    "- 분산 시스템 사용 (합의 알고리즘을 통해 거래 인증 -> 참여한 모든 컴퓨터에 분산되어 동기화 됨)\n",
    "\n",
    "## 마이닝\n",
    "\n",
    "- 거래를 인증하는 과정\n",
    "- 마이닝이 끝났다 = 트랜잭션이 인증 되었고 블록체인에 기록 되었다\n",
    "\n",
    "## 프로토콜\n",
    "\n",
    "- 합의 계층: 블록 생성 후 chain으로 연결하기 위한 합의\n",
    "- 보안 계층: 위변조를 막기 위한 암호 기술\n",
    "- 통신 계층: 트랜잭션 -> p2p전파 -> 블록체인 동기화\n",
    "\n",
    "## 분산처리\n",
    "\n",
    "- p2p 방식\n",
    "- 기술적 신뢰도가 높다\n",
    "- 중앙서버가 없기 때문에 해킹 될 위험이 없다\n",
    "\n",
    "## 합의\n",
    "\n",
    "- 메시지를 전달하면서 참여했던 노드 간 다를 수 있는 정보를 합의를 통해 신뢰를 보장\n",
    "- 비잔틴장애허용, 지분 증명, 위임 지분 증명, 권위 증명, 경과 시간 증명\n",
    "\n",
    "### 비잔틴장애허용\n",
    "\n",
    "- 합의의 결과를 다수결로 결정\n",
    "\n",
    "![alt text](e/figures/1_pBFT_2.png \"Practical Byzantine Fault Tolerance 방법이 제대로 동작하는 경우\")\n",
    "\n",
    "# POW(작업증명)\n",
    "\n",
    "- 블록이 마이닝을 통해 생성\n",
    "\n",
    "# POS(지분 증명)\n",
    "\n",
    "- 노드가 보유한 잔고를 기준으로 권한을 분배\n",
    "\n",
    "## 스마트 계약\n",
    "\n",
    "### 네트워크\n",
    "\n",
    "## 공중망\n",
    "## 허가망\n",
    "## 사적망\n",
    "\n",
    "## enode\n",
    "## 계정\n",
    "## 계정 hashing\n",
    "## nonce\n",
    "## 디지털 서명\n",
    "## ECDSA\n",
    "\n",
    "# 트랜잭션\n",
    "# call\n",
    "# sendTransaction\n",
    "# ABI\n"
   ]
  },
  {
   "cell_type": "code",
   "execution_count": null,
   "metadata": {
    "vscode": {
     "languageId": "javascript"
    }
   },
   "outputs": [],
   "source": [
    "[\"0x803179e39701c1d7ca02e5dd7fff31f85cd60332\", \"0xa509bd30b553c2394afb266af3f5650e76f0fc21\", \"0xc234128754a75656b2a8b7a762251f4132bafa77\", \"0xbef455b8abebd3a04826fe726840e2c5acd9889c\", \"0x499eefd7b2b2c3901c060803b335f8a48fa5d3b1\", \"0xb3e3a7be61d1adcba6cf32316f03a429b10e5ad0\", \"0xca0b4858cdeee2708273999dae442b1f1131c39b\", \"0x938abdfd1a5ab9d93be3ab7c2236b8c1a666b959\", \"0x3c9f39cf5cea1c2cfc0580f4efce9b2bcb7e3b6a\", \"0xf4101bf4a39fa08705dcc15f3a1dd92785feea72\"]"
   ]
  }
 ],
 "metadata": {
  "kernelspec": {
   "display_name": "Python 3",
   "language": "python",
   "name": "python3"
  },
  "language_info": {
   "codemirror_mode": {
    "name": "ipython",
    "version": 3
   },
   "file_extension": ".py",
   "mimetype": "text/x-python",
   "name": "python",
   "nbconvert_exporter": "python",
   "pygments_lexer": "ipython3",
   "version": "3.11.5"
  }
 },
 "nbformat": 4,
 "nbformat_minor": 2
}
