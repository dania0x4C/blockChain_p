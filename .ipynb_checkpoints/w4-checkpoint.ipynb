{
 "cells": [
  {
   "cell_type": "code",
   "execution_count": 2,
   "metadata": {},
   "outputs": [
    {
     "data": {
      "text/plain": [
       "'c:\\\\Users\\\\ljm31\\\\OneDrive\\\\바탕 화면\\\\학교 자료\\\\24년도 1학기 수업자료\\\\블록체인\\\\src'"
      ]
     },
     "execution_count": 2,
     "metadata": {},
     "output_type": "execute_result"
    }
   ],
   "source": [
    "import os\n",
    "os.getcwd()"
   ]
  },
  {
   "cell_type": "code",
   "execution_count": 4,
   "metadata": {},
   "outputs": [
    {
     "data": {
      "text/plain": [
       "{'config': {'chainId': 412,\n",
       "  'homesteadBlock': 0,\n",
       "  'eip150Block': 0,\n",
       "  'eip155Block': 0,\n",
       "  'eip158Block': 0,\n",
       "  'byzantiumBlock': 0,\n",
       "  'constantinopleBlock': 0,\n",
       "  'petersburgBlock': 0},\n",
       " 'nonce': '0x0000000000000033',\n",
       " 'timestamp': '0x0',\n",
       " 'parentHash': '0x0000000000000000000000000000000000000000000000000000000000000000',\n",
       " 'gasLimit': '0x8000000',\n",
       " 'difficulty': '0x100',\n",
       " 'mixhash': '0x0000000000000000000000000000000000000000000000000000000000000000',\n",
       " 'coinbase': '0x3333333333333333333333333333333333333333',\n",
       " 'alloc': {}}"
      ]
     },
     "execution_count": 4,
     "metadata": {},
     "output_type": "execute_result"
    }
   ],
   "source": [
    "# %load _genesis.json\n",
    "{\n",
    "  \"config\": {\n",
    "    \"chainId\": 412,\n",
    "    \"homesteadBlock\": 0,\n",
    "    \"eip150Block\": 0,\n",
    "    \"eip155Block\": 0,\n",
    "    \"eip158Block\": 0,\n",
    "    \"byzantiumBlock\": 0,\n",
    "    \"constantinopleBlock\": 0,\n",
    "    \"petersburgBlock\": 0\n",
    "  },\n",
    "  \"nonce\": \"0x0000000000000033\",\n",
    "  \"timestamp\": \"0x0\",\n",
    "  \"parentHash\": \"0x0000000000000000000000000000000000000000000000000000000000000000\",\n",
    "  \"gasLimit\": \"0x8000000\",\n",
    "  \"difficulty\": \"0x100\",\n",
    "  \"mixhash\": \"0x0000000000000000000000000000000000000000000000000000000000000000\",\n",
    "  \"coinbase\": \"0x3333333333333333333333333333333333333333\",\n",
    "  \"alloc\": {}\n",
    "}\n",
    "\n",
    "## poa 알고리즘 - clique라는 부분이 존재\n"
   ]
  },
  {
   "cell_type": "code",
   "execution_count": 1,
   "metadata": {},
   "outputs": [
    {
     "name": "stdout",
     "output_type": "stream",
     "text": [
      "Writing _getNow.bat\n"
     ]
    }
   ],
   "source": [
    "%%writefile _getNow.bat\n",
    "\n",
    "geth --identity \"ljm31\" --allow-insecure-unlock --unlock 0 --datadir .\\eth --ws --ws.port 8446 --ws.origins \"*\" --http --http.addr \"localhost\" --http.port \"8445\" --http.corsdomain \"*\" --http.api \"admin, db, eth, debug, miner, net, shh, txpool, web3\" --port \"38445\" --networkid 33"
   ]
  },
  {
   "cell_type": "code",
   "execution_count": 5,
   "metadata": {},
   "outputs": [
    {
     "name": "stdout",
     "output_type": "stream",
     "text": [
      "Overwriting src/ethCommands.js\n"
     ]
    }
   ],
   "source": [
    "%%writefile src/ethCommands.js\n",
    "const firstAccount = eth.accounts[0];\n",
    "const secondAccount = eth.accounts[1];\n",
    "const firstBal = eth.getBalance(firstAccount);\n",
    "const secondBal = eth.getBalance(secondAccount);\n",
    "\n",
    "console.log('this is a firstAccount')\n",
    "console.log('balance in Wei: ', firstBal);\n",
    "console.log('balance in ether: ', web3.fromWei(firstBal, \"ether\"));\n",
    "\n",
    "console.log('this is a secondAccount')\n",
    "console.log('balance in Wei: ', secondBal);\n",
    "console.log('balance in ether: ', web3.fromWei(secondBal, \"ether\"));\n",
    "\n",
    "console.log('blocknumber: ', eth.blockNumber);\n",
    "console.log('coinbase: ',eth.coinbase );\n"
   ]
  },
  {
   "cell_type": "code",
   "execution_count": 10,
   "metadata": {},
   "outputs": [
    {
     "ename": "SyntaxError",
     "evalue": "invalid syntax (1243583769.py, line 1)",
     "output_type": "error",
     "traceback": [
      "\u001b[1;36m  Cell \u001b[1;32mIn[10], line 1\u001b[1;36m\u001b[0m\n\u001b[1;33m    geth --exec \"loadScript('ethCommands.js')\" attach http://localhost:8445\u001b[0m\n\u001b[1;37m                ^\u001b[0m\n\u001b[1;31mSyntaxError\u001b[0m\u001b[1;31m:\u001b[0m invalid syntax\n"
     ]
    }
   ],
   "source": [
    "geth --exec \"loadScript('ethCommands.js')\" attach http://localhost:8445"
   ]
  },
  {
   "cell_type": "code",
   "execution_count": null,
   "metadata": {},
   "outputs": [],
   "source": [
    "# miner.setEtherbase(eth.accounts[0])"
   ]
  }
 ],
 "metadata": {
  "kernelspec": {
   "display_name": "Python 3",
   "language": "python",
   "name": "python3"
  },
  "language_info": {
   "codemirror_mode": {
    "name": "ipython",
    "version": 3
   },
   "file_extension": ".py",
   "mimetype": "text/x-python",
   "name": "python",
   "nbconvert_exporter": "python",
   "pygments_lexer": "ipython3",
   "version": "3.11.5"
  }
 },
 "nbformat": 4,
 "nbformat_minor": 2
}
