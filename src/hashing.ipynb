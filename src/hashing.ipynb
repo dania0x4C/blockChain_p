import bitcoin

massage = "내일 10시 회의합니다."

privateKey = bitcoin.sha256("talk to meeting")# talk to meeting으로 privKey 생성
publicKey = bitcoin.privtopub(privateKey)# privateKey로 publicKey생성
address = bitcoin.pubtoaddr(publicKey)# publicKey로 address 생성

signature = bitcoin.ecdsa_sign(massage, privateKey)# message를 privateKey를 이용하여 ecdsa처리

print("signature: " + signature)

verify = bitcoin.ecdsa_verify(massage, signature, publicKey)# signature를 publicKey를 이용하여 decoding후 massage와 비교

print("verified: " + str(verify))

newMassage = "내일 오후 10시 회의합니다."

verify = bitcoin.ecdsa_verify(newMassage, signature, publicKey)# massage를 변조해서 verify 진행

print("verified: " + str(verify))

recoverPublicKey = bitcoin.ecdsa_recover(massage, signature)# massage와 signature를 이용해서 publicKey를 복구

print("recoverPublicKey: " + recoverPublicKey)

if(recoverPublicKey == publicKey):
    print("recover check")
