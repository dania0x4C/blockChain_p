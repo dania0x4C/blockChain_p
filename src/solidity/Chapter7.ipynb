{
 "cells": [
  {
   "cell_type": "markdown",
   "metadata": {},
   "source": [
    "단계 | 절차 | 설명\n",
    "-----|-----|-----\n",
    "단계 1 | 개발 | 컨트랙의 **소스 코드** 개발(solidity)\n",
    "단계 2 | 컴파일 | 소스코드를 컴파일해서 **ABI**와 **바이트 코드** 생성 \n",
    "단계 3 | 컨트랙 배포 | 컴파일해서 얻은 ABI, 바이트 코드로 객체를 생성한 후 배포 요청, 마이닝해서 블록체인의 **컨트랙 주소(contract address)** 획득(node로 배포)\n",
    "단계 4 | 사용 | **ABI**, **컨트랙 주소**로 컨트랙 객체를 생성한 후, ```call()``` 또는 ```send()``` 함수로 API 호출. (컨트랙 주소를 이용해서 호출)\n",
    "\n",
    "\n",
    "REMIX\n",
    "https://remix.ethereum.org/"
   ]
  },
  {
   "cell_type": "code",
   "execution_count": 2,
   "metadata": {},
   "outputs": [
    {
     "name": "stdout",
     "output_type": "stream",
     "text": [
      "Writing src/Hello.sol\n"
     ]
    }
   ],
   "source": [
    "%%writefile src/Hello.sol\n",
    "pragma solidity ^0.8.0;\n",
    "// contract(계약) - 자바의 class\n",
    "// 파일이랑 contractName이 같으면 좋음\n",
    "contract Hello {\n",
    "    //public은 가시성, pure: 블록체인을 수정하지 않는다\n",
    "    function sayHello() pure public returns(string memory) {\n",
    "        return \"Hello World\";\n",
    "    }\n",
    "}"
   ]
  },
  {
   "cell_type": "code",
   "execution_count": 2,
   "metadata": {},
   "outputs": [
    {
     "name": "stdout",
     "output_type": "stream",
     "text": [
      "solc, the solidity compiler commandline interface\n",
      "Version: 0.8.19+commit.7dd6d404.Windows.msvc\n"
     ]
    }
   ],
   "source": [
    "! solc-windows --version"
   ]
  },
  {
   "cell_type": "code",
   "execution_count": 4,
   "metadata": {},
   "outputs": [
    {
     "name": "stdout",
     "output_type": "stream",
     "text": [
      "\n",
      "======= Hello.sol:Hello =======\n",
      "Gas estimation:\n",
      "construction:\n",
      "   123 + 74200 = 74323\n",
      "external:\n",
      "   sayHello():\tinfinite\n",
      "Binary:\n",
      "608060405234801561001057600080fd5b50610173806100206000396000f3fe608060405234801561001057600080fd5b506004361061002b5760003560e01c8063ef5fb05b14610030575b600080fd5b61003861004e565b604051610045919061011b565b60405180910390f35b60606040518060400160405280600b81526020017f48656c6c6f20576f726c64000000000000000000000000000000000000000000815250905090565b600081519050919050565b600082825260208201905092915050565b60005b838110156100c55780820151818401526020810190506100aa565b60008484015250505050565b6000601f19601f8301169050919050565b60006100ed8261008b565b6100f78185610096565b93506101078185602086016100a7565b610110816100d1565b840191505092915050565b6000602082019050818103600083015261013581846100e2565b90509291505056fea2646970667358221220d45a98185b19b664933204a5567933003855b8c4abe5f322cbca65b209a9244b64736f6c63430008130033\n",
      "Contract JSON ABI\n",
      "[{\"inputs\":[],\"name\":\"sayHello\",\"outputs\":[{\"internalType\":\"string\",\"name\":\"\",\"type\":\"string\"}],\"stateMutability\":\"pure\",\"type\":\"function\"}]\n"
     ]
    },
    {
     "name": "stderr",
     "output_type": "stream",
     "text": [
      "Warning: SPDX license identifier not provided in source file. Before publishing, consider adding a comment containing \"SPDX-License-Identifier: <SPDX-License>\" to each source file. Use \"SPDX-License-Identifier: UNLICENSED\" for non-open-source code. Please see https://spdx.org for more information.\n",
      "--> Hello.sol\n",
      "\n"
     ]
    }
   ],
   "source": [
    "! solc-windows.exe --abi --bin --gas Hello.sol\n",
    "# abi, bin 빼서 해보자"
   ]
  },
  {
   "cell_type": "markdown",
   "metadata": {},
   "source": [
    "배포시 필요한 정보\n",
    "\n",
    "BYTE Code\n",
    "\n",
    "{\n",
    "\t\"functionDebugData\": {},\n",
    "\t\"generatedSources\": [],\n",
    "\t\"linkReferences\": {},\n",
    "\t\"object\": \"6080604052348015600e575f80fd5b5061014e8061001c5f395ff3fe608060405234801561000f575f80fd5b5060043610610029575f3560e01c8063ef5fb05b1461002d575b5f80fd5b61003561004b565b60405161004291906100f8565b60405180910390f35b60606040518060400160405280600b81526020017f48656c6c6f20576f726c64000000000000000000000000000000000000000000815250905090565b5f81519050919050565b5f82825260208201905092915050565b8281835e5f83830152505050565b5f601f19601f8301169050919050565b5f6100ca82610088565b6100d48185610092565b93506100e48185602086016100a2565b6100ed816100b0565b840191505092915050565b5f6020820190508181035f83015261011081846100c0565b90509291505056fea26469706673582212208520fa4ee35e82ceb46a04a6c3d80061be3083322e0316688f239ad20424472a64736f6c63430008190033\",\n",
    "\t\"opcodes\": \"PUSH1 0x80 PUSH1 0x40 MSTORE CALLVALUE DUP1 ISZERO PUSH1 0xE JUMPI PUSH0 DUP1 REVERT JUMPDEST POP PUSH2 0x14E DUP1 PUSH2 0x1C PUSH0 CODECOPY PUSH0 RETURN INVALID PUSH1 0x80 PUSH1 0x40 MSTORE CALLVALUE DUP1 ISZERO PUSH2 0xF JUMPI PUSH0 DUP1 REVERT JUMPDEST POP PUSH1 0x4 CALLDATASIZE LT PUSH2 0x29 JUMPI PUSH0 CALLDATALOAD PUSH1 0xE0 SHR DUP1 PUSH4 0xEF5FB05B EQ PUSH2 0x2D JUMPI JUMPDEST PUSH0 DUP1 REVERT JUMPDEST PUSH2 0x35 PUSH2 0x4B JUMP JUMPDEST PUSH1 0x40 MLOAD PUSH2 0x42 SWAP2 SWAP1 PUSH2 0xF8 JUMP JUMPDEST PUSH1 0x40 MLOAD DUP1 SWAP2 SUB SWAP1 RETURN JUMPDEST PUSH1 0x60 PUSH1 0x40 MLOAD DUP1 PUSH1 0x40 ADD PUSH1 0x40 MSTORE DUP1 PUSH1 0xB DUP2 MSTORE PUSH1 0x20 ADD PUSH32 0x48656C6C6F20576F726C64000000000000000000000000000000000000000000 DUP2 MSTORE POP SWAP1 POP SWAP1 JUMP JUMPDEST PUSH0 DUP2 MLOAD SWAP1 POP SWAP2 SWAP1 POP JUMP JUMPDEST PUSH0 DUP3 DUP3 MSTORE PUSH1 0x20 DUP3 ADD SWAP1 POP SWAP3 SWAP2 POP POP JUMP JUMPDEST DUP3 DUP2 DUP4 MCOPY PUSH0 DUP4 DUP4 ADD MSTORE POP POP POP JUMP JUMPDEST PUSH0 PUSH1 0x1F NOT PUSH1 0x1F DUP4 ADD AND SWAP1 POP SWAP2 SWAP1 POP JUMP JUMPDEST PUSH0 PUSH2 0xCA DUP3 PUSH2 0x88 JUMP JUMPDEST PUSH2 0xD4 DUP2 DUP6 PUSH2 0x92 JUMP JUMPDEST SWAP4 POP PUSH2 0xE4 DUP2 DUP6 PUSH1 0x20 DUP7 ADD PUSH2 0xA2 JUMP JUMPDEST PUSH2 0xED DUP2 PUSH2 0xB0 JUMP JUMPDEST DUP5 ADD SWAP2 POP POP SWAP3 SWAP2 POP POP JUMP JUMPDEST PUSH0 PUSH1 0x20 DUP3 ADD SWAP1 POP DUP2 DUP2 SUB PUSH0 DUP4 ADD MSTORE PUSH2 0x110 DUP2 DUP5 PUSH2 0xC0 JUMP JUMPDEST SWAP1 POP SWAP3 SWAP2 POP POP JUMP INVALID LOG2 PUSH5 0x6970667358 0x22 SLT KECCAK256 DUP6 KECCAK256 STATICCALL 0x4E 0xE3 MCOPY DUP3 0xCE 0xB4 PUSH11 0x4A6C3D80061BE3083322E SUB AND PUSH9 0x8F239AD20424472A64 PUSH20 0x6F6C634300081900330000000000000000000000 \",\n",
    "\t\"sourceMap\": \"101:119:0:-:0;;;;;;;;;;;;;;;;;;;\"\n",
    "}\n",
    "\n",
    "// json을 가진 배열 형식이다\n",
    "ABI\n",
    "[\n",
    "\t{\n",
    "\t\t\"inputs\": [],\n",
    "\t\t\"name\": \"sayHello\",\n",
    "\t\t\"outputs\": [\n",
    "\t\t\t{\n",
    "\t\t\t\t\"internalType\": \"string\",\n",
    "\t\t\t\t\"name\": \"\",\n",
    "\t\t\t\t\"type\": \"string\"\n",
    "\t\t\t}\n",
    "\t\t],\n",
    "\t\t\"stateMutability\": \"pure\",\n",
    "\t\t\"type\": \"function\"\n",
    "\t}\n",
    "]"
   ]
  },
  {
   "cell_type": "code",
   "execution_count": 7,
   "metadata": {},
   "outputs": [
    {
     "name": "stdout",
     "output_type": "stream",
     "text": [
      "Writing HelloSol.js\n"
     ]
    }
   ],
   "source": [
    "%%writefile HelloSol.js\n",
    "//deploy창은 log창으로 생각하면 좋음\n",
    "//solidity 프로그램의 주소를 통해 파일을 실행 시킴(WEB3DEPLOY)\n",
    "var helloContract = new web3.eth.Contract([{\"inputs\":[],\"name\":\"sayHello\",\"outputs\":[{\"internalType\":\"string\",\"name\":\"\",\"type\":\"string\"}],\"stateMutability\":\"pure\",\"type\":\"function\"}]);\n",
    "var hello = helloContract.deploy({\n",
    "     data: '0x6080604052348015600e575f80fd5b5061014e8061001c5f395ff3fe608060405234801561000f575f80fd5b5060043610610029575f3560e01c8063ef5fb05b1461002d575b5f80fd5b61003561004b565b60405161004291906100f8565b60405180910390f35b60606040518060400160405280600b81526020017f48656c6c6f20576f726c64000000000000000000000000000000000000000000815250905090565b5f81519050919050565b5f82825260208201905092915050565b8281835e5f83830152505050565b5f601f19601f8301169050919050565b5f6100ca82610088565b6100d48185610092565b93506100e48185602086016100a2565b6100ed816100b0565b840191505092915050565b5f6020820190508181035f83015261011081846100c0565b90509291505056fea26469706673582212208520fa4ee35e82ceb46a04a6c3d80061be3083322e0316688f239ad20424472a64736f6c63430008190033', \n",
    "     arguments: [\n",
    "     ]\n",
    "}).send({\n",
    "     from: web3.eth.accounts[0], \n",
    "     gas: '4700000'\n",
    "   }, function (e, contract){\n",
    "    console.log(e, contract);\n",
    "    if (typeof contract.address !== 'undefined') {\n",
    "         console.log('Contract mined! address: ' + contract.address + ' transactionHash: ' + contract.transactionHash);\n",
    "    }\n",
    " })\n",
    "\n",
    " "
   ]
  },
  {
   "cell_type": "markdown",
   "metadata": {},
   "source": [
    "배포\n",
    "* (3-1) 앞 2단계의 컴파일을 하고 얻은 **ABI, 바이트 코드를 사용해서 컨트랙 객체를 생성**하고,\n",
    "* (3-2) 그 객체의 배포를 ```deploy()``` 함수로 요청하여 ```transactionHash```를 얻고,\n",
    "* (3-3) 마이닝을 하고 나면 블록체인에서의 컨트랙 주소 ```contractAddress```를 받게 된다."
   ]
  },
  {
   "cell_type": "markdown",
   "metadata": {},
   "source": [
    "1단계 컨트랙 생성"
   ]
  },
  {
   "cell_type": "code",
   "execution_count": null,
   "metadata": {
    "vscode": {
     "languageId": "javascript"
    }
   },
   "outputs": [],
   "source": [
    "\n",
    "const myGreeter = new web3.eth.Contract(_abi, { data: '0x' + _bin });\n",
    "// 16진수를 나타내는 0x\n",
    "\n",
    "// 함수\n",
    "/*deploy*/\n",
    "\n",
    "/*send*/\n",
    "\n",
    "/*then*/"
   ]
  },
  {
   "cell_type": "code",
   "execution_count": 8,
   "metadata": {},
   "outputs": [
    {
     "name": "stdout",
     "output_type": "stream",
     "text": [
      "Writing getMyAddr.js\n"
     ]
    }
   ],
   "source": [
    "%%writefile getMyAddr.js\n",
    "\n",
    "var Web3=require('web3');\n",
    "var web3 = new Web3(new Web3.providers.HttpProvider(\"http://localhost:8345\"))\n",
    "web3.eth.getAccounts().then(console.log);"
   ]
  },
  {
   "cell_type": "code",
   "execution_count": 9,
   "metadata": {},
   "outputs": [
    {
     "name": "stdout",
     "output_type": "stream",
     "text": [
      "["
     ]
    },
    {
     "name": "stderr",
     "output_type": "stream",
     "text": [
      "(node:13236) [DEP0040] DeprecationWarning: The `punycode` module is deprecated. Please use a userland alternative instead.\n",
      "(Use `node --trace-deprecation ...` to show where the warning was created)\n"
     ]
    },
    {
     "name": "stdout",
     "output_type": "stream",
     "text": [
      "\n",
      "  \u001b[32m'0x2a77beD13a78bc0174b60eaD0eF6FA3F74F930c1'\u001b[39m,\n",
      "  \u001b[32m'0x94E47B10aC272D2D72E5bee54De5Af6815d78674'\u001b[39m,\n",
      "  \u001b[32m'0x14004529CFfc2b2Af449EC9635051133F1F7ab58'\u001b[39m,\n",
      "  \u001b[32m'0xD8184e34DA41A0BaD7c3bbE3f8975e8dda8B2Ed8'\u001b[39m,\n",
      "  \u001b[32m'0x7f0481Ff31E02E12f20D66f922DC480ecdc4cCe1'\u001b[39m,\n",
      "  \u001b[32m'0xc94BA2C421b8CD8211d4F03e126f7b93b6783De3'\u001b[39m,\n",
      "  \u001b[32m'0xdC35F8BB5ce11ea5D705Cd6E651FA2A9e2A342da'\u001b[39m,\n",
      "  \u001b[32m'0xe994945Ea8F427a554B25A054e85281c3D57390e'\u001b[39m,\n",
      "  \u001b[32m'0xFF868dca4Be4c6Ab599056497318a06AdD64E64E'\u001b[39m,\n",
      "  \u001b[32m'0x69D05FfdfdC8E4588f73B045C1A0f2b624aa54b1'\u001b[39m\n",
      "]\n"
     ]
    }
   ],
   "source": [
    "! node getMyAddr.js"
   ]
  },
  {
   "cell_type": "code",
   "execution_count": 19,
   "metadata": {},
   "outputs": [
    {
     "name": "stdout",
     "output_type": "stream",
     "text": [
      "Overwriting HelloDeployGas.js\n"
     ]
    }
   ],
   "source": [
    "%%writefile HelloDeployGas.js\n",
    "const Web3 = require('web3');\n",
    "const web3 = new Web3(new Web3.providers.HttpProvider(\"http://localhost:8345\"));\n",
    "// (Y) 여기에 위에서 생성한 abi (B)를 복사-붙여넣는다\n",
    "const shelloContract = new web3.eth.Contract([\n",
    "\t{\n",
    "\t\t\"inputs\": [],\n",
    "\t\t\"name\": \"sayHello\",\n",
    "\t\t\"outputs\": [\n",
    "\t\t\t{\n",
    "\t\t\t\t\"internalType\": \"string\",\n",
    "\t\t\t\t\"name\": \"\",\n",
    "\t\t\t\t\"type\": \"string\"\n",
    "\t\t\t}\n",
    "\t\t],\n",
    "\t\t\"stateMutability\": \"pure\",\n",
    "\t\t\"type\": \"function\"\n",
    "\t}\n",
    "]);\n",
    "// 계정 address와 data도 복사-붙여넣기 한다. 자신의 개발환경에 따라 계정, 데이터는 값이 다를 수 있다.\n",
    "shelloContract.deploy({\n",
    "        from: '0x2a77beD13a78bc0174b60eaD0eF6FA3F74F930c1',// <--- (Z) 여기에 위 주소 (C)를 복사해서 붙여 넣는다\n",
    "        data: '6080604052348015600e575f80fd5b5061014e8061001c5f395ff3fe608060405234801561000f575f80fd5b5060043610610029575f3560e01c8063ef5fb05b1461002d575b5f80fd5b61003561004b565b60405161004291906100f8565b60405180910390f35b60606040518060400160405280600b81526020017f48656c6c6f20576f726c64000000000000000000000000000000000000000000815250905090565b5f81519050919050565b5f82825260208201905092915050565b8281835e5f83830152505050565b5f601f19601f8301169050919050565b5f6100ca82610088565b6100d48185610092565b93506100e48185602086016100a2565b6100ed816100b0565b840191505092915050565b5f6020820190508181035f83015261011081846100c0565b90509291505056fea26469706673582212208520fa4ee35e82ceb46a04a6c3d80061be3083322e0316688f239ad20424472a64736f6c63430008190033',// <--- (X) 여기에 위 바이트 코드 (A)를 복사해서 붙여 넣는다.\n",
    "    }).estimateGas().then(function(myGas) {\n",
    "        console.log(\"Estimated gas: \" + myGas);\n",
    "        gas = myGas;\n",
    "    })\n",
    "    .catch(console.error);\n",
    "\t// 여기 async문법 공부하기\n",
    "\t// const mygas = estimateGas()를 생략 한 것 "
   ]
  },
  {
   "cell_type": "code",
   "execution_count": 28,
   "metadata": {},
   "outputs": [
    {
     "name": "stdout",
     "output_type": "stream",
     "text": [
      "Estimated gas: 125239\n"
     ]
    },
    {
     "name": "stderr",
     "output_type": "stream",
     "text": [
      "(node:10016) [DEP0040] DeprecationWarning: The `punycode` module is deprecated. Please use a userland alternative instead.\n",
      "(Use `node --trace-deprecation ...` to show where the warning was created)\n"
     ]
    }
   ],
   "source": [
    "! node HelloDeployGas.js"
   ]
  },
  {
   "cell_type": "code",
   "execution_count": 33,
   "metadata": {},
   "outputs": [
    {
     "name": "stdout",
     "output_type": "stream",
     "text": [
      "Overwriting HelloDeploy.js\n"
     ]
    }
   ],
   "source": [
    "%%writefile HelloDeployGanache.js\n",
    "// ganache 배포\n",
    "var Web3=require('web3');\n",
    "var web3 = new Web3(new Web3.providers.HttpProvider(\"http://localhost:8345\"));\n",
    "// (Y) 여기에 위에서 생성한 abi (B)를 복사-붙여넣는다\n",
    "var shelloContract = new web3.eth.Contract([\n",
    "\t\t\t{\n",
    "\t\t\t\t\"internalType\": \"string\",\n",
    "\t\t\t\t\"name\": \"\",\n",
    "\t\t\t\t\"type\": \"string\"\n",
    "\t\t\t}\n",
    "\t\t]);\n",
    "shelloContract\n",
    "    .deploy({\n",
    "        data: '6080604052348015600e575f80fd5b5061014e8061001c5f395ff3fe608060405234801561000f575f80fd5b5060043610610029575f3560e01c8063ef5fb05b1461002d575b5f80fd5b61003561004b565b60405161004291906100f8565b60405180910390f35b60606040518060400160405280600b81526020017f48656c6c6f20576f726c64000000000000000000000000000000000000000000815250905090565b5f81519050919050565b5f82825260208201905092915050565b8281835e5f83830152505050565b5f601f19601f8301169050919050565b5f6100ca82610088565b6100d48185610092565b93506100e48185602086016100a2565b6100ed816100b0565b840191505092915050565b5f6020820190508181035f83015261011081846100c0565b90509291505056fea26469706673582212208520fa4ee35e82ceb46a04a6c3d80061be3083322e0316688f239ad20424472a64736f6c63430008190033',// <--- (X) 여기에 위 바이트 코드 (A)를 복사해서 붙여 넣는다.\n",
    "    })\n",
    "    .send({\n",
    "        from: '0x2a77beD13a78bc0174b60eaD0eF6FA3F74F930c1',// <--- (Z) 여기에 위 주소 (C)를 복사해서 여기에 붙여 넣는다\n",
    "        gas: '4700000'\n",
    "    }, function (error, transactionHash){ \n",
    "        console.log(error,transactionHash); \n",
    "    })\n",
    "    .then(function(newContractInstance){\n",
    "        console.log(newContractInstance.options.address)\n",
    "    });"
   ]
  },
  {
   "cell_type": "code",
   "execution_count": 38,
   "metadata": {},
   "outputs": [
    {
     "name": "stdout",
     "output_type": "stream",
     "text": [
      "\u001b[1mnull\u001b[22m 0x276eb91aaf127fc523cadd0e11c476f09ebbdd5714e5b00d1f5224fd981d6638\n",
      "0xE148f8d665d9146B296E732D176D0c4d7c4cB7f8\n"
     ]
    },
    {
     "name": "stderr",
     "output_type": "stream",
     "text": [
      "(node:11252) [DEP0040] DeprecationWarning: The `punycode` module is deprecated. Please use a userland alternative instead.\n",
      "(Use `node --trace-deprecation ...` to show where the warning was created)\n"
     ]
    }
   ],
   "source": [
    "! node HelloDeploy.js"
   ]
  },
  {
   "cell_type": "code",
   "execution_count": 39,
   "metadata": {},
   "outputs": [
    {
     "name": "stdout",
     "output_type": "stream",
     "text": [
      "Writing HelloDeployGeth.js\n"
     ]
    }
   ],
   "source": [
    "%%writefile HelloDeployGeth.js\n",
    "// 여기는 geth로 해보라고 하심\n",
    "var Web3=require('web3');\n",
    "var web3 = new Web3(new Web3.providers.HttpProvider(\"http://localhost:8445\"));\n",
    "//web3.eth.personal.unlockAccount(\"0x6819f8376ef2da6A01082c7F45E51FF15Fc69cDa\",\"password\",1000).then(console.log('unlocked!'));\n",
    "var shelloContract = new web3.eth.Contract([\n",
    "\t\t\t{\n",
    "\t\t\t\t\"internalType\": \"string\",\n",
    "\t\t\t\t\"name\": \"\",\n",
    "\t\t\t\t\"type\": \"string\"\n",
    "\t\t\t}\n",
    "\t\t]);\n",
    "shelloContract\n",
    "    .deploy({\n",
    "        data: '6080604052348015600e575f80fd5b5061014e8061001c5f395ff3fe608060405234801561000f575f80fd5b5060043610610029575f3560e01c8063ef5fb05b1461002d575b5f80fd5b61003561004b565b60405161004291906100f8565b60405180910390f35b60606040518060400160405280600b81526020017f48656c6c6f20576f726c64000000000000000000000000000000000000000000815250905090565b5f81519050919050565b5f82825260208201905092915050565b8281835e5f83830152505050565b5f601f19601f8301169050919050565b5f6100ca82610088565b6100d48185610092565b93506100e48185602086016100a2565b6100ed816100b0565b840191505092915050565b5f6020820190508181035f83015261011081846100c0565b90509291505056fea26469706673582212208520fa4ee35e82ceb46a04a6c3d80061be3083322e0316688f239ad20424472a64736f6c63430008190033',  <--- (X) 여기에 위 바이트 코드 (A)를 복사해서 붙여 넣는다.\n",
    "    })\n",
    "    .send({\n",
    "        from: '0x2a77beD13a78bc0174b60eaD0eF6FA3F74F930c1',// <--- (Z) 여기에 위 주소 (C)를 복사해서 여기에 붙여 넣는다\n",
    "        gas: '4700000'\n",
    "    }, function (error, transactionHash){ \n",
    "        console.log(error, transactionHash); \n",
    "    })\n",
    "    .on('transactionHash', function(error,transactionHash) {  //이 코드는 테스트 용도로 넣는다. 꼭 필요한 코드는 아니다.\n",
    "        console.log(\"hash-- \"+transactionHash);\n",
    "    })\n",
    "    .on('receipt', function(receipt) {\n",
    "        console.log('receipt:: '+receipt.contractAddress);\n",
    "    })\n",
    "    .then(function(newContractInstance){\n",
    "        console.log(newContractInstance.options.address)\n",
    "    });"
   ]
  },
  {
   "cell_type": "code",
   "execution_count": 43,
   "metadata": {},
   "outputs": [
    {
     "name": "stdout",
     "output_type": "stream",
     "text": [
      "GoError: error while compiling or running script: SyntaxError: HelloDeployGeth.js: Line 14:745 Unexpected token < (and 12 more errors)\n",
      "\tat github.com/ethereum/go-ethereum/internal/jsre.MakeCallback.func1 (native)\n",
      "\tat <eval>:1:11(2)\n",
      "\n"
     ]
    }
   ],
   "source": [
    "! geth -exec \"loadScript('HelloDeployGeth.js')\" attach http://localhost:8445"
   ]
  },
  {
   "cell_type": "markdown",
   "metadata": {},
   "source": [
    "call, send\n",
    "\n",
    "myballot.methods.vote.call(1);// local에서 끝나서 gas비용이 들지 않는다.\n",
    "myballot.methods.vote.send(1, {from: 계정주소를 여기에 넣는다})// 서버에 다녀오기 때문에 gas비용이 든다."
   ]
  },
  {
   "cell_type": "code",
   "execution_count": 53,
   "metadata": {},
   "outputs": [
    {
     "name": "stdout",
     "output_type": "stream",
     "text": [
      "Overwriting HelloUse.js\n"
     ]
    }
   ],
   "source": [
    "%%writefile HelloUse.js\n",
    "// 여기 못함\n",
    "var Web3=require('web3');\n",
    "var web3 = new Web3(new Web3.providers.HttpProvider(\"http://localhost:8345\"));\n",
    "var shelloContract = new web3.eth.Contract([\n",
    "\t{\n",
    "\t\t\"inputs\": [],\n",
    "\t\t\"name\": \"sayHello\",\n",
    "\t\t\"outputs\": [\n",
    "\t\t\t{\n",
    "\t\t\t\t\"internalType\": \"string\",\n",
    "\t\t\t\t\"name\": \"\",\n",
    "\t\t\t\t\"type\": \"string\"\n",
    "\t\t\t}\n",
    "\t\t],\n",
    "\t\t\"stateMutability\": \"pure\",\n",
    "\t\t\"type\": \"function\"\n",
    "\t}\n",
    "], \"0x2a77beD13a78bc0174b60eaD0eF6FA3F74F930c1\"\n",
    ");// <--- ganache@8345의 배포후 얻은 컨트랙 주소를 복사-붙여넣는다\n",
    "shelloContract.methods.sayHello().call().then(function(str) {console.log(str);});"
   ]
  },
  {
   "cell_type": "code",
   "execution_count": 54,
   "metadata": {},
   "outputs": [
    {
     "name": "stderr",
     "output_type": "stream",
     "text": [
      "(node:20160) [DEP0040] DeprecationWarning: The `punycode` module is deprecated. Please use a userland alternative instead.\n",
      "(Use `node --trace-deprecation ...` to show where the warning was created)\n",
      "c:\\Users\\ljm31\\OneDrive\\바탕 화면\\학교 자료\\24년도 1학기 수업자료\\blockChain\\node_modules\\web3-eth-abi\\lib\\index.js:307\n",
      "        throw new Error('Returned values aren\\'t valid, did it run Out of Gas? ' +\n",
      "              ^\n",
      "\n",
      "Error: Returned values aren't valid, did it run Out of Gas? You might also see this error if you are not using the correct ABI for the contract you are retrieving data from, requesting data from a block number that does not exist, or querying a node which is not fully synced.\n",
      "    at ABICoder.decodeParametersWith (c:\\Users\\ljm31\\OneDrive\\바탕 화면\\학교 자료\\24년도 1학기 수업자료\\blockChain\\node_modules\\\u001b[4mweb3-eth-abi\u001b[24m\\lib\\index.js:307:15)\n",
      "    at ABICoder.decodeParameters (c:\\Users\\ljm31\\OneDrive\\바탕 화면\\학교 자료\\24년도 1학기 수업자료\\blockChain\\node_modules\\\u001b[4mweb3-eth-abi\u001b[24m\\lib\\index.js:294:17)\n",
      "    at Contract._decodeMethodReturn (c:\\Users\\ljm31\\OneDrive\\바탕 화면\\학교 자료\\24년도 1학기 수업자료\\blockChain\\node_modules\\\u001b[4mweb3-eth-contract\u001b[24m\\lib\\index.js:494:22)\n",
      "    at Method.outputFormatter (c:\\Users\\ljm31\\OneDrive\\바탕 화면\\학교 자료\\24년도 1학기 수업자료\\blockChain\\node_modules\\\u001b[4mweb3-eth-contract\u001b[24m\\lib\\index.js:818:42)\n",
      "    at Method.formatOutput (c:\\Users\\ljm31\\OneDrive\\바탕 화면\\학교 자료\\24년도 1학기 수업자료\\blockChain\\node_modules\\\u001b[4mweb3-core-method\u001b[24m\\lib\\index.js:148:54)\n",
      "    at sendTxCallback (c:\\Users\\ljm31\\OneDrive\\바탕 화면\\학교 자료\\24년도 1학기 수업자료\\blockChain\\node_modules\\\u001b[4mweb3-core-method\u001b[24m\\lib\\index.js:546:33)\n",
      "    at c:\\Users\\ljm31\\OneDrive\\바탕 화면\\학교 자료\\24년도 1학기 수업자료\\blockChain\\node_modules\\\u001b[4mweb3-core-requestmanager\u001b[24m\\lib\\index.js:305:9\n",
      "    at c:\\Users\\ljm31\\OneDrive\\바탕 화면\\학교 자료\\24년도 1학기 수업자료\\blockChain\\node_modules\\\u001b[4mweb3-providers-http\u001b[24m\\lib\\index.js:131:13\n",
      "\u001b[90m    at process.processTicksAndRejections (node:internal/process/task_queues:95:5)\u001b[39m\n",
      "\n",
      "Node.js v21.1.0\n"
     ]
    }
   ],
   "source": [
    "! node HelloUse.js"
   ]
  },
  {
   "cell_type": "code",
   "execution_count": 1,
   "metadata": {},
   "outputs": [
    {
     "name": "stdout",
     "output_type": "stream",
     "text": [
      "Writing scripts/hello.html\n"
     ]
    }
   ],
   "source": [
    "%%writefile scripts/hello.html\n",
    "\n",
    "<!doctype>\n",
    "<html>\n",
    "<head>\n",
    "<script src=\"https://cdn.jsdelivr.net/npm/web3@1.2.5/dist/web3.min.js\"></script>\n",
    "<!-- script src=\"https://cdn.jsdelivr.net/npm/web3@0.20.5/dist/web3.min.js\"></script -->\n",
    "<script type=\"text/javascript\">\n",
    "    //var Web3 = require('web3');  // node에서는 필요하지만 여기서는 필요하지 않다\n",
    "    var web3 = new Web3(new Web3.providers.HttpProvider(\"http://localhost:8345\"));\n",
    "\n",
    "    function displayHello() {\n",
    "        var web3version = web3.version;  //web3.version.api\n",
    "        //web3@0.20.x\n",
    "        //var shelloContract = web3.eth.contract([{\"constant\":true,\"inputs\":[],\"name\":\"sayHello\",\"outputs\":[{\"name\":\"\",\"type\":\"string\"}],\"payable\":false,\"stateMutability\":\"pure\",\"type\":\"function\"}]);\n",
    "        //var hello = shelloContract.at(\"0x0d3C29cAD3c40497699e13CC34bA099E1fe426Ba\");\n",
    "        //var hello=hello.sayHello.call();\n",
    "        //document.getElementById('sayhello').innerText = \"The message from blockchain: \" + hello;\n",
    "        //document.getElementById('web3ver').innerText = 'web3 version 0.20.x: '+web3version.api;\n",
    "        //document.getElementById('web3coinbase').innerText = 'coinbase: ' + web3.eth.coinbase;\n",
    "\n",
    "        //web3@1.2.x - can not instanciate a contract\n",
    "        var shelloContract = new web3.eth.Contract([{\"constant\":true,\"inputs\":[],\"name\":\"sayHello\",\"outputs\":[{\"name\":\"\",\"type\":\"string\"}],\"payable\":false,\"stateMutability\":\"pure\",\"type\":\"function\"}],\n",
    "                                      \"0x0d3C29cAD3c40497699e13CC34bA099E1fe426Ba\");\n",
    "        shelloContract.methods.sayHello().call().then(function(str) {\n",
    "            document.getElementById('sayhello').innerText = \"The message from blockchain: \" + str;\n",
    "        });\n",
    "        document.getElementById('web3ver').innerText = '*web3 version: '+web3version;\n",
    "        web3.eth.getCoinbase().then(function(coin) {\n",
    "            document.getElementById('web3coinbase').innerText = 'coinbase: ' + coin;\n",
    "            });\n",
    "    }\n",
    "</script>\n",
    "</head>\n",
    "<body>\n",
    "    <h1>Hello</h1>\n",
    "    <button type=\"button\" onClick=\"displayHello();\">Display Hello</button>\n",
    "    <div></div>\n",
    "    <div id=\"sayhello\"></div>\n",
    "    <div id=\"web3ver\"></div>\n",
    "    <div id=\"web3coinbase\"></div>\n",
    "</body>\n",
    "</html>"
   ]
  },
  {
   "cell_type": "code",
   "execution_count": 6,
   "metadata": {},
   "outputs": [],
   "source": [
    "# python -m http.server 8045\n",
    "# http://localhost:8045/scripts/hello.html"
   ]
  },
  {
   "cell_type": "code",
   "execution_count": 4,
   "metadata": {},
   "outputs": [
    {
     "name": "stdout",
     "output_type": "stream",
     "text": [
      "Overwriting Greeter.sol\n"
     ]
    }
   ],
   "source": [
    "%%writefile Greeter.sol\n",
    "pragma solidity ^0.8.0;\n",
    "\n",
    "contract Greeter {\n",
    "    string greeting;// 상태변수 끝나도 값이 초기화 안 됨\n",
    "\n",
    "    constructor() public {\n",
    "        greeting = 'Hello';\n",
    "    }\n",
    "\n",
    "    function setGreeting(string memory _greeting) public {// (함수의 인자 = memory) setGreeting\n",
    "        greeting = _greeting;\n",
    "    }\n",
    "\n",
    "    function greet() view public returns (string memory) {// call 함수 greet\n",
    "        return greeting;\n",
    "    }\n",
    "}"
   ]
  },
  {
   "cell_type": "code",
   "execution_count": 5,
   "metadata": {},
   "outputs": [
    {
     "name": "stderr",
     "output_type": "stream",
     "text": [
      "Warning: SPDX license identifier not provided in source file. Before publishing, consider adding a comment containing \"SPDX-License-Identifier: <SPDX-License>\" to each source file. Use \"SPDX-License-Identifier: UNLICENSED\" for non-open-source code. Please see https://spdx.org for more information.\n",
      "--> Greeter.sol\n",
      "\n",
      "Warning: Visibility for constructor is ignored. If you want the contract to be non-deployable, making it \"abstract\" is sufficient.\n",
      " --> Greeter.sol:6:5:\n",
      "  |\n",
      "6 |     constructor() public {\n",
      "  |     ^ (Relevant source part starts here and spans across multiple lines).\n",
      "\n"
     ]
    },
    {
     "name": "stdout",
     "output_type": "stream",
     "text": [
      "\n",
      "======= Greeter.sol:Greeter =======\n",
      "Binary:\n",
      "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\n"
     ]
    }
   ],
   "source": [
    "! solc-windows.exe --bin Greeter.sol"
   ]
  },
  {
   "cell_type": "markdown",
   "metadata": {},
   "source": [
    "REMIX\n",
    "\n",
    "greet - call// event가 나와서 값이 뭐가 나왔는지 확인 가능\n",
    "\n"
   ]
  },
  {
   "cell_type": "code",
   "execution_count": 19,
   "metadata": {},
   "outputs": [
    {
     "name": "stdout",
     "output_type": "stream",
     "text": [
      "Overwriting src/greeterDeploy.js\n"
     ]
    }
   ],
   "source": [
    "%%writefile src/greeterDeploy.js\n",
    "\n",
    "var Web3=require('web3');\n",
    "var web3;\n",
    "if (typeof web3 !== 'undefined') {\n",
    "    web3 = new Web3(web3.currentProvider);\n",
    "} else {\n",
    "    web3 = new Web3(new Web3.providers.HttpProvider(\"http://localhost:8345\"));\n",
    "}\n",
    "var _abiArray=[{\"constant\":false,\"inputs\":[{\"name\":\"_greeting\",\"type\":\"string\"}],\"name\":\"setGreeting\",\"outputs\":[],\"payable\":false,\"stateMutability\":\"nonpayable\",\"type\":\"function\"},{\"constant\":true,\"inputs\":[],\"name\":\"greet\",\"outputs\":[{\"name\":\"\",\"type\":\"string\"}],\"payable\":false,\"stateMutability\":\"view\",\"type\":\"function\"},{\"inputs\":[],\"payable\":false,\"stateMutability\":\"nonpayable\",\"type\":\"constructor\"}];\n",
    "var _bin=\"60806040523480156100...생략...216b550029\";\n",
    "var _contract = new web3.eth.Contract(_abiArray);\n",
    "//web3.personal.unlockAccount(web3.eth.accounts[0],'password'); 비밀번호 해제는 콘솔에서 하는 편이 좋다\n",
    "_contract\n",
    "    .deploy({data:\"0x\"+_bin})\n",
    "    .send({from: \"0xfA279EEA36550b831ce5734475F67e7d6eC4d607\", gas: 364124, gasPrice: '1000000000'})\n",
    "    .then(function(newContractInstance){\n",
    "        console.log(newContractInstance.options.address) // instance with the new contract address\n",
    "    });"
   ]
  },
  {
   "cell_type": "code",
   "execution_count": 20,
   "metadata": {},
   "outputs": [
    {
     "name": "stderr",
     "output_type": "stream",
     "text": [
      "c:\\Users\\ljm31\\OneDrive\\바탕 화면\\학교 자료\\24년도 1학기 수업자료\\blockChain\\node_modules\\web3-core-helpers\\lib\\formatters.js:133\n",
      "        throw new Error('The data field must be HEX encoded data.');\n",
      "        ^\n",
      "\n",
      "Error: The data field must be HEX encoded data.\n",
      "    at _txInputFormatter \u001b[90m(c:\\Users\\ljm31\\OneDrive\\바탕 화면\\학교 자료\\24년도 1학기 수업자료\\blockChain\\\u001b[39mnode_modules\\\u001b[4mweb3-core-helpers\u001b[24m\\lib\\formatters.js:133:15\u001b[90m)\u001b[39m\n",
      "    at Method.inputTransactionFormatter \u001b[90m(c:\\Users\\ljm31\\OneDrive\\바탕 화면\\학교 자료\\24년도 1학기 수업자료\\blockChain\\\u001b[39mnode_modules\\\u001b[4mweb3-core-helpers\u001b[24m\\lib\\formatters.js:172:15\u001b[90m)\u001b[39m\n",
      "    at \u001b[90mc:\\Users\\ljm31\\OneDrive\\바탕 화면\\학교 자료\\24년도 1학기 수업자료\\blockChain\\\u001b[39mnode_modules\\\u001b[4mweb3-core-method\u001b[24m\\lib\\index.js:130:38\n",
      "    at Array.map (<anonymous>)\n",
      "    at Method.formatInput \u001b[90m(c:\\Users\\ljm31\\OneDrive\\바탕 화면\\학교 자료\\24년도 1학기 수업자료\\blockChain\\\u001b[39mnode_modules\\\u001b[4mweb3-core-method\u001b[24m\\lib\\index.js:128:32\u001b[90m)\u001b[39m\n",
      "    at Method.toPayload \u001b[90m(c:\\Users\\ljm31\\OneDrive\\바탕 화면\\학교 자료\\24년도 1학기 수업자료\\blockChain\\\u001b[39mnode_modules\\\u001b[4mweb3-core-method\u001b[24m\\lib\\index.js:161:23\u001b[90m)\u001b[39m\n",
      "    at send \u001b[90m(c:\\Users\\ljm31\\OneDrive\\바탕 화면\\학교 자료\\24년도 1학기 수업자료\\blockChain\\\u001b[39mnode_modules\\\u001b[4mweb3-core-method\u001b[24m\\lib\\index.js:507:61\u001b[90m)\u001b[39m\n",
      "    at Object._executeMethod \u001b[90m(c:\\Users\\ljm31\\OneDrive\\바탕 화면\\학교 자료\\24년도 1학기 수업자료\\blockChain\\\u001b[39mnode_modules\\\u001b[4mweb3-eth-contract\u001b[24m\\lib\\index.js:900:20\u001b[90m)\u001b[39m\n",
      "    at Object.<anonymous> \u001b[90m(c:\\Users\\ljm31\\OneDrive\\바탕 화면\\학교 자료\\24년도 1학기 수업자료\\blockChain\\\u001b[39msrc\\greeterDeploy.js:15:6\u001b[90m)\u001b[39m\n",
      "\u001b[90m    at Module._compile (node:internal/modules/cjs/loader:1376:14)\u001b[39m\n",
      "\u001b[90m    at Module._extensions..js (node:internal/modules/cjs/loader:1435:10)\u001b[39m\n",
      "\u001b[90m    at Module.load (node:internal/modules/cjs/loader:1207:32)\u001b[39m\n",
      "\u001b[90m    at Module._load (node:internal/modules/cjs/loader:1023:12)\u001b[39m\n",
      "\u001b[90m    at Function.executeUserEntryPoint [as runMain] (node:internal/modules/run_main:135:12)\u001b[39m\n",
      "\u001b[90m    at node:internal/main/run_main_module:28:49\u001b[39m\n",
      "\n",
      "Node.js v21.1.0\n"
     ]
    }
   ],
   "source": [
    "! node src/greeterDeploy.js"
   ]
  },
  {
   "cell_type": "code",
   "execution_count": 22,
   "metadata": {},
   "outputs": [
    {
     "name": "stdout",
     "output_type": "stream",
     "text": [
      "Overwriting src/greeterUse.js\n"
     ]
    }
   ],
   "source": [
    "%%writefile src/greeterUse.js\n",
    "var Web3=require('web3');\n",
    "var web3 = new Web3(new Web3.providers.HttpProvider(\"http://localhost:8345\"));\n",
    "var _abiArray=[{\"constant\":false,\"inputs\":[{\"name\":\"_greeting\",\"type\":\"string\"}],\"name\":\"setGreeting\",\"outputs\":[],\"payable\":false,\"stateMutability\":\"nonpayable\",\"type\":\"function\"},{\"constant\":true,\"inputs\":[],\"name\":\"greet\",\"outputs\":[{\"name\":\"\",\"type\":\"string\"}],\"payable\":false,\"stateMutability\":\"view\",\"type\":\"function\"},{\"inputs\":[],\"payable\":false,\"stateMutability\":\"nonpayable\",\"type\":\"constructor\"}];\n",
    "var greeter = new web3.eth.Contract(_abiArray,\"0x2a77beD13a78bc0174b60eaD0eF6FA3F74F930c1\");\n",
    "greeter.methods.greet().call().then(function(value) {console.log(value);});\n",
    "greeter.methods.setGreeting(\"Hello SMU\").send({from:\"0xfA279EEA36550b831ce5734475F67e7d6eC4d607\",gas:100000});\n",
    "greeter.methods.greet().call().then(function(value) {console.log(value);});"
   ]
  },
  {
   "cell_type": "code",
   "execution_count": 2,
   "metadata": {},
   "outputs": [
    {
     "name": "stderr",
     "output_type": "stream",
     "text": [
      "(node:17672) [DEP0040] DeprecationWarning: The `punycode` module is deprecated. Please use a userland alternative instead.\n",
      "(Use `node --trace-deprecation ...` to show where the warning was created)\n",
      "c:\\Users\\ljm31\\OneDrive\\바탕 화면\\학교 자료\\24년도 1학기 수업자료\\blockChain\\node_modules\\web3-core-helpers\\lib\\errors.js:66\n",
      "        const error = new Error(msg);\n",
      "                      ^\n",
      "\n",
      "Error: CONNECTION ERROR: Couldn't connect to node http://localhost:8345.\n",
      "    at Object.ConnectionError (c:\\Users\\ljm31\\OneDrive\\바탕 화면\\학교 자료\\24년도 1학기 수업자료\\blockChain\\node_modules\\\u001b[4mweb3-core-helpers\u001b[24m\\lib\\errors.js:66:23)\n",
      "    at Object.InvalidConnection (c:\\Users\\ljm31\\OneDrive\\바탕 화면\\학교 자료\\24년도 1학기 수업자료\\blockChain\\node_modules\\\u001b[4mweb3-core-helpers\u001b[24m\\lib\\errors.js:36:21)\n",
      "    at HttpProvider.failed (c:\\Users\\ljm31\\OneDrive\\바탕 화면\\학교 자료\\24년도 1학기 수업자료\\blockChain\\node_modules\\\u001b[4mweb3-providers-http\u001b[24m\\lib\\index.js:150:25)\n",
      "\u001b[90m    at process.processTicksAndRejections (node:internal/process/task_queues:95:5)\u001b[39m {\n",
      "  code: \u001b[32m'ECONNREFUSED'\u001b[39m,\n",
      "  reason: \u001b[90mundefined\u001b[39m\n",
      "}\n",
      "\n",
      "Node.js v21.1.0\n"
     ]
    }
   ],
   "source": [
    "! node greeterUse.js"
   ]
  },
  {
   "cell_type": "markdown",
   "metadata": {},
   "source": []
  },
  {
   "cell_type": "code",
   "execution_count": 7,
   "metadata": {},
   "outputs": [
    {
     "name": "stdout",
     "output_type": "stream",
     "text": [
      "Overwriting Counter.sol\n"
     ]
    }
   ],
   "source": [
    "%%writefile Counter.sol\n",
    "\n",
    "pragma solidity ^0.8.0;\n",
    "contract Counter {\n",
    "    uint256 counter = 0;\n",
    "    function add() public {\n",
    "        counter++;\n",
    "    }\n",
    "    function subtract() public {\n",
    "        counter--;\n",
    "    }\n",
    "    function getCounter() public view returns (uint256) {// view는 읽기만 하게 만듬\n",
    "        return counter;\n",
    "    }\n",
    "}"
   ]
  },
  {
   "cell_type": "code",
   "execution_count": 8,
   "metadata": {},
   "outputs": [
    {
     "name": "stdout",
     "output_type": "stream",
     "text": [
      "\n",
      "======= Counter.sol:Counter =======\n",
      "Gas estimation:\n",
      "construction:\n",
      "   5141 + 89000 = 94141\n",
      "external:\n",
      "   add():\t24479\n",
      "   getCounter():\t2459\n",
      "   subtract():\t24501\n",
      "Binary:\n",
      "60806040526000805534801561001457600080fd5b506101bd806100246000396000f3fe608060405234801561001057600080fd5b50600436106100415760003560e01c80634f2be91f146100465780636deebae3146100505780638ada066e1461005a575b600080fd5b61004e610078565b005b610058610091565b005b6100626100aa565b60405161006f91906100cc565b60405180910390f35b60008081548092919061008a90610116565b9190505550565b6000808154809291906100a39061015e565b9190505550565b60008054905090565b6000819050919050565b6100c6816100b3565b82525050565b60006020820190506100e160008301846100bd565b92915050565b7f4e487b7100000000000000000000000000000000000000000000000000000000600052601160045260246000fd5b6000610121826100b3565b91507fffffffffffffffffffffffffffffffffffffffffffffffffffffffffffffffff8203610153576101526100e7565b5b600182019050919050565b6000610169826100b3565b91506000820361017c5761017b6100e7565b5b60018203905091905056fea2646970667358221220075601b7ceaf8e201b541221bb18750c624c9dfe134c6e50d41351d2bdce4df564736f6c63430008130033\n",
      "Contract JSON ABI\n",
      "[{\"inputs\":[],\"name\":\"add\",\"outputs\":[],\"stateMutability\":\"nonpayable\",\"type\":\"function\"},{\"inputs\":[],\"name\":\"getCounter\",\"outputs\":[{\"internalType\":\"uint256\",\"name\":\"\",\"type\":\"uint256\"}],\"stateMutability\":\"view\",\"type\":\"function\"},{\"inputs\":[],\"name\":\"subtract\",\"outputs\":[],\"stateMutability\":\"nonpayable\",\"type\":\"function\"}]\n"
     ]
    },
    {
     "name": "stderr",
     "output_type": "stream",
     "text": [
      "Warning: SPDX license identifier not provided in source file. Before publishing, consider adding a comment containing \"SPDX-License-Identifier: <SPDX-License>\" to each source file. Use \"SPDX-License-Identifier: UNLICENSED\" for non-open-source code. Please see https://spdx.org for more information.\n",
      "--> Counter.sol\n",
      "\n"
     ]
    }
   ],
   "source": [
    "! solc-windows.exe --abi --bin --gas Counter.sol\n",
    "\n",
    "# 두 자리를 한 바이트로 읽으면 된다"
   ]
  },
  {
   "cell_type": "code",
   "execution_count": 11,
   "metadata": {},
   "outputs": [
    {
     "name": "stdout",
     "output_type": "stream",
     "text": [
      "Overwriting counterDeploy.js\n"
     ]
    }
   ],
   "source": [
    "%%writefile counterDeploy.js\n",
    "\n",
    "var Web3=require('web3');\n",
    "var web3 = new Web3(new Web3.providers.HttpProvider(\"http://localhost:8345\"));\n",
    "\n",
    "var _abiArray=[{\"inputs\":[],\"name\":\"add\",\"outputs\":[],\"stateMutability\":\"nonpayable\",\"type\":\"function\"},{\"inputs\":[],\"name\":\"getCounter\",\"outputs\":[{\"internalType\":\"uint256\",\"name\":\"\",\"type\":\"uint256\"}],\"stateMutability\":\"view\",\"type\":\"function\"},{\"inputs\":[],\"name\":\"subtract\",\"outputs\":[],\"stateMutability\":\"nonpayable\",\"type\":\"function\"}]; //<--- (Y) 위 (B)를 복사-붙여넣기\n",
    "\n",
    "var _bin = \"60806040526000805534801561001457600080fd5b506101bd806100246000396000f3fe608060405234801561001057600080fd5b50600436106100415760003560e01c80634f2be91f146100465780636deebae3146100505780638ada066e1461005a575b600080fd5b61004e610078565b005b610058610091565b005b6100626100aa565b60405161006f91906100cc565b60405180910390f35b60008081548092919061008a90610116565b9190505550565b6000808154809291906100a39061015e565b9190505550565b60008054905090565b6000819050919050565b6100c6816100b3565b82525050565b60006020820190506100e160008301846100bd565b92915050565b7f4e487b7100000000000000000000000000000000000000000000000000000000600052601160045260246000fd5b6000610121826100b3565b91507fffffffffffffffffffffffffffffffffffffffffffffffffffffffffffffffff8203610153576101526100e7565b5b600182019050919050565b6000610169826100b3565b91506000820361017c5761017b6100e7565b5b60018203905091905056fea2646970667358221220075601b7ceaf8e201b541221bb18750c624c9dfe134c6e50d41351d2bdce4df564736f6c63430008130033\"// ...생략...736f6c63430008010033;   <--- (X) 위 (A)를 복사-붙여넣기\n",
    "\n",
    "var _contract = new web3.eth.Contract(_abiArray);\n",
    "_contract\n",
    "    .deploy({data:\"0x\"+_bin})\n",
    "    .send({from: \"0x9f6bD72192d5F842a0753B13F6A54c3117B39252\", gas: 364124, gasPrice: '1000000000'})\n",
    "    .then(function(newContractInstance){\n",
    "        console.log(newContractInstance.options.address) // instance with the new contract address\n",
    "    });"
   ]
  },
  {
   "cell_type": "code",
   "execution_count": 12,
   "metadata": {},
   "outputs": [
    {
     "name": "stdout",
     "output_type": "stream",
     "text": [
      "0xB97ba852dd5AaDC3ddACb49D1E1b4A49eB218f5c"
     ]
    },
    {
     "name": "stderr",
     "output_type": "stream",
     "text": [
      "(node:19588) [DEP0040] DeprecationWarning: The `punycode` module is deprecated. Please use a userland alternative instead.\n",
      "(Use `node --trace-deprecation ...` to show where the warning was created)\n"
     ]
    },
    {
     "name": "stdout",
     "output_type": "stream",
     "text": [
      "\n"
     ]
    }
   ],
   "source": [
    "! node counterDeploy.js"
   ]
  },
  {
   "cell_type": "code",
   "execution_count": 13,
   "metadata": {},
   "outputs": [
    {
     "name": "stdout",
     "output_type": "stream",
     "text": [
      "Overwriting counterUse.js\n"
     ]
    }
   ],
   "source": [
    "%%writefile counterUse.js\n",
    "\n",
    "var Web3=require('web3');\n",
    "var web3 = new Web3(new Web3.providers.HttpProvider(\"http://localhost:8345\"));\n",
    "var abi =[\n",
    "\t{\n",
    "\t\t\"inputs\": [],\n",
    "\t\t\"name\": \"add\",\n",
    "\t\t\"outputs\": [],\n",
    "\t\t\"stateMutability\": \"nonpayable\",\n",
    "\t\t\"type\": \"function\"\n",
    "\t},\n",
    "\t{\n",
    "\t\t\"inputs\": [],\n",
    "\t\t\"name\": \"subtract\",\n",
    "\t\t\"outputs\": [],\n",
    "\t\t\"stateMutability\": \"nonpayable\",\n",
    "\t\t\"type\": \"function\"\n",
    "\t},\n",
    "\t{\n",
    "\t\t\"inputs\": [],\n",
    "\t\t\"name\": \"getCounter\",\n",
    "\t\t\"outputs\": [\n",
    "\t\t\t{\n",
    "\t\t\t\t\"internalType\": \"uint256\",\n",
    "\t\t\t\t\"name\": \"\",\n",
    "\t\t\t\t\"type\": \"uint256\"\n",
    "\t\t\t}\n",
    "\t\t],\n",
    "\t\t\"stateMutability\": \"view\",\n",
    "\t\t\"type\": \"function\"\n",
    "\t}\n",
    "];\n",
    "var addr = \"0xB97ba852dd5AaDC3ddACb49D1E1b4A49eB218f5c\";// <--- (Z) 위 (C)를 복사-붙여넣기\n",
    "var counter = new web3.eth.Contract(abi,addr);\n",
    "counter.methods.getCounter().call().then(function(str) {console.log(str);});\n",
    "//counter.methods.subtract().send({from:\"0x9f6bD72192d5F842a0753B13F6A54c3117B39252\",gas:100000});// 값을 빼는 코드\n",
    "counter.methods.add().send({from:\"0x9f6bD72192d5F842a0753B13F6A54c3117B39252\",gas:100000});\n",
    "counter.methods.add().send({from:\"0x9f6bD72192d5F842a0753B13F6A54c3117B39252\",gas:100000});\n",
    "counter.methods.getCounter().call().then(function(str) {console.log(str);});"
   ]
  },
  {
   "cell_type": "code",
   "execution_count": 17,
   "metadata": {},
   "outputs": [
    {
     "name": "stdout",
     "output_type": "stream",
     "text": [
      "6\n",
      "6\n"
     ]
    },
    {
     "name": "stderr",
     "output_type": "stream",
     "text": [
      "(node:10524) [DEP0040] DeprecationWarning: The `punycode` module is deprecated. Please use a userland alternative instead.\n",
      "(Use `node --trace-deprecation ...` to show where the warning was created)\n"
     ]
    }
   ],
   "source": [
    "! node counterUse.js"
   ]
  },
  {
   "cell_type": "code",
   "execution_count": 30,
   "metadata": {},
   "outputs": [
    {
     "name": "stdout",
     "output_type": "stream",
     "text": [
      "Writing Timer.sol\n"
     ]
    }
   ],
   "source": [
    "%%writefile Timer.sol\n",
    "pragma solidity ^0.8.0;\n",
    "contract Timer {\n",
    "    uint256 startTime;\n",
    "    function start() public {\n",
    "        startTime=block.timestamp;\n",
    "    }\n",
    "    function timePassed() public view returns(uint256) {\n",
    "        return block.timestamp-startTime;\n",
    "    }\n",
    "    function getNow() view public returns(uint) {\n",
    "        return block.timestamp;\n",
    "    }\n",
    "}"
   ]
  },
  {
   "cell_type": "code",
   "execution_count": 31,
   "metadata": {},
   "outputs": [
    {
     "name": "stderr",
     "output_type": "stream",
     "text": [
      "Warning: SPDX license identifier not provided in source file. Before publishing, consider adding a comment containing \"SPDX-License-Identifier: <SPDX-License>\" to each source file. Use \"SPDX-License-Identifier: UNLICENSED\" for non-open-source code. Please see https://spdx.org for more information.\n",
      "--> Timer.sol\n",
      "\n"
     ]
    }
   ],
   "source": [
    "! solc-windows.exe --optimize --combined-json abi,bin Timer.sol > Timer.json\n",
    "# sol프로그램을 json으로 >는 pipeline중에 하나이다"
   ]
  },
  {
   "cell_type": "code",
   "execution_count": 39,
   "metadata": {},
   "outputs": [
    {
     "name": "stdout",
     "output_type": "stream",
     "text": [
      "{\"contracts\":{\"Timer.sol:Timer\":{\"abi\":[{\"inputs\":[],\"name\":\"getNow\",\"outputs\":[{\"internalType\":\"uint256\",\"name\":\"\",\"type\":\"uint256\"}],\"stateMutability\":\"view\",\"type\":\"function\"},{\"inputs\":[],\"name\":\"start\",\"outputs\":[],\"stateMutability\":\"nonpayable\",\"type\":\"function\"},{\"inputs\":[],\"name\":\"timePassed\",\"outputs\":[{\"internalType\":\"uint256\",\"name\":\"\",\"type\":\"uint256\"}],\"stateMutability\":\"view\",\"type\":\"function\"}],\"bin\":\"608060405234801561001057600080fd5b5060d58061001f6000396000f3fe6080604052348015600f57600080fd5b5060043610603c5760003560e01c8063b4454253146041578063bbe4fd50146059578063be9a655514605e575b600080fd5b60476068565b60405190815260200160405180910390f35b426047565b606642600055565b005b60008054607490426079565b905090565b81810381811115609957634e487b7160e01b600052601160045260246000fd5b9291505056fea264697066735822122031d1c567d9851078fda787bacc6eef5cb5cc59becc47a12f5135fecd90535ae364736f6c63430008130033\"}},\"version\":\"0.8.19+commit.7dd6d404.Windows.msvc\"}\n"
     ]
    }
   ],
   "source": [
    "! type Timer.json"
   ]
  },
  {
   "cell_type": "code",
   "execution_count": 60,
   "metadata": {},
   "outputs": [
    {
     "name": "stdout",
     "output_type": "stream",
     "text": [
      "Overwriting TimerImportTest.js\n"
     ]
    }
   ],
   "source": [
    "%%writefile TimerImportTest.js\n",
    "\n",
    "const _abiBinJson = require('./Timer.json');     // 파일 가져오기\n",
    "contractName=Object.keys(_abiBinJson.contracts); // ['src/Timer.sol:Timer'] 이 부분을 읽어온다\n",
    "console.log(\"- contract name: \", contractName);\n",
    "_abi=_abiBinJson.contracts[contractName].abi;\n",
    "_abiArray=JSON.parse(JSON.stringify(_abi));// 3번째줄이 안 읽어져서 parsing 해버림 근데 안 읽어짐\n",
    "_bin=_abiBinJson.contracts[contractName].bin;\n",
    "console.log(\"- ABI: \", _abi);\n",
    "console.log(\"- ABIArray: \", _abiArray);\n",
    "console.log(\"- Bytecode: \", _bin);"
   ]
  },
  {
   "cell_type": "code",
   "execution_count": 61,
   "metadata": {},
   "outputs": [
    {
     "name": "stdout",
     "output_type": "stream",
     "text": [
      "- contract name:  [ \u001b[32m'Timer.sol:Timer'\u001b[39m ]\n",
      "- ABI:  [\n",
      "  {\n",
      "    inputs: [],\n",
      "    name: \u001b[32m'getNow'\u001b[39m,\n",
      "    outputs: [ \u001b[36m[Object]\u001b[39m ],\n",
      "    stateMutability: \u001b[32m'view'\u001b[39m,\n",
      "    type: \u001b[32m'function'\u001b[39m\n",
      "  },\n",
      "  {\n",
      "    inputs: [],\n",
      "    name: \u001b[32m'start'\u001b[39m,\n",
      "    outputs: [],\n",
      "    stateMutability: \u001b[32m'nonpayable'\u001b[39m,\n",
      "    type: \u001b[32m'function'\u001b[39m\n",
      "  },\n",
      "  {\n",
      "    inputs: [],\n",
      "    name: \u001b[32m'timePassed'\u001b[39m,\n",
      "    outputs: [ \u001b[36m[Object]\u001b[39m ],\n",
      "    stateMutability: \u001b[32m'view'\u001b[39m,\n",
      "    type: \u001b[32m'function'\u001b[39m\n",
      "  }\n",
      "]\n",
      "- ABIArray:  [\n",
      "  {\n",
      "    inputs: [],\n",
      "    name: \u001b[32m'getNow'\u001b[39m,\n",
      "    outputs: [ \u001b[36m[Object]\u001b[39m ],\n",
      "    stateMutability: \u001b[32m'view'\u001b[39m,\n",
      "    type: \u001b[32m'function'\u001b[39m\n",
      "  },\n",
      "  {\n",
      "    inputs: [],\n",
      "    name: \u001b[32m'start'\u001b[39m,\n",
      "    outputs: [],\n",
      "    stateMutability: \u001b[32m'nonpayable'\u001b[39m,\n",
      "    type: \u001b[32m'function'\u001b[39m\n",
      "  },\n",
      "  {\n",
      "    inputs: [],\n",
      "    name: \u001b[32m'timePassed'\u001b[39m,\n",
      "    outputs: [ \u001b[36m[Object]\u001b[39m ],\n",
      "    stateMutability: \u001b[32m'view'\u001b[39m,\n",
      "    type: \u001b[32m'function'\u001b[39m\n",
      "  }\n",
      "]\n",
      "- Bytecode:  608060405234801561001057600080fd5b5060d58061001f6000396000f3fe6080604052348015600f57600080fd5b5060043610603c5760003560e01c8063b4454253146041578063bbe4fd50146059578063be9a655514605e575b600080fd5b60476068565b60405190815260200160405180910390f35b426047565b606642600055565b005b60008054607490426079565b905090565b81810381811115609957634e487b7160e01b600052601160045260246000fd5b9291505056fea264697066735822122031d1c567d9851078fda787bacc6eef5cb5cc59becc47a12f5135fecd90535ae364736f6c63430008130033\n"
     ]
    }
   ],
   "source": [
    "! node TimerImportTest.js\n",
    "# object 안 생기는 방법 알아야됨"
   ]
  },
  {
   "cell_type": "code",
   "execution_count": 68,
   "metadata": {},
   "outputs": [
    {
     "name": "stdout",
     "output_type": "stream",
     "text": [
      "Overwriting TimerDeployAbiBinFromFile.js\n"
     ]
    }
   ],
   "source": [
    "%%writefile TimerDeployAbiBinFromFile.js\n",
    "\n",
    "var Web3 = require('web3');\n",
    "var _abiBinJson = require('./Timer.json');      //importing a javascript file\n",
    "\n",
    "var web3 = new Web3(new Web3.providers.HttpProvider(\"http://localhost:8345\"));\n",
    "\n",
    "contractName=Object.keys(_abiBinJson.contracts); // reading ['src/Timer.sol:Timer']\n",
    "console.log(\"- contract name: \", contractName);\n",
    "_abi=_abiBinJson.contracts[contractName].abi;\n",
    "//_abiArray=JSON.parse(JSON.stringify(_abi));\n",
    "_abiArray=JSON.parse(JSON.stringify(_abi));      // 오류가 발생하면 JSON.stringfy(_abi)를 사용할 것\n",
    "_bin=_abiBinJson.contracts[contractName].bin;\n",
    "\n",
    "console.log(\"- ABI: \" + _abiArray);\n",
    "console.log(\"- Bytecode: \" + _bin);\n",
    "\n",
    "async function deploy() {\n",
    "    const accounts = await web3.eth.getAccounts();\n",
    "    console.log(\"Deploying the contract from \" + accounts[0]);\n",
    "    var deployed = await new web3.eth.Contract(_abiArray)\n",
    "        .deploy({data: \"0x\"+_bin})\n",
    "        .send({from: accounts[0], gas: 364124}, function(err, transactionHash) {\n",
    "                if(!err) console.log(\"hash: \" + transactionHash); \n",
    "        })\n",
    "    console.log(\"---> The contract deployed to: \" + deployed.options.address)\n",
    "}\n",
    "deploy()"
   ]
  },
  {
   "cell_type": "code",
   "execution_count": 69,
   "metadata": {},
   "outputs": [
    {
     "name": "stdout",
     "output_type": "stream",
     "text": [
      "- contract name:  [ \u001b[32m'Timer.sol:Timer'\u001b[39m ]\n",
      "- ABI: [object Object],[object Object],[object Object]\n",
      "- Bytecode: 608060405234801561001057600080fd5b5060d58061001f6000396000f3fe6080604052348015600f57600080fd5b5060043610603c5760003560e01c8063b4454253146041578063bbe4fd50146059578063be9a655514605e575b600080fd5b60476068565b60405190815260200160405180910390f35b426047565b606642600055565b005b60008054607490426079565b905090565b81810381811115609957634e487b7160e01b600052601160045260246000fd5b9291505056fea264697066735822122031d1c567d9851078fda787bacc6eef5cb5cc59becc47a12f5135fecd90535ae364736f6c63430008130033\n",
      "Deploying the contract from 0xA505503A0ef308e7e11000d6fC5b737ac215BC01\n",
      "hash: 0xed7c7b102c81cf81e212a0897bff726f51fb82f8b9258cbc774a3da1866b389f\n",
      "---> The contract deployed to: 0xD5Eff8B3cF2C6308DA963cE65799DA89Dc18aFeC\n"
     ]
    },
    {
     "name": "stderr",
     "output_type": "stream",
     "text": [
      "(node:15028) [DEP0040] DeprecationWarning: The `punycode` module is deprecated. Please use a userland alternative instead.\n",
      "(Use `node --trace-deprecation ...` to show where the warning was created)\n"
     ]
    }
   ],
   "source": [
    "! node TimerDeployAbiBinFromFile.js"
   ]
  },
  {
   "cell_type": "code",
   "execution_count": 81,
   "metadata": {},
   "outputs": [
    {
     "name": "stdout",
     "output_type": "stream",
     "text": [
      "Overwriting TimerUse.js\n"
     ]
    }
   ],
   "source": [
    "%%writefile TimerUse.js\n",
    "\n",
    "var Web3=require('web3');\n",
    "var _abiBinJson = require('./Timer.json');      //importing a javascript file\n",
    "var contractAddress = \"0xD5Eff8B3cF2C6308DA963cE65799DA89Dc18aFeC\" // contract deployed 값\n",
    "var web3 = new Web3(new Web3.providers.HttpProvider(\"http://localhost:8345\"));\n",
    "contractName=Object.keys(_abiBinJson.contracts); // reading ['src/Timer.sol:Timer']\n",
    "//console.log(\"- contract name: \", contractName); //or console.log(contractName[0]);\n",
    "_abi=_abiBinJson.contracts[contractName].abi;\n",
    "_abiArray=JSON.parse(JSON.stringify(_abi));  \n",
    "//_abiArray=JSON.parse(_abi);      // 오류가 발생하면 JSON.stringfy(_abi)를 사용할 것\n",
    "//_bin=_abiBinJson.contracts[contractName].bin;\n",
    "\n",
    "// TimerDeployAbiBinFromFile.js를 실행시킨 후 나온 주소값으로 변경\n",
    "var timer = new web3.eth.Contract(_abiArray, contractAddress); \n",
    "\n",
    "async function doIt() {\n",
    "    const accounts = await web3.eth.getAccounts();\n",
    "    console.log(\"Call from: \" + accounts[0]);\n",
    "    timer.methods.getNow().call().then(function(value) {console.log(\"Now: \", value);});\n",
    "    await timer.methods.start().send({from:accounts[0],gas:100000});\n",
    "    //await 4000;\n",
    "    timer.methods.timePassed().call().then(function(value) {console.log(\"Passed: \", value);});\n",
    "}\n",
    "\n",
    "doIt()"
   ]
  },
  {
   "cell_type": "code",
   "execution_count": 80,
   "metadata": {},
   "outputs": [
    {
     "name": "stdout",
     "output_type": "stream",
     "text": [
      "Call from: 0xA505503A0ef308e7e11000d6fC5b737ac215BC01\n",
      "Now:  1715326818\n",
      "Passed:  0\n"
     ]
    },
    {
     "name": "stderr",
     "output_type": "stream",
     "text": [
      "(node:10620) [DEP0040] DeprecationWarning: The `punycode` module is deprecated. Please use a userland alternative instead.\n",
      "(Use `node --trace-deprecation ...` to show where the warning was created)\n"
     ]
    }
   ],
   "source": [
    "!node TimerUse.js\n",
    "# 가스가 왜 안 나올까??"
   ]
  },
  {
   "cell_type": "code",
   "execution_count": null,
   "metadata": {},
   "outputs": [],
   "source": [
    "%%writefile assignment10.js\n",
    "\n",
    "pragma solidity ^0.8.0;\n",
    "\n",
    "contract Greeter {\n",
    "    string greeting;// 상태변수 끝나도 값이 초기화 안 됨\n",
    "\n",
    "    constructor() public {\n",
    "        greeting = 'Hello';\n",
    "    }\n",
    "\n",
    "    function setGreeting(string memory _greeting) public {// (함수의 인자 = memory) setGreeting\n",
    "        greeting = _greeting;\n",
    "    }\n",
    "\n",
    "    function greet() view public returns (string memory) {// call 함수 greet\n",
    "        return greeting;\n",
    "    }\n",
    "}\n"
   ]
  }
 ],
 "metadata": {
  "kernelspec": {
   "display_name": "Python 3",
   "language": "python",
   "name": "python3"
  },
  "language_info": {
   "codemirror_mode": {
    "name": "ipython",
    "version": 3
   },
   "file_extension": ".py",
   "mimetype": "text/x-python",
   "name": "python",
   "nbconvert_exporter": "python",
   "pygments_lexer": "ipython3",
   "version": "3.11.5"
  }
 },
 "nbformat": 4,
 "nbformat_minor": 2
}
