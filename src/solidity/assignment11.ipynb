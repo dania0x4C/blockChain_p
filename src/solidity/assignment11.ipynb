{
 "cells": [
  {
   "cell_type": "markdown",
   "metadata": {},
   "source": [
    "11주 강의자료 MyBank.sol을 ganache@8345에 배포하고, 다음을 테스트하세요.\n",
    "\n",
    "- 은행에 1122 입금하고, 잔고 출력\n",
    "\n",
    "- 은행에서 1111 출금하고, 잔고 출력\n",
    "\n",
    "- transferTo() 함수를 호출해서, 자신의 account3으로 이체하고, 잔고 출력"
   ]
  },
  {
   "cell_type": "code",
   "execution_count": 4,
   "metadata": {},
   "outputs": [
    {
     "name": "stdout",
     "output_type": "stream",
     "text": [
      "Overwriting assignment11.sol\n"
     ]
    }
   ],
   "source": [
    "%%writefile assignment11.sol\n",
    "\n",
    "//SPDX-License-Identifier: GPL-3.0-or-later\n",
    "pragma solidity ^0.8.0;\n",
    "\n",
    "contract MyBank {\n",
    "    address owner; //address payable owner;\n",
    "    uint balance;\n",
    "    constructor() { //constructor() public {\n",
    "        owner = msg.sender;\n",
    "        balance = address(this).balance;\n",
    "    }\n",
    "    function deposit(uint amount) public payable {\n",
    "        require(msg.value == amount);// 입금되는 값 == 입금 할 값\n",
    "        balance += amount;\n",
    "    }\n",
    "\n",
    "    // 여기가 이해 안 됨\n",
    "    function withdraw(uint amount) public payable {\n",
    "        balance -= amount;   // 송금 전 감액\n",
    "        payable(owner).transfer(amount); // owner에게 전송 하는 것 이건 직접 해보자\n",
    "    }\n",
    "    function transferTo(address payable receiver, uint amount) public payable {\n",
    "        balance -= amount;   // 송금 전 감액\n",
    "        receiver.transfer(amount);\n",
    "    }\n",
    "\n",
    "    function getBalance() public view returns (uint) {\n",
    "        return balance;\n",
    "    }\n",
    "    function getBalanceOfThis() public view returns (uint) {\n",
    "        return address(this).balance;// this의 의미는??\n",
    "    }\n",
    "    function getBalanceOfOwner() public view returns (uint) {\n",
    "        return owner.balance;\n",
    "    }\n",
    "}"
   ]
  },
  {
   "cell_type": "code",
   "execution_count": 5,
   "metadata": {},
   "outputs": [
    {
     "name": "stdout",
     "output_type": "stream",
     "text": [
      "\n",
      "======= assignment11.sol:MyBank =======\n",
      "Binary:\n",
      "608060405234801561001057600080fd5b50336000806101000a81548173ffffffffffffffffffffffffffffffffffffffff021916908373ffffffffffffffffffffffffffffffffffffffff1602179055504760018190555061048d806100676000396000f3fe6080604052600436106100555760003560e01c806312065fe01461005a5780632ccb1b30146100855780632e1a7d4d146100a1578063934d85b4146100bd578063b6b55f25146100e8578063d8c2454114610104575b600080fd5b34801561006657600080fd5b5061006f61012f565b60405161007c91906102a9565b60405180910390f35b61009f600480360381019061009a9190610353565b610139565b005b6100bb60048036038101906100b69190610393565b61019d565b005b3480156100c957600080fd5b506100d2610220565b6040516100df91906102a9565b60405180910390f35b61010260048036038101906100fd9190610393565b610228565b005b34801561011057600080fd5b50610119610250565b60405161012691906102a9565b60405180910390f35b6000600154905090565b806001600082825461014b91906103ef565b925050819055508173ffffffffffffffffffffffffffffffffffffffff166108fc829081150290604051600060405180830381858888f19350505050158015610198573d6000803e3d6000fd5b505050565b80600160008282546101af91906103ef565b9250508190555060008054906101000a900473ffffffffffffffffffffffffffffffffffffffff1673ffffffffffffffffffffffffffffffffffffffff166108fc829081150290604051600060405180830381858888f1935050505015801561021c573d6000803e3d6000fd5b5050565b600047905090565b80341461023457600080fd5b80600160008282546102469190610423565b9250508190555050565b60008060009054906101000a900473ffffffffffffffffffffffffffffffffffffffff1673ffffffffffffffffffffffffffffffffffffffff1631905090565b6000819050919050565b6102a381610290565b82525050565b60006020820190506102be600083018461029a565b92915050565b600080fd5b600073ffffffffffffffffffffffffffffffffffffffff82169050919050565b60006102f4826102c9565b9050919050565b610304816102e9565b811461030f57600080fd5b50565b600081359050610321816102fb565b92915050565b61033081610290565b811461033b57600080fd5b50565b60008135905061034d81610327565b92915050565b6000806040838503121561036a576103696102c4565b5b600061037885828601610312565b92505060206103898582860161033e565b9150509250929050565b6000602082840312156103a9576103a86102c4565b5b60006103b78482850161033e565b91505092915050565b7f4e487b7100000000000000000000000000000000000000000000000000000000600052601160045260246000fd5b60006103fa82610290565b915061040583610290565b925082820390508181111561041d5761041c6103c0565b5b92915050565b600061042e82610290565b915061043983610290565b9250828201905080821115610451576104506103c0565b5b9291505056fea2646970667358221220a8492b1ff176c68ad67e6390230c76797f3e20babcf77db3ce0b25eb7fdfeaa864736f6c63430008130033\n",
      "Contract JSON ABI\n",
      "[{\"inputs\":[],\"stateMutability\":\"nonpayable\",\"type\":\"constructor\"},{\"inputs\":[{\"internalType\":\"uint256\",\"name\":\"amount\",\"type\":\"uint256\"}],\"name\":\"deposit\",\"outputs\":[],\"stateMutability\":\"payable\",\"type\":\"function\"},{\"inputs\":[],\"name\":\"getBalance\",\"outputs\":[{\"internalType\":\"uint256\",\"name\":\"\",\"type\":\"uint256\"}],\"stateMutability\":\"view\",\"type\":\"function\"},{\"inputs\":[],\"name\":\"getBalanceOfOwner\",\"outputs\":[{\"internalType\":\"uint256\",\"name\":\"\",\"type\":\"uint256\"}],\"stateMutability\":\"view\",\"type\":\"function\"},{\"inputs\":[],\"name\":\"getBalanceOfThis\",\"outputs\":[{\"internalType\":\"uint256\",\"name\":\"\",\"type\":\"uint256\"}],\"stateMutability\":\"view\",\"type\":\"function\"},{\"inputs\":[{\"internalType\":\"address payable\",\"name\":\"receiver\",\"type\":\"address\"},{\"internalType\":\"uint256\",\"name\":\"amount\",\"type\":\"uint256\"}],\"name\":\"transferTo\",\"outputs\":[],\"stateMutability\":\"payable\",\"type\":\"function\"},{\"inputs\":[{\"internalType\":\"uint256\",\"name\":\"amount\",\"type\":\"uint256\"}],\"name\":\"withdraw\",\"outputs\":[],\"stateMutability\":\"payable\",\"type\":\"function\"}]\n"
     ]
    }
   ],
   "source": [
    "! solc-windows.exe --abi --bin assignment11.sol"
   ]
  },
  {
   "cell_type": "code",
   "execution_count": 8,
   "metadata": {},
   "outputs": [
    {
     "name": "stdout",
     "output_type": "stream",
     "text": [
      "Overwriting assignment11Deploy.js\n"
     ]
    }
   ],
   "source": [
    "%%writefile assignment11Deploy.js\n",
    "\n",
    "var Web3 = require('web3');\n",
    "var web3;\n",
    "\n",
    "if (typeof web3 !== 'undefined') {\n",
    "    web3 = new Web3(web3.currentProvider);\n",
    "} else {\n",
    "    web3 = new Web3(new Web3.providers.HttpProvider(\"http://localhost:8345\"));\n",
    "}\n",
    "\n",
    "// ABI와 바이너리 데이터\n",
    "var _abiArray = [{\"inputs\":[],\"stateMutability\":\"nonpayable\",\"type\":\"constructor\"},{\"inputs\":[{\"internalType\":\"uint256\",\"name\":\"amount\",\"type\":\"uint256\"}],\"name\":\"deposit\",\"outputs\":[],\"stateMutability\":\"payable\",\"type\":\"function\"},{\"inputs\":[],\"name\":\"getBalance\",\"outputs\":[{\"internalType\":\"uint256\",\"name\":\"\",\"type\":\"uint256\"}],\"stateMutability\":\"view\",\"type\":\"function\"},{\"inputs\":[],\"name\":\"getBalanceOfOwner\",\"outputs\":[{\"internalType\":\"uint256\",\"name\":\"\",\"type\":\"uint256\"}],\"stateMutability\":\"view\",\"type\":\"function\"},{\"inputs\":[],\"name\":\"getBalanceOfThis\",\"outputs\":[{\"internalType\":\"uint256\",\"name\":\"\",\"type\":\"uint256\"}],\"stateMutability\":\"view\",\"type\":\"function\"},{\"inputs\":[{\"internalType\":\"address payable\",\"name\":\"receiver\",\"type\":\"address\"},{\"internalType\":\"uint256\",\"name\":\"amount\",\"type\":\"uint256\"}],\"name\":\"transferTo\",\"outputs\":[],\"stateMutability\":\"payable\",\"type\":\"function\"},{\"inputs\":[{\"internalType\":\"uint256\",\"name\":\"amount\",\"type\":\"uint256\"}],\"name\":\"withdraw\",\"outputs\":[],\"stateMutability\":\"payable\",\"type\":\"function\"}];\n",
    "var _bin = \"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\"\n",
    "\n",
    "// 스마트 컨트랙트 배포\n",
    "var _contract = new web3.eth.Contract(_abiArray);\n",
    "_contract\n",
    "    .deploy({data: \"0x\" + _bin})\n",
    "    .send({from: \"0x185C1Df9264622eB666cb85c0E955eaC6A833847\", gas: 364124, gasPrice: '875000000'})\n",
    "    .then(function(newContractInstance){\n",
    "        console.log(newContractInstance.options.address); // 새 컨트랙트 주소 출력\n",
    "    });\n"
   ]
  },
  {
   "cell_type": "code",
   "execution_count": 15,
   "metadata": {},
   "outputs": [
    {
     "name": "stdout",
     "output_type": "stream",
     "text": [
      "0xC68Cd3720A7f22bD0e892384A60C199f89FD2cA7\n"
     ]
    },
    {
     "name": "stderr",
     "output_type": "stream",
     "text": [
      "(node:11396) [DEP0040] DeprecationWarning: The `punycode` module is deprecated. Please use a userland alternative instead.\n",
      "(Use `node --trace-deprecation ...` to show where the warning was created)\n"
     ]
    }
   ],
   "source": [
    "! node assignment11Deploy.js"
   ]
  },
  {
   "cell_type": "code",
   "execution_count": 16,
   "metadata": {},
   "outputs": [
    {
     "name": "stdout",
     "output_type": "stream",
     "text": [
      "Overwriting assignmentUse11.js\n"
     ]
    }
   ],
   "source": [
    "%%writefile assignmentUse11.js\n",
    "var Web3 = require('web3');\n",
    "var web3 = new Web3(new Web3.providers.HttpProvider(\"http://localhost:8345\"));\n",
    "\n",
    "var _abiArray = [{\"inputs\":[],\"stateMutability\":\"nonpayable\",\"type\":\"constructor\"},{\"inputs\":[{\"internalType\":\"uint256\",\"name\":\"amount\",\"type\":\"uint256\"}],\"name\":\"deposit\",\"outputs\":[],\"stateMutability\":\"payable\",\"type\":\"function\"},{\"inputs\":[],\"name\":\"getBalance\",\"outputs\":[{\"internalType\":\"uint256\",\"name\":\"\",\"type\":\"uint256\"}],\"stateMutability\":\"view\",\"type\":\"function\"},{\"inputs\":[],\"name\":\"getBalanceOfOwner\",\"outputs\":[{\"internalType\":\"uint256\",\"name\":\"\",\"type\":\"uint256\"}],\"stateMutability\":\"view\",\"type\":\"function\"},{\"inputs\":[],\"name\":\"getBalanceOfThis\",\"outputs\":[{\"internalType\":\"uint256\",\"name\":\"\",\"type\":\"uint256\"}],\"stateMutability\":\"view\",\"type\":\"function\"},{\"inputs\":[{\"internalType\":\"address payable\",\"name\":\"receiver\",\"type\":\"address\"},{\"internalType\":\"uint256\",\"name\":\"amount\",\"type\":\"uint256\"}],\"name\":\"transferTo\",\"outputs\":[],\"stateMutability\":\"payable\",\"type\":\"function\"},{\"inputs\":[{\"internalType\":\"uint256\",\"name\":\"amount\",\"type\":\"uint256\"}],\"name\":\"withdraw\",\"outputs\":[],\"stateMutability\":\"payable\",\"type\":\"function\"}];\n",
    "\n",
    "var myBank = new web3.eth.Contract(_abiArray, \"0xC68Cd3720A7f22bD0e892384A60C199f89FD2cA7\");\n",
    "\n",
    "async function doIt() {\n",
    "    const accounts = await web3.eth.getAccounts();\n",
    "    console.log(\"accounts[0]: \", await web3.eth.getBalance(accounts[0]));\n",
    "\n",
    "    myBank.methods.getBalance().call().then(console.log)\n",
    "    await myBank.methods.deposit(1122).send({from:accounts[0], gas:100000, value:1122});\n",
    "    await myBank.methods.getBalance().call().then(console.log)\n",
    "    await myBank.methods.withdraw(1111).send({from:accounts[0], gas:100000, value:1111});\n",
    "    await myBank.methods.getBalance().call().then(console.log)\n",
    "\n",
    "    console.log(\"accounts[2]\", await web3.eth.getBalance(accounts[2]));\n",
    "    await myBank.methods.transferTo(accounts[2], 11).send({from:accounts[0], gas:100000, value:11})\n",
    "    console.log(\"accounts[2]\", await web3.eth.getBalance(accounts[2]));\n",
    "}\n",
    "\n",
    "doIt()\n"
   ]
  },
  {
   "cell_type": "code",
   "execution_count": 17,
   "metadata": {},
   "outputs": [
    {
     "name": "stdout",
     "output_type": "stream",
     "text": [
      "accounts[0]:  999998570697159548818\n",
      "0\n",
      "1122\n",
      "11\n",
      "accounts[2] 1000000000000000000011\n",
      "accounts[2] 1000000000000000000022\n"
     ]
    },
    {
     "name": "stderr",
     "output_type": "stream",
     "text": [
      "(node:23088) [DEP0040] DeprecationWarning: The `punycode` module is deprecated. Please use a userland alternative instead.\n",
      "(Use `node --trace-deprecation ...` to show where the warning was created)\n"
     ]
    }
   ],
   "source": [
    "! node assignmentUse11.js\n",
    "\n",
    "## 여러번 실행해서 초기 값이 조금 다르지만 원하는 값으로 들어갔습니다."
   ]
  }
 ],
 "metadata": {
  "kernelspec": {
   "display_name": "Python 3",
   "language": "python",
   "name": "python3"
  },
  "language_info": {
   "codemirror_mode": {
    "name": "ipython",
    "version": 3
   },
   "file_extension": ".py",
   "mimetype": "text/x-python",
   "name": "python",
   "nbconvert_exporter": "python",
   "pygments_lexer": "ipython3",
   "version": "3.11.5"
  }
 },
 "nbformat": 4,
 "nbformat_minor": 2
}
