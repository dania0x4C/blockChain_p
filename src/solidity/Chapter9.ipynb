{
 "cells": [
  {
   "cell_type": "markdown",
   "metadata": {},
   "source": [
    "1. 함수 선언\n",
    "2. view, pure\n",
    "3. 가시성\n",
    "4. payable\n",
    "5. 생성자 - 한 번 호출된 후 더 이상 호출 x\n",
    "6. 함수로 제약조건 지정(실행 전 후 다른 코드 실행)\n",
    "7. 이벤트(잘 사용 안 함)\n",
    "8. fallback"
   ]
  },
  {
   "cell_type": "markdown",
   "metadata": {},
   "source": [
    "# 함수\n",
    "\n",
    "1. 내장함수\n",
    "2. 사용자 정의함수\n",
    "\n",
    "    fuction 함수명(인자) 이름 return(dataType) {/코드}\n",
    "\n",
    "# 생성자\n",
    "\n",
    "    constructer()\n",
    "\n",
    "1. 안 만들면 자동 생성\n",
    "2. 오버로딩 불가능\n",
    "3. 상속 -> 부모 생성자 호출 후 자식 생성자 호출\n",
    "4. 생성자는 반환값 x\n",
    "\n",
    "# view, pure\n",
    "\n",
    "구분 | 설명\n",
    "----------|----------\n",
    "view | 상태를 수정하지 않는 경우\n",
    "pure | 상태를 수정하지도 않으며, 읽지도 않는 경우\n",
    "\n",
    "```pure``` 함수는 다음과 같은 경우에 사용할 수 없다.\n",
    "\n",
    "* 상태 변수(state variables)를 읽는 경우,\n",
    "* 잔고 ```this.balance``` 또는 ```<address>.balance```를 읽는 경우,\n",
    "* 전역변수 ```block```, ```tx```, ```msg``` (```msg.sig```, ```msg.data``` 제외)를 읽는 경우,\n",
    "* ```pure```로 표기되지 않은 함수를 호출하는 경우,\n",
    "* ```opcodes```로 작성된 인라인(inline) 코드\n",
    "\n",
    "다음 경우에 해당되는 함수들은 블록체인을 수정하기 때문에 ```view```는 사용할 수 없다.\n",
    "\n",
    "- 상태 변수를 저장하는 경우 (당연히 블록체인에 쓰는 경우이다)\n",
    "- 이벤트 발생 (이벤트가 발생하면 로그에 기록이 남겨진다.)\n",
    "- 다른 컨트랙 생성\n",
    "- ```selfdestruct``` 컨트랙을 삭제하는 경우\n",
    "- ```call``` 함수로 송금하는 경우\n",
    "- ```view``` 또는 ```pure``` 아닌 함수를 호출하는 경우\n",
    "- low-level calls을 호출하는 경우\n",
    "- ```opcodes```로 작성된 인라인 코드가 있는 경우\n",
    "\n",
    "# payable\n",
    "\n",
    "ether에 입출금 할때 사용됨?\n",
    "\n",
    "# 가시성\n",
    "\n",
    "* ```public``` 내, 외부에서 누구나 사용할 수 있다. 가장 개방적이다.\n",
    "* ```internal``` 기본(default) 가시성으로 내부 또는 상속관계에서만 사용할 수 있다.(블록체인 내부에서 사용하는 함수)\n",
    "* ```private``` 자신만 사용할 수 있다.\n",
    "* ```external```은 ```internal```의 반대로서 외부에서만(블록체인 내부가 아닌 웹에서 사용자만 사용하는 함수) 사용할 수 있다. 내부에서 호출할 수 있지만 this 키워드를 이용해서 ```this.f()```형태로 사용한다.\n",
    "\n",
    "함수 적는 순서\n",
    "- 생성자\n",
    "- fallback 함수\n",
    "- external 함수\n",
    "- public 함수\n",
    "- internal 함수\n",
    "- private 함수\n"
   ]
  },
  {
   "cell_type": "code",
   "execution_count": 1,
   "metadata": {},
   "outputs": [
    {
     "name": "stdout",
     "output_type": "stream",
     "text": [
      "Writing FuctionTest.sol\n"
     ]
    }
   ],
   "source": [
    "%%writefile FuctionTest.sol\n",
    "\n",
    "//SPDX-License-Identifier: GPL-3.0-or-later\n",
    "pragma solidity ^0.8.0;\n",
    "\n",
    "contract FunctionTest {\n",
    "    int x;\n",
    "    constructor() { // 없어도 자동으로 생김, 한 번만 생성됨\n",
    "        x = 0;\n",
    "    }\n",
    "    function incrementX() public {\n",
    "        x += 1;  // 상태변수 x의 변경\n",
    "    }\n",
    "    function doubleX() public {\n",
    "        X2();  //아래에 internal로 정의. 현재 public에서 호출.\n",
    "    }\n",
    "    function divideBy(int by) view public returns(int) {// 읽기만 가능한 view 함수\n",
    "        return x/by; // 소수를 지원하지 않는다. 0, 1/3 등을 테스트해보자.\n",
    "    }\n",
    "    // actually NONE returned\n",
    "    function getX_() view public returns(int) {\n",
    "        return x;        \n",
    "    }\n",
    "    // pure로 설정 테스트해보자\n",
    "    function getX() view public returns(int) {\n",
    "        return x;\n",
    "    }\n",
    "    function getBalance() view public returns(uint) {\n",
    "        return(address(this).balance);// this는 이 컨트랙을 의미 함\n",
    "    }\n",
    "    // 'payable'을 붙이면 코드가 없어도 입금가능 (msg.value가 입금된다)\n",
    "    function deposit() public payable {// 코드가 비워져 있다 msg전역변수를 통해서 금액을 입금 시켜줌\n",
    "    }\n",
    "    // 외부에서 사용할 수 없다\n",
    "    function X2() internal {// 내부에서만 사용\n",
    "        x *= 2; \n",
    "    }\n",
    "    function getBlockNumber() view public returns(uint) {\n",
    "        return block.number;\n",
    "    }\n"
   ]
  },
  {
   "cell_type": "code",
   "execution_count": null,
   "metadata": {},
   "outputs": [],
   "source": [
    "!solc-window"
   ]
  },
  {
   "cell_type": "code",
   "execution_count": 2,
   "metadata": {},
   "outputs": [
    {
     "name": "stdout",
     "output_type": "stream",
     "text": [
      "Writing UnderscoreTest.sol\n"
     ]
    }
   ],
   "source": [
    "%%writefile UnderscoreTest.sol\n",
    "# 변경자\n",
    "contract UnderscoreTest {\n",
    "    string season = \"\";\n",
    "    function getSeason() view public returns(string memory) {\n",
    "        return season;\n",
    "    }   \n",
    "    function setWinter() public setSummerAfter { // setWinter()를 setSummerAfter의 _ 위치에서 실행\n",
    "        season = \"winter\";// summer -> winter\n",
    "    }\n",
    "\n",
    "    modifier setSummerAfter() {// 사후 조건 + 사전조건도 만들 수 있음\n",
    "        season = \"summer\";\n",
    "        _;// 이 자리에서 실행 한다는 의미\n",
    "    }\n",
    "}"
   ]
  },
  {
   "cell_type": "markdown",
   "metadata": {},
   "source": [
    "배포자(contract) = 소유자\n",
    "\n",
    "제약조건\n",
    "- onlyOwner: 컨트랙 소유자만 가능하도록 제한한다.\n",
    "- onlyAfter: 입금시 최소 시간이 지나야 가능하도록 제한.\n",
    "- minBalance: 출금시 최소 잔고가 있어야 가능\n",
    "- fullback()사용"
   ]
  },
  {
   "cell_type": "code",
   "execution_count": 7,
   "metadata": {},
   "outputs": [
    {
     "name": "stdout",
     "output_type": "stream",
     "text": [
      "Writing BankV3.sol\n"
     ]
    }
   ],
   "source": [
    "%%writefile BankV3.sol\n",
    "\n",
    "//SPDX-License-Identifier: GPL-3.0-or-later\n",
    "pragma solidity ^0.8.0;\n",
    "\n",
    "contract BankV3 {\n",
    "    address owner;// 배포한 사람 주소\n",
    "    uint balance;\n",
    "    uint256 timeToDeposit;\n",
    "    \n",
    "    event PrintLog(string);\n",
    "    event Sent(address from, address to, uint amount );\n",
    "    constructor() {\n",
    "        owner = msg.sender;// 전역변수로 배포자 주소를 찾음\n",
    "        balance = 0;\n",
    "    }\n",
    "    fallback() external {// 무조건 external로 외부에서만 부를 수 있음\n",
    "        emit PrintLog(\"Fallback called\");// test용 emit\n",
    "    }\n",
    "    function forwardTo(address payable _receiver) public payable onlyOwner {// 계좌이체(소유주만 보내기 가능)\n",
    "        // require(msg.sender == owner);\n",
    "        _receiver.transfer(msg.value);// receiver이 받는 사람\n",
    "        emit Sent(msg.sender, _receiver, msg.value);\n",
    "    }\n",
    "    function getBalance() public view returns(uint, uint) {\n",
    "        return (balance, address(this).balance);// 변수로 만든 잔고, address로 찾은 변수 \n",
    "    }\n",
    "    function deposit(uint amount) public payable onlyAfter {// 10초 후에 거래 가능, 입금\n",
    "        timeToDeposit = block.timestamp + 10 seconds; //timeToDeposit = now + 10 seconds;\n",
    "        require(msg.value == amount);\n",
    "        balance += amount;\n",
    "    }\n",
    "    function withdrawAll() public onlyOwner minBalance {// 전액을 출금\n",
    "        balance -= address(this).balance;\n",
    "        //require(msg.sender == owner);\n",
    "        //v0.5.0 msg.sender.transfer(address(this).balance);\n",
    "        payable(msg.sender).transfer(address(this).balance); \n",
    "    }\n",
    "    function getTimeToDeposit() view public returns(uint256) { return timeToDeposit; }\n",
    "    modifier onlyOwner {\n",
    "        require(msg.sender == owner);// 누구든 contract의 거래를 발생시키면 msg.sender 이게 owner이어야 한다 require은 항상 true가 되어야 한다\n",
    "        _;\n",
    "    }\n",
    "    modifier onlyAfter {\n",
    "        require(block.timestamp >= timeToDeposit); //require(now >= timeToDeposit); 현재시간 >= timeToDeposit = now + 10 seconds\n",
    "        _;\n",
    "    }\n",
    "    modifier minBalance {\n",
    "        require(address(this).balance>101 wei);\n",
    "        _;\n",
    "    }\n",
    "}"
   ]
  },
  {
   "cell_type": "code",
   "execution_count": 8,
   "metadata": {},
   "outputs": [],
   "source": [
    "! solc-windows.exe --optimize --combined-json abi,bin BankV3.sol > BankV3.json"
   ]
  },
  {
   "cell_type": "code",
   "execution_count": 9,
   "metadata": {},
   "outputs": [
    {
     "name": "stdout",
     "output_type": "stream",
     "text": [
      "Writing BankV3DeployFromFile.js\n"
     ]
    }
   ],
   "source": [
    "%%writefile BankV3DeployFromFile.js\n",
    "\n",
    "var Web3 = require('web3');\n",
    "var _abiBinJson = require('./BankV3.json');      // abi, 바이트 코드가 저장된 파일 읽기\n",
    "\n",
    "var web3 = new Web3(new Web3.providers.HttpProvider(\"http://localhost:8345\"));\n",
    "\n",
    "contractName=Object.keys(_abiBinJson.contracts); // 컨트랙 명 ['BankV3.sol:BankV3']\n",
    "console.log(\"- contract name: \", contractName);\n",
    "_abi=_abiBinJson.contracts[contractName].abi;\n",
    "_abiArray=JSON.parse(JSON.stringify(_abi));\n",
    "//_abiArray=JSON.parse(_abi);      // 오류방지 SyntaxError: Unexpected token o in JSON at position 1\n",
    "_bin=_abiBinJson.contracts[contractName].bin;\n",
    "\n",
    "async function deploy() {\n",
    "    const accounts = await web3.eth.getAccounts();\n",
    "    console.log(\"Deploying the contract from \" + accounts[0]);\n",
    "    var deployed = await new web3.eth.Contract(_abiArray)\n",
    "        .deploy({data: \"0x\"+_bin})\n",
    "        .send({from: accounts[0], gas: 259210}, function(err, transactionHash) {\n",
    "                if(!err) console.log(\"hash: \" + transactionHash); \n",
    "        })\n",
    "    console.log(\"---> The contract deployed to: \" + deployed.options.address)\n",
    "}\n",
    "deploy()"
   ]
  },
  {
   "cell_type": "code",
   "execution_count": 10,
   "metadata": {},
   "outputs": [
    {
     "name": "stdout",
     "output_type": "stream",
     "text": [
      "- contract name:  [ \u001b[32m'BankV3.sol:BankV3'\u001b[39m ]\n",
      "Deploying the contract from 0xD45b6FBaB6415602651BF61720D166E543a8d414\n",
      "hash: 0xe35a8bda4b2eba8b7629718ccc7a44fdcfbf8e585b1807e322cb7cb8aec2948b\n",
      "---> The contract deployed to: 0x536c9769eD577F0d4eC115ec2c2Fc9f111a07dCE\n"
     ]
    },
    {
     "name": "stderr",
     "output_type": "stream",
     "text": [
      "(node:6272) [DEP0040] DeprecationWarning: The `punycode` module is deprecated. Please use a userland alternative instead.\n",
      "(Use `node --trace-deprecation ...` to show where the warning was created)\n"
     ]
    }
   ],
   "source": [
    "!node BankV3DeployFromFile.js"
   ]
  },
  {
   "cell_type": "code",
   "execution_count": 16,
   "metadata": {},
   "outputs": [
    {
     "name": "stdout",
     "output_type": "stream",
     "text": [
      "Writing BankV3Use.js\n"
     ]
    }
   ],
   "source": [
    "%%writefile BankV3Use.js\n",
    "\n",
    "var Web3=require('web3');\n",
    "var _abiBinJson = require('./BankV3.json');      //importing a javascript file\n",
    "\n",
    "var web3 = new Web3(new Web3.providers.HttpProvider(\"http://localhost:8345\"));\n",
    "contractName=Object.keys(_abiBinJson.contracts); // reading ['src/BankV3.sol:BankV3']\n",
    "//console.log(\"- contract name: \", contractName); //or console.log(contractName[0]);\n",
    "_abiArray=_abiBinJson.contracts[contractName].abi; //use just as read from file\n",
    "//_abiArray=JSON.parse(JSON.stringify(_abi));\n",
    "console.log(\"- ABI: \" + _abiArray);\n",
    "var bank = new web3.eth.Contract(_abiArray,\"0x0042048e0e97BA996CA18fC7d027379ed786Af7a\");\n",
    "//var filter = bank.events.PrintLog(function (error, result) {  // 이벤트 알림은 하지 않는다.\n",
    "//  if (!error)\n",
    "//    console.log(result);\n",
    "//});\n",
    "\n",
    "async function doIt() {\n",
    "    const accounts = await web3.eth.getAccounts();\n",
    "    console.log(\"Account: \" + accounts[0]);\n",
    "    const balanceBefore = await web3.eth.getBalance(accounts[0]);\n",
    "    console.log(\"Balance before: \" + balanceBefore);\n",
    "    bank.methods.getBalance().call().then(console.log);\n",
    "    await bank.methods.deposit(111).send({from: accounts[0], value:111});\n",
    "    bank.methods.getBalance().call().then(console.log);\n",
    "    await bank.methods.withdrawAll().send({from: accounts[0]});\n",
    "    bank.methods.getBalance().call().then(console.log);\n",
    "    const balanceAfter = await web3.eth.getBalance(accounts[0]);\n",
    "    console.log(\"Balance after: \" + balanceAfter);\n",
    "    console.log(\"Balance diff: \" + (balanceBefore - balanceAfter));    \n",
    "}\n",
    "doIt()"
   ]
  }
 ],
 "metadata": {
  "kernelspec": {
   "display_name": "Python 3",
   "language": "python",
   "name": "python3"
  },
  "language_info": {
   "codemirror_mode": {
    "name": "ipython",
    "version": 3
   },
   "file_extension": ".py",
   "mimetype": "text/x-python",
   "name": "python",
   "nbconvert_exporter": "python",
   "pygments_lexer": "ipython3",
   "version": "3.11.5"
  }
 },
 "nbformat": 4,
 "nbformat_minor": 2
}
