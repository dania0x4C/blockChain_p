{
 "cells": [
  {
   "cell_type": "code",
   "execution_count": null,
   "metadata": {},
   "outputs": [],
   "source": [
    "# 서버 열기\n",
    "# ./_getNow.bat"
   ]
  },
  {
   "cell_type": "code",
   "execution_count": null,
   "metadata": {},
   "outputs": [],
   "source": [
    "# 공중망\n",
    "# geth --syncmode snap --cache=1024 console\n",
    "# 허가망\n",
    "# geth --goerli\n",
    "# 사적망\n",
    "# geth attach http://localhost:8445"
   ]
  },
  {
   "cell_type": "code",
   "execution_count": 1,
   "metadata": {},
   "outputs": [
    {
     "name": "stdout",
     "output_type": "stream",
     "text": [
      "Writing serverSet.js\n"
     ]
    }
   ],
   "source": [
    "%%writefile serverSet.js\n",
    "# 블록체인 사적망 환경설정\n",
    "{\n",
    "  \"config\": {\n",
    "    \"chainId\": 412,# chain의 아이디 - 5이상의 충돌나지 않는 수 사용\n",
    "    \"homesteadBlock\": 0,# homesteadBlock의 시작 블록을 의미\n",
    "    \"eip150Block\": 0,\n",
    "    \"eip155Block\": 0,\n",
    "    \"eip158Block\": 0,\n",
    "    \"byzantiumBlock\": 0,\n",
    "    \"constantinopleBlock\": 0,\n",
    "    \"petersburgBlock\": 0\n",
    "  },\n",
    "  \"nonce\": \"0x0000000000000033\",# PoW에 따라 서명된 횟수(데이터를 블록체인으로 저장하면 해싱을 해야하는데 같은 값을 해싱하면 똑같은 값이 나온다 그래서 값에 nonce값을 추가해서 해싱을 시키고 값을 해싱해주어 값이 계속 다르게 나오게 만들어준다.)\n",
    "  \"timestamp\": \"0x0\",# 시간 조절로 난이도 조절\n",
    "  \"parentHash\": \"0x0000000000000000000000000000000000000000000000000000000000000000\",\n",
    "  \"gasLimit\": \"0x8000000\",# 거래가능한  gas값의 한도 지정\n",
    "  \"difficulty\": \"0x100\",# 마이밍 자체 난이도\n",
    "  \"mixhash\": \"0x0000000000000000000000000000000000000000000000000000000000000000\",\n",
    "  \"coinbase\": \"0x3333333333333333333333333333333333333333\",\n",
    "  \"alloc\": {}\n",
    "}\n",
    "\n",
    "# 서버 초기화\n",
    "# geth --datadir .\\eth init serverSet.json\n",
    "\n",
    "# 서버의 구성 상태를 알 수 있다\n",
    "# JSON.stringify(admin.nodeInfo)"
   ]
  },
  {
   "cell_type": "code",
   "execution_count": null,
   "metadata": {},
   "outputs": [],
   "source": [
    "# 계정 새로 만들기\n",
    "# geth --datadir ./eth account new\n",
    "\n",
    "# 서버 접속 후 \n",
    "# geth miner.setEtherbase(eth.accounts[0])\n",
    "# eth.accounts[0]\n",
    "# eth.getBalance(eth.account[0])\n",
    "# web.fromWei(eth.getBalance(eth.accounts[0]), \"ether\")\n",
    "# eth.blockNumber\n",
    "# eth.coinbase\n",
    "# JSON.stringify(txpool.inspect)\n",
    "# eth.getTransactionCount(eth.accounts[0]) # nonce\n",
    "# miner.start(1);admin.sleepBlocks(1);miner.stop()\n",
    "# 비용 gas * gasPrice\n",
    "# eth.gasPrice\n",
    "# eth.getBlock(1)\n",
    "# eth.getBlock('latest').gasLimit\n",
    "# eth.getTransactionReceipt(eth.getBlock('latest').hash)\n"
   ]
  },
  {
   "cell_type": "code",
   "execution_count": 19,
   "metadata": {},
   "outputs": [
    {
     "name": "stderr",
     "output_type": "stream",
     "text": [
      "invalid command: \"eth.getTransactionReceipt(eth.getBlock(1).hash)\"\n"
     ]
    }
   ],
   "source": [
    "! geth eth.getTransactionReceipt(eth.getBlock(1).hash)"
   ]
  },
  {
   "cell_type": "code",
   "execution_count": null,
   "metadata": {},
   "outputs": [],
   "source": [
    "# 멀티노드"
   ]
  },
  {
   "cell_type": "code",
   "execution_count": 1,
   "metadata": {},
   "outputs": [
    {
     "name": "stdout",
     "output_type": "stream",
     "text": [
      "^C\n"
     ]
    }
   ],
   "source": [
    "# 18. 사적망을 설정없이 쉽게 개설하는 명령어를 적으시오.\n",
    "# 23. 메인네트워크 접속하고 'admin.nodeInfo' 출력하시오.\n",
    "# 24. 테스트네트워크 접속하고 'admin.nodeInfo' 출력하하시오.\n",
    "# 25. 블록체인 사설망을 개설하시오.\n",
    "# Chain ID 305, 데이터 디렉토리는 ```C:\\Users\\G305\\eth```를 사용하도록 설정한다.\n",
    "# 사설망에 http 접속하여 geth 클라이언트를 개설하고:\n",
    "#  ChainID가 설정한 번호와 동일한지 확인하고,\n",
    "#  사설망 개설하고 나서 출력되는 로그를 확인하고,\n",
    "#  계정을 생성하고, 충전한 후 잔고를 출력한다."
   ]
  },
  {
   "cell_type": "code",
   "execution_count": 17,
   "metadata": {},
   "outputs": [
    {
     "name": "stdout",
     "output_type": "stream",
     "text": [
      "admin:  {\"id\":\"fbec5da79798da4923f6c792ef40bf4470c4b819f8c2ee69cc7d783fd75ad744\",\"name\":\"Geth/ljm31/v1.11.6-stable-ea9e62ca/windows-amd64/go1.20.3\",\"enode\":\"enode://c75b4c02d775242bc64c1fcaeb657bb6c3490df5d91d90b20720e30210eb72c3a29ce8f73e151afa900d71f0206e73bf8dcccd5135e5d22102b83a3d9498bd18@203.237.172.113:38445\",\"enr\":\"enr:-KO4QANRV-VMfknleo16jC2JKjGnC7dxun2fwl6i98H99ca6d8LH6JIVNQ1ZEw8-9aNi4rxjtVkxkCYbYVuP7I2I8NOGAY6JCbCBg2V0aMfGhCToWBqAgmlkgnY0gmlwhMvtrHGJc2VjcDI1NmsxoQLHW0wC13UkK8ZMH8rrZXu2w0kN9dkdkLIHIOMCEOtyw4RzbmFwwIN0Y3CCli2DdWRwgpYt\",\"ip\":\"203.237.172.113\",\"ports\":{\"discovery\":38445,\"listener\":38445},\"listenAddr\":\"[::]:38445\",\"protocols\":{\"eth\":{\"network\":33,\"difficulty\":39060463,\"genesis\":\"0x5704d029fe80f4fb605c0cb5e31d591511f10a46a0cb8166f97d8d559f9bc5b0\",\"config\":{\"chainId\":412,\"homesteadBlock\":0,\"eip150Block\":0,\"eip155Block\":0,\"eip158Block\":0,\"byzantiumBlock\":0,\"constantinopleBlock\":0,\"petersburgBlock\":0},\"head\":\"0x96a0e119f343380408163b4f0be8085b8249d83a7ce347f321c37e6c82ad7c27\"},\"snap\":{}}}\n",
      "null\n"
     ]
    }
   ],
   "source": [
    "# %%writefile src/fileName.js\n",
    "# ! geth --exec \"loadScript('src/ethCommands.js')\" attach http://localhost:8445"
   ]
  },
  {
   "cell_type": "code",
   "execution_count": 11,
   "metadata": {},
   "outputs": [
    {
     "name": "stderr",
     "output_type": "stream",
     "text": [
      "invalid command: \"admin.nodeInfo\"\n"
     ]
    }
   ],
   "source": [
    "!geth admin.nodeInfo --syncmode snap --cache=1024 console\n"
   ]
  },
  {
   "cell_type": "code",
   "execution_count": 29,
   "metadata": {},
   "outputs": [
    {
     "name": "stdout",
     "output_type": "stream",
     "text": [
      "private key:  96499048790804029559558331195133711211831132787694582783785113461514940238810\n",
      "private key in hex:  0xd55886ad1a75b8de199b8291ed7f2110446617323b541d915529b3d178b4cbda\n"
     ]
    }
   ],
   "source": [
    "import secrets\n",
    "import pycoin.ecdsa as ecdsa\n",
    "\n",
    "privKey=secrets.randbelow(ecdsa.generator_secp256k1.order())\n",
    "print(\"private key: \", privKey)\n",
    "print(\"private key in hex: \", hex(privKey))"
   ]
  },
  {
   "cell_type": "code",
   "execution_count": 37,
   "metadata": {},
   "outputs": [
    {
     "name": "stdout",
     "output_type": "stream",
     "text": [
      "signature: HBr2JfdYAVea8+hckQUD5N0elYl5StiS2cH3u5uC/wBIdwPShs+qDArkp5b2SVLc+tdMFGzOR0WW9yNLj3fdWPg=\n",
      "verified: True\n",
      "verified: False\n",
      "recoverPublicKey: 0485ce4ade93002453940d7a8174b528784db17de68a08e7f8994e0f8f31ab7f7b4cd795f7e1da8ae13fe4de0b7e21576a3beefab3e086b696fd445af52133eb5b\n",
      "recover check\n"
     ]
    }
   ],
   "source": [
    "import bitcoin\n",
    "from eth_keys import keys\n",
    "\n",
    "massage = \"내일 10시 회의합니다.\"\n",
    "\n",
    "privateKey = bitcoin.sha256(\"talk to meeting\")# talk to meeting으로 privKey 생성\n",
    "publicKey = bitcoin.privtopub(privateKey)# privateKey로 publicKey생성\n",
    "address = bitcoin.pubtoaddr(publicKey)# publicKey로 address 생성\n",
    "\n",
    "signature = bitcoin.ecdsa_sign(massage, privateKey)# message를 privateKey를 이용하여 ecdsa처리\n",
    "\n",
    "print(\"signature: \" + signature)\n",
    "\n",
    "verify = bitcoin.ecdsa_verify(massage, signature, publicKey)# signature를 publicKey를 이용하여 decoding후 massage와 비교\n",
    "\n",
    "print(\"verified: \" + str(verify))\n",
    "\n",
    "newMassage = \"내일 오후 10시 회의합니다.\"\n",
    "\n",
    "verify = bitcoin.ecdsa_verify(newMassage, signature, publicKey)# massage를 변조해서 verify 진행\n",
    "\n",
    "print(\"verified: \" + str(verify))\n",
    "\n",
    "recoverPublicKey = bitcoin.ecdsa_recover(massage, signature)# massage와 signature를 이용해서 publicKey를 복구\n",
    "\n",
    "print(\"recoverPublicKey: \" + recoverPublicKey)\n",
    "\n",
    "if(recoverPublicKey == publicKey):\n",
    "    print(\"recover check\")\n"
   ]
  },
  {
   "cell_type": "code",
   "execution_count": 1,
   "metadata": {},
   "outputs": [],
   "source": [
    "## 연습문제\n",
    "# # 5. nodeInfo에서 확인할 수 있는 정보가 아닌 보기를 고르시오.\n",
    "\n",
    "# * (1) enode   2) ip주소   3) difficulty   4) ChainId   (5) nonce)\n",
    "\n",
    "#6. enode에 포함되는 정보가 아닌 보기를 고르시오.\n",
    "\n",
    "# (1) 공개키   2) ip   3) 포트번호   4) ChainId\n",
    "\n",
    "# 7. 네트워크의 peer를 찾기 위해 무작위로 메시지를 보낸다. 못찾으면 peer를 수동으로 추가할 수 없다. OX로 답하시오.\n",
    "# 8. hash rate의 계산식을 적으시오. 계산식을 설명하시오.\n",
    "# 9. 은행에서는 개인 또는 법인이 계정을 가질 수 있다. 블록체인에서는 컨트랙도 계정을 가질 수 있다. OX로 답하시오.\n",
    "# 10. 블록체인의 스마트 컨트랙에서 개인계정으로 송금할 수 있다. OX로 답하시오.\n",
    "# 11. 개인키는 몇 바이트인지 적으시오. 32byte\n",
    "# 12. 공개키는 몇 바이트인지 적으시오. ECDSA - 20byte , RSA - 128byte\n",
    "# 13. 주소(address)는 몇 바이트인지 적으시오. - 21byte\n",
    "# 17. 이더리움에서 해싱하는 방식을 적으시오.\n",
    "# 이더리움은 주소 생성, 거래 검증, 스마트 계약 보안 등 다양한 목적으로 Keccak-256 해싱 알고리즘을 주로 사용합니다. \n",
    "# Keccak-256은 가변 크기 입력 데이터에서 고정 크기 256비트 해시 값을 생성합니다. \n",
    "# 이 알고리즘은 이더리움 네트워크[5] 내에서 데이터 무결성과 보안을 보장합니다.\n",
    "\n",
    "# 20. 이더리움의 디지털 서명은 개인키로 서명하고 사적키는 검증에 사용한다.\n",
    "# 23. 주소를 생성할 때, 매번 seed를 가지고 생성할 수 있지만, 그렇지 않고 하나의 마스터 시드에서 생성할 수 있다. \n",
    "# 24. 이더리움에서는 비대칭키로 암호화를 한다.\n",
    "\n",
    "# 25. 다음 항목을 실행하는 프로그램을 작성하시오.\n",
    "# 문제를 풀기 전, 계정을 2개 더 생성하고, 잔액을 5 ether 이상이 되도록 충전한다.\n",
    "# 파일은 ```exercise1.js```로 저장하고 명령창에서 geth --exec로 실행하시오.\n",
    "# ```console.log(\"Block Number:\" , eth.blockNumber)``` 이런 방식으로 메시지도 출력되도록 작성하시오.\n",
    "\n",
    "# * (1) 현재 블록번호를 출력\n",
    "# * (2) 자신의 enode 값을 출력\n",
    "# * (3) peer가 있는지? 있으면 그 peer를 출력\n",
    "# * (4) 계정 목록을 출력\n",
    "# * (5) 각 계정의 잔액을 ether로 출력\n",
    "# * (6) 코인베이스를 2번째로 변경하고, 변경전과 변경후의 coinbase를 출력\n",
    "# * (7) 현재 대기하는 트랙잭션 수를 출력. 없다면 그 이유를 메시지로 출력\n",
    "# * (8) 현재 블록번호를 출력. 블록번호가 처음 출력했을 때와 변동이 있는지? 계정을 출력하거나, 잔고를 출력하는 등 몇 차례 작업이 있었는데도 불구하고 블록 번호가 그대로인 이유를 메시지로 출력.\n",
    "\n",
    "# 26. 내용이 위조되면 해싱의 출력이 얼마나 변경되는지 확인하시오.\n",
    "# 1907년 고종의 a plea for korea로 알려진 \"헤이그 만국 평화 회의에 고하는 글\"의 전문 중 \"일본인들은 대한제국 황제 폐하의 정식 허가 없이 행동하였다.\"라는 문장이 있다.\n",
    "# 영문으로는 \"The Japanese acted without the consent of his Majesty the Emperor of Korea.\"이다. 이 문장의 without을 with로 위조했다고 하자.\n",
    "# 즉:\n",
    "\n",
    "# * (원본) \"The Japanese acted without the consent of his Majesty the Emperor of Korea.\"\n",
    "# * (위조) \"The Japanese acted with the consent of his Majesty the Emperor of Korea.\"\n",
    "\n",
    "# 파이썬 프로그램으로:\n",
    "\n",
    "# * (1) 원본을 해싱하고 출력\n",
    "# * (2) 위조를 해싱하고 출력\n",
    "# * (3) 원본은 위조보다 영어 3 글자가 많다. 원본과 위조에서 구한 해시의 바이트 수와 차이를 출력\n",
    "\n",
    "# 27. 메시지를 인증해서 위조가 있는지 확인하시오.\n",
    "# 위 고종의 헤이그 만국 평화 회의에 고하는 글은 끝내 전해지지 못했다.\n",
    "# 현재의 블록체인 기술을 사용하였다면 원문을 무사히 전달했을 수 있어서 아쉽다.\n",
    "# 파이썬 프로그램으로:\n",
    "\n",
    "# * (1) 위 문장1)을 사인해서 인증하시오. 사인과 인증 결과를 출력\n",
    "# * (2) 문장2)를 사인하고, 1)과 다른지 비교하고, 인증 결과를 출력\n",
    "\n",
    "# 28. 다음을 프로그램해서 ```geth --exec loadScript```로 실행하시오.\n",
    "# 마이닝 한 건에 얼마나 충전이 되었는지 확인하시오.\n",
    "\n",
    "# - 코인베이스 출력\n",
    "# - 코인베이스의 잔고 출력\n",
    "# - 마이닝 1건 실행\n",
    "# - 잔고 증가분을 계산하여 출력\n",
    "\n"
   ]
  },
  {
   "cell_type": "code",
   "execution_count": 3,
   "metadata": {},
   "outputs": [
    {
     "name": "stdout",
     "output_type": "stream",
     "text": [
      "Writing src/transaction.js\n"
     ]
    }
   ],
   "source": [
    "%%writefile src/transaction.js\n",
    "transactionObject = {\n",
    "  from: \"0x...생략...A0A0A0A01\",\n",
    "  to: \"0x...생략...A0A0A0A02\",\n",
    "  value: web3.eth.getBalance(\"0x...생략...A0A0A0A01\"),\n",
    "  gas: \"----\",\n",
    "  gasPrice: \"----\",\n",
    "  data: \"0x----\",\n",
    "  nonce: 0,\n",
    "  }"
   ]
  },
  {
   "cell_type": "code",
   "execution_count": 10,
   "metadata": {},
   "outputs": [
    {
     "name": "stdout",
     "output_type": "stream",
     "text": [
      "hashA: 1c86253061adcef153466e06b4770da683a590dbf895192db766aef5be18bc70\n",
      "hashB: d0e7719d7633fb945d596090dfa31a95ae81b18d90352d63fc49af7f35ce2710\n",
      "hashAB: 032916ba0fc9c63fc5440a3b20069370da1b5d3c605797b28ac1a5a5876dc7e0\n"
     ]
    }
   ],
   "source": [
    "import hashlib\n",
    "\n",
    "txA = \"Hello\"\n",
    "txB = 'How are you?'\n",
    "\n",
    "txA.encode()# byte문자열로 변환\n",
    "hashA=hashlib.sha256(hashlib.sha256(txA.encode()).digest()).hexdigest()\n",
    "\n",
    "def doubleHashByteSwap(raw):\n",
    "    import hashlib\n",
    "    size=hashlib.sha256(raw.encode()).digest_size\n",
    "    _hash=hashlib.sha256(hashlib.sha256(raw.encode()).digest()).hexdigest()\n",
    "    hashSwap=\"\".join(reversed([_hash[i:i+2] for i in range(0, size*2, 2)]))\n",
    "    return hashSwap\n",
    "\n",
    "hA=doubleHashByteSwap(txA)\n",
    "hB=doubleHashByteSwap(txB)\n",
    "hAB=doubleHashByteSwap(hA+hB)\n",
    "\n",
    "print(\"hashA: {0}\\nhashB: {1}\\nhashAB: {2}\".format(hA, hB, hAB))"
   ]
  },
  {
   "cell_type": "code",
   "execution_count": null,
   "metadata": {},
   "outputs": [],
   "source": [
    "eth.getTransactionReceipt(\"0xb6cfb00fec382f0b06cdfeded9d4e9b087e986fa068d66292b8e1cbbb175f4e2\")\n",
    "eth.getTransactionCount(\"0xf98c4e0e08992da6ca740c2d6fa3be52658eb8e1\")\n",
    "\n"
   ]
  },
  {
   "cell_type": "code",
   "execution_count": null,
   "metadata": {},
   "outputs": [],
   "source": [
    "# ## 연습문제\n",
    "\n",
    "# 1. 블록체인에 읽기를 하거나 기록을 하는 경우로 함수를 구분할 수 있다. 어떤 함수가 사용되는지 명칭을 적으시오.\n",
    "# 2. ABI는 함수호출을 머신코드 수준으로 표현한 것이다. OX로 답하시오.\n",
    "# 3. ABI를 적용하면, 함수 선택자는 (   )바이트, 매개변수는 (   )바이트로 이루어진다.\n",
    "# 4. 이더리움 트랜잭션의 필수 항목은 무엇인지 적으시오.\n",
    "# 5. 이더리움 트랜잭션의 항목이 아닌 것을 고르시오.\n",
    "\n",
    "# - from\n",
    "# - to\n",
    "# - value\n",
    "# - gas\n",
    "# - gasPrce\n",
    "# - data\n",
    "# - nonce\n",
    "# - balance\n",
    "\n",
    "# 6. 이더리움과 비트코인의 거래를 구성하는 항목에 차이가 있다. OX로 답하시오.\n",
    "\n",
    "# 7. 블록에 포함되지 않는 거래는 gas를 2배 지급하지 않으면 버려진다. OX로 답하시오.\n",
    "\n",
    "# 8. 블록은 전 블록의 머클 루트를 통해 체인으로 연결된다. OX로 답하시오.\n",
    "\n",
    "# 9. 블록 헤더에 포함되지 않는 해시를 고르시오.\n",
    "\n",
    "# - 거래 트리의 해시\n",
    "# - 거래 수령 트리의 해시\n",
    "# - 저장 트리의 해시\n",
    "# - 상태 트리의 해시\n",
    "\n",
    "# 10. 블록헤더에는 gasLimit, gasUsed 항목이 포함된다. OX로 답하시오.\n",
    "\n",
    "# 11. 최근 블록의 명세를 출력해서, 포함된 항목을 적으시오.\n",
    "\n",
    "# 12. 머클 증명을 통해 어떤 거래도 수정될 수 없다는 의미를 설명하시오.\n",
    "\n",
    "# 13. gas 단가는 너무 적으면 마이닝이 되지 않을 수 있고, 많으면 빠르게 될 수 있다. OX로 답하시오.\n",
    "\n",
    "# 14. 거래가 6개 있고 gas비가 각 25, 30, 35, 40, 45, 50이라고 하자. 블록의 거래한도는 100이라고 하자. 그렇다면 블록에는 어떤 거래가 포함될 수 있는지 설명하시오.\n",
    "\n",
    "# 15. 블록체인에 배포할 경우 컨트랙을 생성해야 하는데, 기본 gas가 얼마나 필요한지 적으시오.\n",
    "\n",
    "# 16. Nonce는 0부터 계산되므로, 거래건수가 nonce보다 1만큼 크게 된다. OX로 답하시오.\n",
    "\n",
    "# 17. 송금 거래에서 발생하는 gas는 출금 계정, 입금 계정 1/2씩 부담한다. OX로 답하시오.\n",
    "\n",
    "# 18. 블록이 너무 빨리 또는 느리게 만들어지는 것을 막기 위해 무엇을 조정하는가?\n",
    "\n",
    "# (1) gas\n",
    "# (2) difficulty\n",
    "# (3) nonce\n",
    "\n",
    "# 19. gas는 데이터의 성격과 송금 금액에 따라 결정된다. OX로 답하시오.\n",
    "# 20. 다음 네 건의 데이터에 대해 머클 루트(Merkle Root) 값을 계산하고 출력하시오.\n",
    "# 중간 노드의 AB, CD의 해시도 출력하세요.\n",
    "\n",
    "# * txA = 'Hello'\n",
    "# * txB = 'How are you?'\n",
    "# * txC = 'This is Thursday'\n",
    "# * txD = 'Happy new Year'\n",
    "\n",
    "# 22. 다음 ```sayHello()```함수의 ABI 명세를 생성한다.\n",
    "\n",
    "# ```python\n",
    "# contract Hello {\n",
    "#     function sayHello(bytes toWhom) pure public returns(string memory) {}\n",
    "# }\n",
    "# ```\n",
    "\n",
    "# 23. \"Let's meet in my office at 10 AM.\"의 거래비용 gas를 계산하시오.\n",
    "\n",
    "# 24. **목표 해시값(Target Hash)을 100미만의 양수**로 정해진다고 하고, 이를 마이닝하는 프로그램을 작성하시오.\n",
    "# 해시는 별도로 SHA 해싱할 필요없이 십진수로 생각하자.\n",
    "# **NONCE는 반복회수**로만 쓰이고 무작위 수를 생성하는데 입력되지는 않는다고 가정하자.\n",
    "\n",
    "# 목표 해시값을 90으로 또는 10으로 정해서 **몇 회 만에 그 값을 찾는지 비교**해 보자.\n",
    "# 여기서 난이도를 3회 만에 찾게 되면 1이라고 하자.\n",
    "# 3회 보다 횟수가 많이 걸리면 이 경우는 어렵다는 의미이므로 난이도를 낮추어야 한다.\n",
    "# 반대의 경우 3회 보다 적은 횟수가 필요하면 난이도를 높이게 된다.\n",
    "\n",
    "# - 90을 목표해시로 정하고 몇 회만에 마이닝에 성공하는지 출력하고, 난이도를 평가하시오.\n",
    "# - 10을 목표해시로 정하고 몇 회만에 마이닝에 성공하는지 출력하고, 난이도를 평가하시오.\n",
    "\n",
    "# * 참조: random 함수\n",
    "# ```random()```은 0 ~ 1사이의 무작위 수를 생성한다.\n",
    "# 이 함수에 100을 곱하면 0 ~ 100 사이의 수를 생성한다 (100은 제외).\n",
    "# ```print```문의 ```end```는 출력을 이어서 하게 만든다.\n",
    "\n",
    "# ```python\n",
    "# from random import randint\n",
    "# for i in range(1,20):\n",
    "#     print(int(random.random()*100), end=\" \")\n",
    "# 83 18 99 61 2 74 4 51 12 63 46 64 67 72 7 70 73 49 86 \n",
    "# ```\n",
    "\n",
    "# 25. 블록헤더 데이터의 해시 값에 NONCE를 증가시키면서 앞 자리의 0의 개수를 맞출 때까지 반복한다.\n",
    "\n",
    "# (1) 찾고자 하는 해시가 ```0000```로 시작한다고 하자. 몇 회만에 찾는지 출력\n",
    "# (2) 찾고자 하는 해시가 ```00000```로 시작한다고 하자. 몇 회만에 찾는지 출력\n",
    "# (3) 찾고자 하는 해시가 ```000000```로 시작한다고 하자. 몇 회만에 찾는지 출력"
   ]
  },
  {
   "cell_type": "code",
   "execution_count": 39,
   "metadata": {},
   "outputs": [
    {
     "name": "stdout",
     "output_type": "stream",
     "text": [
      "hex hash:  16\n",
      "number of bytes:  32\n"
     ]
    }
   ],
   "source": [
    "import hashlib\n",
    "md = hashlib.md5(\"Hello Hash\".encode('utf-8'))\n",
    "sha = hashlib.sha256(\"Hello Hash\".encode('utf-8'))\n",
    "\n",
    "print(\"hex hash: \", md.digest_size)\n",
    "print(\"number of bytes: \", sha.digest_size)"
   ]
  },
  {
   "cell_type": "code",
   "execution_count": null,
   "metadata": {},
   "outputs": [],
   "source": [
    "web3.eth.sendTransaction({\n",
    "    from: ,\n",
    "    to: ,\n",
    "    data: ,\n",
    "    gas: ,\n",
    "    gasPrice:\n",
    "})"
   ]
  },
  {
   "cell_type": "code",
   "execution_count": 25,
   "metadata": {},
   "outputs": [
    {
     "name": "stdout",
     "output_type": "stream",
     "text": [
      "Overwriting src/new.js\n"
     ]
    }
   ],
   "source": [
    "%%writefile src/new.js\n",
    "\n",
    "\n",
    "console.log(web3.sha3('sayHello(byte)').substring(0,10));"
   ]
  },
  {
   "cell_type": "code",
   "execution_count": 26,
   "metadata": {},
   "outputs": [
    {
     "name": "stdout",
     "output_type": "stream",
     "text": [
      "0x2dbbe4c4\n",
      "null\n"
     ]
    }
   ],
   "source": [
    "! geth --exec \"loadScript('src/new.js')\" attach http://localhost:8445"
   ]
  },
  {
   "cell_type": "code",
   "execution_count": 27,
   "metadata": {
    "vscode": {
     "languageId": "javascript"
    }
   },
   "outputs": [
    {
     "ename": "NameError",
     "evalue": "name 'web' is not defined",
     "output_type": "error",
     "traceback": [
      "\u001b[1;31m---------------------------------------------------------------------------\u001b[0m",
      "\u001b[1;31mNameError\u001b[0m                                 Traceback (most recent call last)",
      "Cell \u001b[1;32mIn[27], line 1\u001b[0m\n\u001b[1;32m----> 1\u001b[0m \u001b[43mweb\u001b[49m\u001b[38;5;241m.\u001b[39meth\u001b[38;5;241m.\u001b[39macocunts\n",
      "\u001b[1;31mNameError\u001b[0m: name 'web' is not defined"
     ]
    }
   ],
   "source": [
    "web.eth.acocunts"
   ]
  },
  {
   "cell_type": "code",
   "execution_count": null,
   "metadata": {},
   "outputs": [],
   "source": []
  }
 ],
 "metadata": {
  "kernelspec": {
   "display_name": "Python 3",
   "language": "python",
   "name": "python3"
  },
  "language_info": {
   "codemirror_mode": {
    "name": "ipython",
    "version": 3
   },
   "file_extension": ".py",
   "mimetype": "text/x-python",
   "name": "python",
   "nbconvert_exporter": "python",
   "pygments_lexer": "ipython3",
   "version": "3.11.5"
  }
 },
 "nbformat": 4,
 "nbformat_minor": 2
}
