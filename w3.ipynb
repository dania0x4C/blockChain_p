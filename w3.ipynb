{
 "cells": [
  {
   "cell_type": "code",
   "execution_count": 1,
   "metadata": {},
   "outputs": [
    {
     "data": {
      "text/plain": [
       "'c:\\\\Users\\\\ljm31\\\\OneDrive\\\\바탕 화면\\\\학교 자료\\\\24년도 1학기 수업자료\\\\블록체인\\\\src'"
      ]
     },
     "execution_count": 1,
     "metadata": {},
     "output_type": "execute_result"
    }
   ],
   "source": [
    "import os\n",
    "os.getcwd()"
   ]
  },
  {
   "cell_type": "code",
   "execution_count": 4,
   "metadata": {},
   "outputs": [
    {
     "ename": "SyntaxError",
     "evalue": "invalid or missing encoding declaration for '_gethNow.bat' (<string>)",
     "output_type": "error",
     "traceback": [
      "Traceback \u001b[1;36m(most recent call last)\u001b[0m:\n",
      "\u001b[1;36m  File \u001b[1;32mc:\\Users\\ljm31\\AppData\\Local\\Programs\\Python\\Python311\\Lib\\tokenize.py:334\u001b[1;36m in \u001b[1;35mfind_cookie\u001b[1;36m\n\u001b[1;33m    line_string = line.decode('utf-8')\u001b[1;36m\n",
      "\u001b[1;31mUnicodeDecodeError\u001b[0m\u001b[1;31m:\u001b[0m 'utf-8' codec can't decode byte 0xb9 in position 33: invalid start byte\n",
      "\nDuring handling of the above exception, another exception occurred:\n",
      "Traceback \u001b[1;36m(most recent call last)\u001b[0m:\n",
      "\u001b[0m  File \u001b[0;32mc:\\Users\\ljm31\\AppData\\Local\\Programs\\Python\\Python311\\Lib\\site-packages\\IPython\\core\\interactiveshell.py:3526\u001b[0m in \u001b[0;35mrun_code\u001b[0m\n    exec(code_obj, self.user_global_ns, self.user_ns)\u001b[0m\n",
      "\u001b[0m  Cell \u001b[0;32mIn[4], line 1\u001b[0m\n    get_ipython().run_line_magic('load', '_gethNow.bat')\u001b[0m\n",
      "\u001b[0m  File \u001b[0;32mc:\\Users\\ljm31\\AppData\\Local\\Programs\\Python\\Python311\\Lib\\site-packages\\IPython\\core\\interactiveshell.py:2432\u001b[0m in \u001b[0;35mrun_line_magic\u001b[0m\n    result = fn(*args, **kwargs)\u001b[0m\n",
      "\u001b[0m  File \u001b[0;32mc:\\Users\\ljm31\\AppData\\Local\\Programs\\Python\\Python311\\Lib\\site-packages\\IPython\\core\\magics\\code.py:359\u001b[0m in \u001b[0;35mload\u001b[0m\n    contents = self.shell.find_user_code(args, search_ns=search_ns)\u001b[0m\n",
      "\u001b[0m  File \u001b[0;32mc:\\Users\\ljm31\\AppData\\Local\\Programs\\Python\\Python311\\Lib\\site-packages\\IPython\\core\\interactiveshell.py:3834\u001b[0m in \u001b[0;35mfind_user_code\u001b[0m\n    return openpy.read_py_file(tgt, skip_encoding_cookie=skip_encoding_cookie)\u001b[0m\n",
      "\u001b[0m  File \u001b[0;32mc:\\Users\\ljm31\\AppData\\Local\\Programs\\Python\\Python311\\Lib\\site-packages\\IPython\\utils\\openpy.py:77\u001b[0m in \u001b[0;35mread_py_file\u001b[0m\n    with open(filepath) as f:  # the open function defined in this module.\u001b[0m\n",
      "\u001b[0m  File \u001b[0;32mc:\\Users\\ljm31\\AppData\\Local\\Programs\\Python\\Python311\\Lib\\tokenize.py:398\u001b[0m in \u001b[0;35mopen\u001b[0m\n    encoding, lines = detect_encoding(buffer.readline)\u001b[0m\n",
      "\u001b[0m  File \u001b[0;32mc:\\Users\\ljm31\\AppData\\Local\\Programs\\Python\\Python311\\Lib\\tokenize.py:375\u001b[0m in \u001b[0;35mdetect_encoding\u001b[0m\n    encoding = find_cookie(first)\u001b[0m\n",
      "\u001b[1;36m  File \u001b[1;32mc:\\Users\\ljm31\\AppData\\Local\\Programs\\Python\\Python311\\Lib\\tokenize.py:339\u001b[1;36m in \u001b[1;35mfind_cookie\u001b[1;36m\n\u001b[1;33m    raise SyntaxError(msg)\u001b[1;36m\n",
      "\u001b[1;36m  File \u001b[1;32m<string>\u001b[1;36m\u001b[0m\n\u001b[1;31mSyntaxError\u001b[0m\u001b[1;31m:\u001b[0m invalid or missing encoding declaration for '_gethNow.bat'\n"
     ]
    }
   ],
   "source": [
    "%load _gethNow.bat"
   ]
  }
 ],
 "metadata": {
  "kernelspec": {
   "display_name": "Python 3",
   "language": "python",
   "name": "python3"
  },
  "language_info": {
   "codemirror_mode": {
    "name": "ipython",
    "version": 3
   },
   "file_extension": ".py",
   "mimetype": "text/x-python",
   "name": "python",
   "nbconvert_exporter": "python",
   "pygments_lexer": "ipython3",
   "version": "3.11.5"
  }
 },
 "nbformat": 4,
 "nbformat_minor": 2
}
