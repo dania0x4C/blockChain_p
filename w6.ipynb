{
 "cells": [
  {
   "cell_type": "code",
   "execution_count": null,
   "metadata": {},
   "outputs": [],
   "source": [
    "import pycoin.ecdsa as ecdsa\n",
    "\n",
    "e=ecdsa.ellipticcurve.CurveFp(29,-3,4)\n",
    "print(e.p(), e.a(),e.b())\n",
    "#29 -3 4\n",
    "\n",
    "# 특정 요소가 타원곡선에 존재하는지 확인할 수 있다. 시작점 (0,2)와 (22,1)은 곡선 상에 존재하지만, (22,3)은 그렇지 않다.\n",
    "\n",
    "\n",
    "print(\"should be True (on curve) -> \", e.contains_point(0,2))\n",
    "#should be True (on curve) ->  True\n",
    "print(\"should be True (on curve) -> \", e.contains_point(22,1))\n",
    "#ld be True (on curve) ->  True\n",
    "print(\"Should be False (not on curve) -> \", e.contains_point(22,3))\n",
    "#Should be False (not on curve) ->  False"
   ]
  },
  {
   "cell_type": "code",
   "execution_count": null,
   "metadata": {},
   "outputs": [],
   "source": [
    "import matplotlib.pyplot as plt\n",
    "import numpy as np\n",
    "\n",
    "G=ecdsa.Point(e,0,2)\n",
    "print(\"The generator point\", G)\n",
    "\n",
    "for k in range(1,31):\n",
    "  print(k, str(k*G))\n",
    "  P=k*G\n",
    "  plt.scatter(P.x(),P.y())\n",
    "  plt.text(P.x(),P.y(),str(P))\n",
    "\n",
    "plt.xlabel('x')\n",
    "plt.ylabel('y')\n",
    "plt.show()"
   ]
  },
  {
   "cell_type": "code",
   "execution_count": null,
   "metadata": {},
   "outputs": [],
   "source": [
    "# miner.start(1);admin.sleepBlocks(1);miner.stop()\n",
    "# 한건만 거래하고 정지"
   ]
  },
  {
   "cell_type": "code",
   "execution_count": 1,
   "metadata": {},
   "outputs": [
    {
     "ename": "IndentationError",
     "evalue": "unexpected indent (2023647878.py, line 2)",
     "output_type": "error",
     "traceback": [
      "\u001b[1;36m  Cell \u001b[1;32mIn[1], line 2\u001b[1;36m\u001b[0m\n\u001b[1;33m    from: eth.accounts[0],\u001b[0m\n\u001b[1;37m    ^\u001b[0m\n\u001b[1;31mIndentationError\u001b[0m\u001b[1;31m:\u001b[0m unexpected indent\n"
     ]
    }
   ],
   "source": [
    "!geth web3.eth.sendTransaction({\n",
    "    from: eth.accounts[0],\n",
    "    to: \"0x672807a8c0f72a52d759942e86cfe33264e73934\",\n",
    "    data: \"0xcdcd77c000000000000000000000000000000000000000000000000000000000000000450000000000000000000000000000000000000000000000000000000000000001\",\n",
    "    gas: 400000}\n",
    ")\n"
   ]
  },
  {
   "cell_type": "code",
   "execution_count": 2,
   "metadata": {},
   "outputs": [
    {
     "name": "stdout",
     "output_type": "stream",
     "text": [
      "{'ins': [{'outpoint': {'hash': '5a4a44f45cb5653a770660833e747d0449dc91e5b02e815375702856bebe9c34',\n",
      "                       'index': 3},\n",
      "          'script': '47304402203f02d209168bb9c4e8fab3b2f2aca19be1f9032eaa85be3a029641eecf69e60d022055d7e22914bb4741ee8c1ab73e23766de034a82dae22dad0c13684d6cb098b9e012102c3a7056ad278bf04f2e5546e29466d8175ec4a052ad8f9901b32d53e442545a8',\n",
      "          'sequence': 4294967295},\n",
      "         {'outpoint': {'hash': '386218d00f9617b55883499e96165c4e035cb7dcde4db6b7713995e18ae19008',\n",
      "                       'index': 1},\n",
      "          'script': '4830450221009511497e136765037a75f75a126168502bfee73a7c286ea775968a7140368ef002200cfc776ade17b9444bb7ad13e71852974befd1d6fcfa196df677cd72a697c63b012102b8963213667c71471d62361fe27aad7ab2b8b102a6d93f7367634466e04b5422',\n",
      "          'sequence': 4294967295}],\n",
      " 'locktime': 0,\n",
      " 'outs': [{'script': 'a914ed91639c578b4c1f526525e6dcbc9fbc505fe76987',\n",
      "           'value': 47220000},\n",
      "          {'script': '76a9145f9a3e6e8029dd934a2a00a17aa8254c0975219988ac',\n",
      "           'value': 900433}],\n",
      " 'version': 1}\n"
     ]
    },
    {
     "data": {
      "text/plain": [
       "{'ins': [{'outpoint': {'hash': '5a4a44f45cb5653a770660833e747d0449dc91e5b02e815375702856bebe9c34',\n",
       "    'index': 3},\n",
       "   'script': '47304402203f02d209168bb9c4e8fab3b2f2aca19be1f9032eaa85be3a029641eecf69e60d022055d7e22914bb4741ee8c1ab73e23766de034a82dae22dad0c13684d6cb098b9e012102c3a7056ad278bf04f2e5546e29466d8175ec4a052ad8f9901b32d53e442545a8',\n",
       "   'sequence': 4294967295},\n",
       "  {'outpoint': {'hash': '386218d00f9617b55883499e96165c4e035cb7dcde4db6b7713995e18ae19008',\n",
       "    'index': 1},\n",
       "   'script': '4830450221009511497e136765037a75f75a126168502bfee73a7c286ea775968a7140368ef002200cfc776ade17b9444bb7ad13e71852974befd1d6fcfa196df677cd72a697c63b012102b8963213667c71471d62361fe27aad7ab2b8b102a6d93f7367634466e04b5422',\n",
       "   'sequence': 4294967295}],\n",
       " 'locktime': 0,\n",
       " 'outs': [{'script': 'a914ed91639c578b4c1f526525e6dcbc9fbc505fe76987',\n",
       "   'value': 47220000},\n",
       "  {'script': '76a9145f9a3e6e8029dd934a2a00a17aa8254c0975219988ac',\n",
       "   'value': 900433}],\n",
       " 'version': 1}"
      ]
     },
     "execution_count": 2,
     "metadata": {},
     "output_type": "execute_result"
    }
   ],
   "source": [
    "import bitcoin, pprint\n",
    "tx = '0100000002349cbebe5628707553812eb0e591dc49047d743e836006773a65b55cf4444a5a030000006a47304402203f02d209168bb9c4e8fab3b2f2aca19be1f9032eaa85be3a029641eecf69e60d022055d7e22914bb4741ee8c1ab73e23766de034a82dae22dad0c13684d6cb098b9e012102c3a7056ad278bf04f2e5546e29466d8175ec4a052ad8f9901b32d53e442545a8ffffffff0890e18ae1953971b7b64ddedcb75c034e5c16969e498358b517960fd0186238010000006b4830450221009511497e136765037a75f75a126168502bfee73a7c286ea775968a7140368ef002200cfc776ade17b9444bb7ad13e71852974befd1d6fcfa196df677cd72a697c63b012102b8963213667c71471d62361fe27aad7ab2b8b102a6d93f7367634466e04b5422ffffffff022085d0020000000017a914ed91639c578b4c1f526525e6dcbc9fbc505fe7698751bd0d00000000001976a9145f9a3e6e8029dd934a2a00a17aa8254c0975219988ac00000000'\n",
    "tx_structure = bitcoin.deserialize(tx)\n",
    "pprint.pprint(tx_structure)\n",
    "\n",
    "{'ins': [{'outpoint': {'hash': '5a4a44f45cb5653a770660833e747d0449dc91e5b02e815375702856bebe9c34',\n",
    "                       'index': 3},\n",
    "          'script': '47304402203f02d209168bb9c4e8fab3b2f2aca19be1f9032eaa85be3a029641eecf69e60d022055d7e22914bb4741ee8c1ab73e23766de034a82dae22dad0c13684d6cb098b9e012102c3a7056ad278bf04f2e5546e29466d8175ec4a052ad8f9901b32d53e442545a8',\n",
    "          'sequence': 4294967295},\n",
    "         {'outpoint': {'hash': '386218d00f9617b55883499e96165c4e035cb7dcde4db6b7713995e18ae19008',\n",
    "                       'index': 1},\n",
    "          'script': '4830450221009511497e136765037a75f75a126168502bfee73a7c286ea775968a7140368ef002200cfc776ade17b9444bb7ad13e71852974befd1d6fcfa196df677cd72a697c63b012102b8963213667c71471d62361fe27aad7ab2b8b102a6d93f7367634466e04b5422',\n",
    "          'sequence': 4294967295}],\n",
    " 'locktime': 0,\n",
    " 'outs': [{'script': 'a914ed91639c578b4c1f526525e6dcbc9fbc505fe76987',\n",
    "           'value': 47220000},\n",
    "          {'script': '76a9145f9a3e6e8029dd934a2a00a17aa8254c0975219988ac',\n",
    "           'value': 900433}],\n",
    " 'version': 1}"
   ]
  },
  {
   "cell_type": "code",
   "execution_count": 5,
   "metadata": {},
   "outputs": [
    {
     "data": {
      "text/plain": [
       "b'Hello'"
      ]
     },
     "execution_count": 5,
     "metadata": {},
     "output_type": "execute_result"
    }
   ],
   "source": [
    "import hashlib\n",
    "\n",
    "txA = \"Hello\"\n",
    "txB = 'How are you?'\n",
    "txC = 'This is Thursday'\n",
    "txD = 'Happy new Year'\n",
    "\n",
    "\"Hello\".encode()# binary code로 인코드"
   ]
  },
  {
   "cell_type": "code",
   "execution_count": 6,
   "metadata": {},
   "outputs": [],
   "source": [
    "_hashA=hashlib.sha256(hashlib.sha256(txA.encode()).digest()).hexdigest()\n",
    "_hashB=hashlib.sha256(hashlib.sha256(txB.encode()).digest()).hexdigest()\n",
    "\n",
    "for i in range(0, _hashA*2, 2):"
   ]
  },
  {
   "cell_type": "code",
   "execution_count": 7,
   "metadata": {},
   "outputs": [],
   "source": [
    "def mining(nzeros):\n",
    "    import hashlib\n",
    "    found=False\n",
    "    blockNumber=54 # hex\n",
    "    NONCE=0\n",
    "    data='Hello'\n",
    "    previousHash='5d7c7ba21cbbcd75d14800b100252d5b428e5b1213d27c385bc141ca6b47989e'\n",
    "    while found==False:\n",
    "        z=str(blockNumber)+str(NONCE)+data+previousHash\n",
    "        guessHash=hashlib.sha256(z.encode('utf-8')).hexdigest()# hash값 만들기\n",
    "        # e.g. nzeros=4 -> str(pow(10,nzeros))[1:nzeros+1] -> \"0000\"\n",
    "        if guessHash[:nzeros]==str(pow(10,nzeros))[1:nzeros+1]:\n",
    "            found=True\n",
    "        NONCE+=1\n",
    "        if(NONCE%pow(10,nzeros)==0):   #print guessHash every 10000000\n",
    "            print(\"NONCE: \",NONCE, guessHash)\n",
    "    print(\"Solved \", \"NONCE: \", NONCE, \"guessHash: \", guessHash)\n",
    "    return guessHash"
   ]
  },
  {
   "cell_type": "code",
   "execution_count": 8,
   "metadata": {},
   "outputs": [
    {
     "name": "stdout",
     "output_type": "stream",
     "text": [
      "NONCE:  10000 e0458f4777612b5565be6df81b53f76943dac3f77939e886e0dc5a2fb5ad1855\n",
      "NONCE:  20000 051a66b1b1f972abb6b1ce04574551d5fea86751e18b1588d556627f11c424da\n",
      "NONCE:  30000 931475a41686265ee9f65ac07341ba85c021ca8c426990981bb582d2fbfb2299\n",
      "NONCE:  40000 4310482b52d76dea37f4ad6910bfe2bc06b4a8b63ac005b9c784f868d0fe84f2\n",
      "NONCE:  50000 8b810c0fe332eeb08db6c982170ce905567fe4a6b1a973b5b3f8db37cce0e415\n",
      "NONCE:  60000 7b8d4b1341494a017bd61a42a13ab115b95977705e08e5879d8c4934045e62ca\n",
      "NONCE:  70000 93033e94e4570eee1e720b475fec2756eaa564c0fc5beac5638a615ab46ede8c\n",
      "NONCE:  80000 2026dca4bf2d9389adc13e50d73e4b2d0f01d41b8352530b37fbf5b5080300f8\n",
      "NONCE:  90000 bc9c3c347d9fcff8723440a80815c1100fc3455554ed1dc21b78b06c226c5d64\n",
      "Solved  NONCE:  94280 guessHash:  000043ce4a61d02bff0e68ba18a7daf448cb3b93691fdd4850f6cd3f85b7a13f\n"
     ]
    },
    {
     "data": {
      "text/plain": [
       "'000043ce4a61d02bff0e68ba18a7daf448cb3b93691fdd4850f6cd3f85b7a13f'"
      ]
     },
     "execution_count": 8,
     "metadata": {},
     "output_type": "execute_result"
    }
   ],
   "source": [
    "mining(4)"
   ]
  },
  {
   "cell_type": "code",
   "execution_count": 9,
   "metadata": {},
   "outputs": [
    {
     "name": "stdout",
     "output_type": "stream",
     "text": [
      "NONCE:  100000 218b6da50df07b86cb603e3ca2e1928381839996c426298dd89b2c98828eda19\n",
      "NONCE:  200000 0ec28e8a713b0d08e115b1f3798d00301b90638e5c524209ee583fd013155140\n",
      "NONCE:  300000 55e986ef1a8fae35e8a819561be3ae18491551904afdcde73770b083dc31d4bf\n",
      "Solved  NONCE:  315753 guessHash:  000007f9f69a43f1bb6ab92672d873b93d6bafaa2007e44b6151bd19efadf4d1\n"
     ]
    },
    {
     "data": {
      "text/plain": [
       "'000007f9f69a43f1bb6ab92672d873b93d6bafaa2007e44b6151bd19efadf4d1'"
      ]
     },
     "execution_count": 9,
     "metadata": {},
     "output_type": "execute_result"
    }
   ],
   "source": [
    "mining(5)# 앞의 0자가 몇 개인지가 난이도를 나타냄"
   ]
  },
  {
   "cell_type": "code",
   "execution_count": 2,
   "metadata": {},
   "outputs": [
    {
     "name": "stdout",
     "output_type": "stream",
     "text": [
      "[]\n"
     ]
    }
   ],
   "source": [
    "!geth --exec admin.peers attach http://localhost:8445"
   ]
  }
 ],
 "metadata": {
  "kernelspec": {
   "display_name": "Python 3",
   "language": "python",
   "name": "python3"
  },
  "language_info": {
   "codemirror_mode": {
    "name": "ipython",
    "version": 3
   },
   "file_extension": ".py",
   "mimetype": "text/x-python",
   "name": "python",
   "nbconvert_exporter": "python",
   "pygments_lexer": "ipython3",
   "version": "3.11.5"
  }
 },
 "nbformat": 4,
 "nbformat_minor": 2
}
